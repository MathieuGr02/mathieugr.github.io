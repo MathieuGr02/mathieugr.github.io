{
 "cells": [
  {
   "metadata": {},
   "cell_type": "markdown",
   "source": [
    "---\n",
    "title: Quantitation Probabilities\n",
    "layout: collection\n",
    "permalink: /Computational-Biology/Quantitation-Probabilities\n",
    "collection: Computational-Biology\n",
    "entries_layout: grid\n",
    "mathjax: true\n",
    "toc: true\n",
    "categories:\n",
    "  - study\n",
    "tags:\n",
    "  - mathematics\n",
    "  - statistics\n",
    "---"
   ],
   "id": "552432aa86aa9bf4"
  },
  {
   "metadata": {},
   "cell_type": "markdown",
   "source": [
    "For looking at probability of events, we set the following defintions. Let $A$ be an event and $I$ the \n",
    "given information:\n",
    "- $\\mathbb{P}(A \\| I)$: The probability that $A$ is true given the information $I$.\n",
    "- $\\mathbb{P}(AB \\| I)$: The probability that $A$ and $B$ are true given the information $I$.\n",
    "- $\\mathbb{P}(A \\|B I)$: The probability that $A$ is true given the information $I$ and that $B$ is true. "
   ],
   "id": "7fda494da9650db3"
  },
  {
   "metadata": {},
   "cell_type": "markdown",
   "source": [
    "### Boolean Operations:\n",
    "\n",
    "|  Not $A$ : $\\bar{A}$  |  1  |  0  |\n",
    "|:---------------------:|:---:|:---:|\n",
    "|          $A$          |  0  |  1  |\n",
    "\n",
    "| $A$ and $B$ : $AB$ | 0 | 0 | 0 | 1 |\n",
    "|:------------------:|:-:|:-:|:-:|:-:|\n",
    "|        $A$         | 0 | 0 | 1 | 1 |\n",
    "|        $B$         | 0 | 1 | 0 | 1 |\n",
    "\n",
    "| $A$ or $B$ : $A + B$ | 0 | 1 | 1 | 1 |\n",
    "|:--------------------:|:-:|:-:|:-:|:-:|\n",
    "|         $A$          | 0 | 0 | 1 | 1 |\n",
    "|         $B$          | 0 | 1 | 0 | 1 |\n",
    "\n",
    "| $A$ implies $B$ : $A \\rightarrow B$ | 1 | 1 | 0 | 1 |\n",
    "|:---------------------------------:|:-:|:-:|:-:|:-:|\n",
    "|                $A$                | 0 | 0 | 1 | 1 |\n",
    "|                $B$                | 0 | 1 | 0 | 1 |"
   ],
   "id": "18fdcabd0b2ebe8e"
  },
  {
   "metadata": {},
   "cell_type": "markdown",
   "source": "The usage of such tables for larger systems is called the disjunctive normal form, where *AND's* and *OR's* are connected to make new statements.",
   "id": "ee3d47eefe8a0367"
  },
  {
   "metadata": {},
   "cell_type": "markdown",
   "source": [
    "# Rules of probabilities\n",
    "\n",
    "1. Probabilites are real numbers between 0 (false) and 1 (true)\n",
    "2. For false/true statements, the rules reduce to the rules of Boolean logic.\n",
    "3. Consistency: If a probability can be derived in different was, it should give the same results.\n",
    "\n",
    "The two main rules of probability, wherefrom every other rule can be derived are:\n",
    "1. $$\\mathbb{P}(A | I) + \\mathbb{P}(\\bar{A} | I)  = 1$$\n",
    "2. $$ \\mathbb{P}(AB | I) = \\mathbb{P}(A | BI)\\mathbb{P}(B | I) = \\mathbb{P}(B | AI)\\mathbb{P}(A | I)$$ \n",
    "\n",
    "\n",
    "For example we have\n",
    "\n",
    "$$\n",
    "\\mathbb{P}(A + B | I) = \\mathbb{P}(A | I) + \\mathbb{P}(B | I) - \\mathbb{P}(AB | I)\n",
    "$$\n",
    "\n",
    "<details>\n",
    "<summary> Proof </summary>\n",
    "$$\n",
    "\\begin{align*}\n",
    "\\mathbb{P}(A + B | I) \n",
    "&=\\mathbb{P}(\\overline{\\bar{A}\\bar{B}} | I) \\\\\n",
    "&=1 - \\mathbb{P}(\\bar{A}\\bar{B} | I) \\\\\n",
    "&= 1 - (\\mathbb{P}(\\bar{A} | \\bar{B}I)\\mathbb{P}(\\bar{B} | I)) \\\\\n",
    "&= 1 - (1 - \\mathbb{P}(A | \\bar{B}I))\\mathbb{P}(\\bar{B} | I)) \\\\\n",
    "&= 1 - \\mathbb{P}(\\bar{B} | I) + \\mathbb{P}(A | \\bar{B}I)\\mathbb{P}(\\bar{B} | I) \\\\\n",
    "&= \\mathbb{P}(B | I) + (\\mathbb{P}(\\bar{B} | AI) \\mathbb{P}(A |I)) \\\\\n",
    "&= \\mathbb{P}(B | I) + (1 - \\mathbb{P}(B | AI)) \\mathbb{P}(A |I) \\\\\n",
    "&= \\mathbb{P}(B | I) + \\mathbb{P}(A |I) - \\mathbb{P}(B | AI)\\mathbb{P}(A |I) \\\\\n",
    "&= \\mathbb{P}(B | I) + \\mathbb{P}(A |I) - \\mathbb{P}(AB | I) \\quad q.e.d\n",
    "\\end{align*}\n",
    "$$\n",
    "</details>\n",
    "\n",
    "Now lets imagine we have $n$ possible outcomes, $A_1, ..., A_n$, where each event is mutually exclusive,\n",
    " meaning that if $A_i$ is true, then all others are false and that they are exhaustive, \n",
    " meaning that one out of all events must be true. With this we get the following properties:\n",
    "\n",
    "$$\n",
    "\\mathbb{P}(A_i A_j | I) = 0 \\ \\forall i \\neq j \\quad \\text{and} \\quad \\sum_{i = 1}^n \\mathbb{P}(A_i | I) = 1\n",
    "$$\n",
    "\n",
    "Because we provide no further information with which we can distinguish event $A_i$ from $A_j$, we treat them all as the same and we finally get:\n",
    "\n",
    "$$\n",
    "\\mathbb{P}(A_i | I) = \\frac{1}{n} \\ \\forall i\n",
    "$$"
   ],
   "id": "f83f8f03eb11d156"
  }
 ],
 "metadata": {
  "kernelspec": {
   "display_name": "Python 3",
   "language": "python",
   "name": "python3"
  },
  "language_info": {
   "codemirror_mode": {
    "name": "ipython",
    "version": 2
   },
   "file_extension": ".py",
   "mimetype": "text/x-python",
   "name": "python",
   "nbconvert_exporter": "python",
   "pygments_lexer": "ipython2",
   "version": "2.7.6"
  }
 },
 "nbformat": 4,
 "nbformat_minor": 5
}
