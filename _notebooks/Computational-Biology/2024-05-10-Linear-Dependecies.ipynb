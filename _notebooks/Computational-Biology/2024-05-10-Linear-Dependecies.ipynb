{
 "cells": [
  {
   "metadata": {},
   "cell_type": "markdown",
   "source": [
    "---\n",
    "title: Linear Dependecies\n",
    "layout: collection\n",
    "permalink: /Computational-Biology/Linear-Dependecies\n",
    "collection: Computational-Biology\n",
    "mathjax: true\n",
    "toc: true\n",
    "categories:\n",
    "  - study\n",
    "tags:\n",
    "  - mathematics\n",
    "  - statistics\n",
    "---"
   ],
   "id": "30fe628cae2e89cc"
  },
  {
   "metadata": {},
   "cell_type": "markdown",
   "source": "### Linear Regression discrepancy",
   "id": "76cc01ab6fec9480"
  }
 ],
 "metadata": {
  "kernelspec": {
   "display_name": "Python 3",
   "language": "python",
   "name": "python3"
  },
  "language_info": {
   "codemirror_mode": {
    "name": "ipython",
    "version": 2
   },
   "file_extension": ".py",
   "mimetype": "text/x-python",
   "name": "python",
   "nbconvert_exporter": "python",
   "pygments_lexer": "ipython2",
   "version": "2.7.6"
  }
 },
 "nbformat": 4,
 "nbformat_minor": 5
}
