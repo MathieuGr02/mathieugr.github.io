{
 "cells": [
  {
   "cell_type": "markdown",
   "source": [
    "---\n",
    "title: Mixture Models\n",
    "layout: collection\n",
    "permalink: /Machine-Learning/Mixture-Models\n",
    "collection: Machine-Learning\n",
    "entries_layout: grid\n",
    "mathjax: true\n",
    "toc: true\n",
    "categories:\n",
    "  - study\n",
    "tags:\n",
    "  - mathematics\n",
    "  - statistics\n",
    "  - machine-learning \n",
    "---"
   ],
   "metadata": {
    "collapsed": false
   },
   "id": "83ad73fd05231b76"
  },
  {
   "cell_type": "code",
   "source": [
    "import numpy as np\n",
    "import matplotlib.pyplot as plt\n",
    "import seaborn as sns\n",
    "from scipy import stats\n",
    "from matplotlib import cm\n",
    "\n",
    "sns.set_theme()"
   ],
   "metadata": {
    "collapsed": true,
    "ExecuteTime": {
     "end_time": "2024-05-25T19:23:48.216024Z",
     "start_time": "2024-05-25T19:23:48.203028Z"
    }
   },
   "id": "initial_id",
   "outputs": [],
   "execution_count": 2
  },
  {
   "cell_type": "markdown",
   "source": [
    "In mixture models we assume that the input examples come from different potentially unobserved types (groups, clusters etc.).\n",
    "We assume that there are $m$ underlying types where each type $z$ occurs with a certain probability $ \\mathbb{P}(z) $.\n",
    "The examples of the type $z$ are then conditionally distributed $ \\mathbb{P}(\\mathbf{x}|z )  $. \n",
    "The observations $ \\mathbf{x}   $ then come from a so called mixture distribution, which is just the weighted sum of the type probability times the conditional type probability\n",
    "\n",
    "$$\n",
    "\\mathbb{P}(\\mathbf{x} ) = \\sum_{j=1}^m  \\mathbb{P}(z=j) \\mathbb{P}(\\mathbf{x} | z=j, \\mathbf{\\theta}_j )   \n",
    "$$\n",
    "\n",
    "A mixture of gaussians model has the form\n",
    "\n",
    "$$\n",
    "\\mathbb{P}(\\mathbf{x} | \\mathbf{\\theta}  ) = \\sum_{j=1}^m \\pi_j \\mathcal{N}(\\mathbf{x} | \\mathbf{\\mu}_j, \\Sigma_j  )    \n",
    "$$\n",
    "\n",
    "where $ \\mathbf{\\theta} = \\pi_1, ..., \\pi_m | \\mathbf{\\mu}_1, ..., \\mathbf{\\mu}_m | \\Sigma_1, ..., \\Sigma_m   $. $\\pi_j$is the so called mixing proportion which can be seen as the probability of an observations coming from a class $j$. Thus the probability of a class itself.\n",
    "\n",
    "# Data generation\n",
    "\n",
    "During the data generation, with probability $ \\mathbb{P}(z)  $ class $z_j$ is chosen and the sample points $ \\mathbf{x} $ are chosen from the conditional distribution $ \\mathbb{P}(\\mathbf{x} | z = j )  $.\n",
    "For a two class system, our sample points $ \\mathbf{x}  $ could then have been generated in two ways. We thus would like to find out the underlying distribution of our observations.\n",
    "\n",
    "# Latent Variable Models (LVM).\n",
    "\n",
    "In the model $ \\mathbb{P}(\\mathbf{x} | z=j, \\mathbf{\\theta})$ the class indicator variable $z$ is latent. This means that $z$ is a variable that can only be indirectly inferred through mathematical models from other observable variables that can directly be observed. \n",
    "They are not directly measurable / observed.\n",
    "This then is an example of a large class of latent variable models (LVM).\n",
    "We use the Bayesian network (DAG) as a graphical representation of the join distribution of RVs as $\\mathbb{P}(x_1, ..., x_n) = \\prod_{i=1}^n \\mathbb{P}(x_i | parents(x_i))$, i.e.\n",
    "\n",
    "$$\n",
    "\\mathbb{P}(x_i | \\mathbf{\\theta}) = \\sum_{z_i} \\mathbb{P}(\\mathbf{x}_i, z_i | \\mathbf{\\theta}) = \\sum_{z_i} \\mathbb{P}(\\mathbf{x}_i | \\mathbf{\\mu}, \\Sigma, z_i) \\mathbb{P}(z_i | \\mathbf{\\pi})\n",
    "$$\n",
    "\n",
    "In this graph our RVs are $ \\mathbf{x}_i$ and $z_i$ which hold the parameters $ \\mathbf{\\mu}, \\Sigma $ and  $\\mathbf{\\pi}$."
   ],
   "metadata": {
    "collapsed": false
   },
   "id": "38af7ed5f1f4bcd0"
  },
  {
   "metadata": {},
   "cell_type": "markdown",
   "source": "![LV-MixtureModel](LV-MixtureModel.png)",
   "id": "c8d12a9aa156981"
  },
  {
   "metadata": {},
   "cell_type": "markdown",
   "source": [
    "If we now assume we have a two component mixture model then we can write our probability of $ \\mathbf{x}$ given the parameters  $ \\mathbf{\\theta} $ as followed\n",
    "\n",
    "$$\n",
    "\\mathbb{P}(\\mathbf{x} | \\mathbf{\\theta}) = \\pi_1 \\mathbb{P}(\\mathbf{x} | \\mathbf{\\mu}_1, \\Sigma_1) + \\pi_2 \\mathbb{P}(\\mathbf{x} | \\mathbf{\\mu}_2, \\Sigma_2)\n",
    "$$\n",
    "\n",
    "# Mixture density estimation\n",
    "\n",
    "If we knew our generating component $z_i$, the estimation of the points $ \\mathbf{x} $ would be easy.\n",
    "Let $\\delta(j|i)$ be an indicator function of whether an example $i$ is labeled $j$. \n",
    "Then for our class distribution we can estimate the parameters by\n",
    "\n",
    "$$\n",
    "\\begin{align*}\n",
    "    &\\hat{\\pi}_j &\\leftarrow &\\frac{\\sum_{i=1}^n \\delta(j|i)}{n} = \\frac{\\hat{n}_j}{n} \\\\\n",
    "    &\\hat{\\mathbf{\\mu}}_j &\\leftarrow  &\\frac{1}{\\hat{n}_j} \\sum_{i=1}^n \\delta(j|i) \\mathbf{x}_i \\\\\n",
    "    &\\hat{\\Sigma}_j &\\leftarrow &\\frac{1}{\\hat{n}_j} \\sum_{i=1}^n \\delta(j|i)(\\mathbf{x}_i - \\mathbf{\\mu}_j)(\\mathbf{x}_i - \\mathbf{\\mu}_j)^T\n",
    "\\end{align*}\n",
    "$$\n",
    "\n",
    "Even though we don't know our labels, we can estimate them based on our calculated distributions.\n",
    "\n",
    "$$\n",
    "\\mathbb{P}(z=1 | \\mathbf{x}, \\mathbf{\\theta}) \n",
    "= \n",
    "\\frac{\\mathbb{P}(z=1) \\mathbb{P}(\\mathbf{x}|z=1)}{\\sum_{j=1, 2} \\mathbb{P}(z=j)\\mathbb{P}(\\mathbf{x} | z=j)} \n",
    "= \n",
    "\\frac{\\pi_1 \\mathbb{P}(\\mathbf{x}|\\mathbf{\\mu}_1, \\Sigma_1)}{\\sum_{j=1, 2} \\pi_j \\mathbb{P}(\\mathbf{x} | \\mathbf{\\mu}_j, \\Sigma_j)}\n",
    "$$\n",
    "\n",
    "Our soft labels i.e. the prob of a given latent variable is then just the posterior. Thus by calculating the posterior we get the mixture probability.\n",
    "We write our soft labels as $ \\hat{p}(j|i) $, thus the probability of point $i$ being of class $j$.\n",
    "$z_i$ here is then the class of $ \\mathbf{x}_i $."
   ],
   "id": "4f47340b21ad1a53"
  },
  {
   "metadata": {},
   "cell_type": "markdown",
   "source": [
    "# EM-Algorithm\n",
    "\n",
    "* E-Step: Softly assign examples to mixture models\n",
    "\n",
    "$$\n",
    "\\hat{p}(j|i) \\leftarrow \\mathbb{P}(z_i = j | \\mathbf{x}_i, \\mathbf{\\theta}^t)\n",
    "$$\n",
    "\n",
    "* M-Step: Estimate new mixture parameters $ \\mathbf{\\theta}^{t+1}$ based on soft assignements\n",
    "\n",
    "$$\n",
    "\\begin{align*}\n",
    "    &\\hat{\\pi}_j &\\leftarrow &\\frac{\\sum_{i=1}^n \\delta(j|i)}{n} = \\frac{\\hat{n}_j}{n} \\\\\n",
    "    &\\hat{\\mathbf{\\mu}}_j &\\leftarrow  &\\frac{1}{\\hat{n}_j} \\sum_{i=1}^n \\delta(j|i) \\mathbf{x}_i \\\\\n",
    "    &\\hat{\\Sigma}_j &\\leftarrow &\\frac{1}{\\hat{n}_j} \\sum_{i=1}^n \\delta(j|i)(\\mathbf{x}_i - \\mathbf{\\mu}_j)(\\mathbf{x}_i - \\mathbf{\\mu}_j)^T\n",
    "\\end{align*}\n",
    "$$\n"
   ],
   "id": "ac0ada68fa8f9f7c"
  },
  {
   "metadata": {},
   "cell_type": "markdown",
   "source": [
    "# Bayesian model selection\n",
    "\n",
    "Because we do not know the amount of mixture components there are in our data, we have to perform a model seletion. \n",
    "A simple way to approximate the amount of mixture components is to find $m$ that minimizes the overall description length of the model, i.e. the BIC for example.\n",
    "\n",
    "$$\n",
    "DL \\approx -\\log \\mathbb{P}(data | \\hat{\\mathbf{\\theta}}_m) + \\frac{d_m}{n} \\log(n)\n",
    "$$\n",
    "\n",
    "where $n$ is the number of training points, $\\hat{\\mathbf{\\theta}}_m$ are the maximum likelihood parameters of the $m$-mixture component model and $d_m$ is the number of parameters in the $m$-mixture component model."
   ],
   "id": "21c27a074761f6e2"
  },
  {
   "metadata": {},
   "cell_type": "markdown",
   "source": [
    "# Convergence of the EM-Algorithm\n",
    "\n",
    "Because the EM-algorithm monotonically increases the log-likelihood of the training data, the EM-algorithm is guaranteed to converge atleast to a local optima\n",
    "\n",
    "$$\n",
    "I(\\mathbf{\\theta}^0) < I(\\mathbf{\\theta}^1) < I(\\mathbf{\\theta}^2) < ....\n",
    "$$\n",
    "\n",
    "with\n",
    "\n",
    "$$\n",
    "I(\\mathbf{\\theta}^t) = \\sum_{i=1}^n \\log(\\mathbb{P}(\\mathbf{x}_i | \\mathbf{\\theta}^t))\n",
    "$$\n",
    "\n",
    "For repetition the EM-Algorithm looks like\n",
    "\n",
    "* Step 0: Initialise parameter setting $ \\mathbf{\\theta} = \\mathbf{\\theta}^0$\n",
    "\n",
    "* E-Step: Softly assign examples to mixture models\n",
    "\n",
    "$$\n",
    "\\hat{p}(j|i) \\leftarrow \\mathbb{P}(z_i = j | \\mathbf{x}_i, \\mathbf{\\theta}^t)\n",
    "$$\n",
    "\n",
    "* M-Step: find the new setting of the parameter $ \\mathbf{\\theta}^{t+1} $ by maximizing the log-likelihood of the inferred (or expected complete) data \n",
    "\n",
    "$$\n",
    "\\mathbf{\\theta}^{t+1} = \\arg \\max_{\\theta} \\sum_{i=1}^n \\sum_{j=1}^m \\mathbb{P}(z=j | \\mathbf{x}_i, \\mathbf{\\theta}^t) \\log[\\pi_j \\mathbb{P}(\\mathbf{x}_i | \\mathbf{\\theta}_j)]\n",
    "$$\n",
    "\n",
    "The expected complete log-likelihood $Q(\\mathbf{\\theta}, \\mathbf{\\theta}^t)$ is called the auxiliary objective. The auxiliary function gives us new parameters which maximizes the expected log likelihood. This is the expectation of the log-likelihood with respect to the probability of the class assignements given the current model and input $ \\mathbf{x} $."
   ],
   "id": "8570a002aa3c9f80"
  },
  {
   "metadata": {},
   "cell_type": "markdown",
   "source": [
    "# Jensen's inequality\n",
    "\n",
    "For a convex function there exist always a secant line above the graph between two points"
   ],
   "id": "3d5655975bd6be90"
  },
  {
   "metadata": {
    "ExecuteTime": {
     "end_time": "2024-05-25T19:23:48.402061Z",
     "start_time": "2024-05-25T19:23:48.235026Z"
    }
   },
   "cell_type": "code",
   "source": [
    "x = np.arange(-2, 2, 0.01)\n",
    "y = x**2\n",
    "\n",
    "line = 1.25 * x + 1\n",
    "\n",
    "plt.title('Jensens Inequality')\n",
    "plt.plot(x, y, label='function')\n",
    "plt.plot(x, line, label='Upper bound')\n",
    "plt.legend()\n",
    "plt.show()"
   ],
   "id": "9013ea104e27ee08",
   "outputs": [
    {
     "data": {
      "text/plain": [
       "<Figure size 640x480 with 1 Axes>"
      ],
      "image/png": "[encoded data removed]"
     },
     "metadata": {},
     "output_type": "display_data"
    }
   ],
   "execution_count": 3
  },
  {
   "metadata": {},
   "cell_type": "markdown",
   "source": [
    "Thus for $a\\in[0, 1]$ we get our line $af(x_1) + (1 - a)f(x_2)$ which gives us then the jensen's inequality\n",
    "\n",
    "$$\n",
    "f(ax_1 + (1 - a)x_2) \\leq af(x_1) + (1 - a)f(x_2)\n",
    "$$\n",
    "\n",
    "For then X which is a RV and $\\phi$ a convex function, we get\n",
    "\n",
    "$$\n",
    "\\phi \\left( \\mathbb{E}[X] \\right) \\leq \\mathbb{E}[\\phi(X)]\n",
    "$$\n",
    "\n",
    "now if then $\\phi$ is convex, $\\psi = - \\phi$ is a concave function and we get\n",
    "\n",
    "$$\n",
    "\\psi \\left( \\mathbb{E}[X] \\right) \\geq \\mathbb{E}[\\psi(X)]\n",
    "$$\n",
    "\n",
    "for example the logarithm, which is a concave function which yields $\\log (\\mathbb{E}[X]) \\geq \\mathbb{E}[\\log(X)]$."
   ],
   "id": "d9f9c186bdb8c941"
  },
  {
   "metadata": {},
   "cell_type": "markdown",
   "source": [
    "# Gibbs inequality\n",
    "\n",
    "Given the definition of the  KL-divergence ($\\mathbb{KL}(p(x)||q(x))$), which is a distance measure of two distributions this gives together with the jensen's inequality the so called Gibbs' inequality.\n",
    "\n",
    "$$\n",
    "\\begin{align*}\n",
    "    -\\mathbb{KL}(p(x)||q(x)) \n",
    "    &=\n",
    "    \\int p(x) \\log \\left( \\frac{q(x)}{p(x)} \\right) dx \\\\\n",
    "    &\\leq \n",
    "    \\log \\left( \\int p(x) \\frac{q(x)}{p(x)}\\right) dx \\\\\n",
    "    &=\n",
    "    \\log \\left( \\int q(x) dx \\right)  \\\\\n",
    "    &=\n",
    "    0\n",
    "\\end{align*}\n",
    "$$\n",
    "\n",
    "Note that the KL-divergence is a non-negative value and iff $q=p \\Rightarrow \\mathbb{KL} = 0$, else $\\mathbb{KL} \\neq 0$."
   ],
   "id": "ce7029b3e4c9086d"
  },
  {
   "metadata": {},
   "cell_type": "markdown",
   "source": [
    "# Convergence proof\n",
    "\n",
    "Looking at the log-likelihood of our EM, we assume the latent variables are distributed according to $ q(z_i) $. \n",
    "We don't make any assumptions regarding $ q(z_i) $, other than that it is a valid probability distribution.\n",
    "$$\n",
    "\\begin{align*}\n",
    "    I(\\mathbf{\\theta}) \n",
    "    &=\n",
    "    \\sum_{i=1}^n \\log \\mathbb{P}(\\mathbf{x}_i | \\mathbf{\\theta}) \\\\\n",
    "    &=\n",
    "    \\sum_{i=1}^n \\log \\sum_{z_i} \\mathbb{P}(\\mathbf{x}_i, z_i | \\mathbf{\\theta}) \\\\\n",
    "    &=\n",
    "    \\sum_{i=1}^n \\log \\sum_{z_i} q(z_i) \\frac{\\mathbb{P}(\\mathbf{x}_i, z_i | \\mathbf{\\theta})}{q(z_i)} \\\\\n",
    "    &=\n",
    "    \\sum_{i=1}^n \\log \\mathbb{E}_{q_i} \\frac{\\mathbb{P}(\\mathbf{x}_i, z_i | \\mathbf{\\theta})}{q(z_i)} \\\\\n",
    "    &\\geq \n",
    "    \\sum_{i=1}^n \\sum_{z_i} q(z_i) \\log \\frac{\\mathbb{P}(\\mathbf{x}_i, z_i | \\mathbf{\\theta})}{q(z_i)} \\\\\n",
    "    & =: Q(\\theta, q)\n",
    "\\end{align*}\n",
    "$$\n",
    "\n",
    "Thus we get a lower bound on our likelihood which is valid for any given postive distribution q. \n",
    "We then would like to pick $q$ which gives the tighest lower bound, i.e. the one that maximizes the auxilirary function. This is the E-step of the EM algorithm.\n",
    "At time $t$, we assume we have chosen $q^t$ based on current parameters $ \\mathbf{\\theta}^t $.\n",
    "In the M-Step wou  would then like to maximize the expected complete log-likelihood\n",
    "\n",
    "$$\n",
    "\\mathbf{\\theta}^{t+1} = \\arg \\max_{\\mathbf{\\theta}} Q(\\mathbf{\\theta}, \\mathbf{\\theta}^t) = \\arg \\max_{\\mathbf{\\theta}} \\sum_{i=1}^n \\mathbb{E}_{q_i^t} \\log  \\mathbb{P}(\\mathbf{x}_i, z_i | \\mathbf{\\theta})\n",
    "$$\n",
    "\n",
    "This new $ \\mathbf{\\theta}$ maximizes our lower bound at step $t$. Thus the $ \\mathbf{\\theta} $ which we want to maximize in the M-Step also maximizes our lower bound, because our choise of $q^t$ depends on $ \\mathbf{\\theta}^t $.\n",
    "\n",
    "The second expression is what we want to do in the M-Step, i.e. we would like to maximize our Expected complete log likelihood which signifies the likelihood (probability) of our assignements of the points being of the correct class.\n",
    "The equility follows from \n",
    "\n",
    "$$\n",
    "Q(\\mathbf{\\theta}, q) = \\sum_{i=1}^n \\mathbb{E}_{q_i} \\log \\mathbb{P}(\\mathbf{x}_i, z_i | \\mathbf{\\theta}) + \\sum_{i=1}^n ( - \\sum_{z_i} q(z_i) \\log q(z_i))\n",
    "$$\n",
    "\n",
    "Because the second term is independent of $ \\mathbf{\\theta}^t $, if we want to maximize the expected complete log likelihood, we maximize our lower bound.\n",
    "\n",
    "For now the lower bound we rewrite this as \n",
    "\n",
    "$$\n",
    "Q(\\mathbf{\\theta}, q) = \\sum_{i} L(\\mathbf{\\theta}, q_i)\n",
    "$$\n",
    "\n",
    "with \n",
    "\n",
    "$$\n",
    "\\begin{align*}\n",
    "    L(\\mathbf{\\theta}, q_i) \n",
    "    &= \n",
    "    \\sum_{z_i} q(z_i) \\log \\frac{\\mathbb{P}(\\mathbf{x}_i, z_i | \\mathbf{\\theta})}{q(z_i)} \\\\\n",
    "    &=\n",
    "    \\sum_{z_i} q(z_i) \\log \\frac{\\mathbb{P}(z_i |\\mathbf{x}_i, \\mathbf{\\theta}) \\mathbb{P}(\\mathbf{x}_i | \\mathbf{\\theta})}{q(z_i) } \\\\\n",
    "    &=\n",
    "    \\sum_{z_i} q(z_i) \\log \\frac{\\mathbb{P}(z_i |\\mathbf{x}_i, \\mathbf{\\theta})}{q(z_i) } + \\sum_{z_i} q(z_i) \\log \\mathbb{P}(\\mathbf{x}_i | \\mathbf{\\theta}) \\\\\n",
    "    &=\n",
    "    - \\mathbb{KL}(q(z_i) || \\mathbb{P}(z_i | \\mathbf{x}_i, \\mathbf{\\theta})) + \\log  \\mathbb{P}(\\mathbf{x}_i | \\mathbf{\\theta})\n",
    "\\end{align*}\n",
    "$$\n",
    "\n",
    "Thus if we want to maximize the likelihood \\mathbb{L}(\\mathbf{\\theta}, q_i) we choose $q^t_i(z_i)$ which maximizes the KL-divergence, which is then exactly the distribution $ \\mathbb{P}(z_i | \\mathbf{x}_i, \\mathbf{\\theta}^t) $\n",
    "\n",
    "$$\n",
    "\\begin{align*}\n",
    "    q_i^t(z_i) = \\mathbb{P}(z_i | \\mathbf{x}_i, \\mathbf{\\theta}^t) &= \\arg \\max_{q_i} L(\\mathbf{\\theta}^t, q_i) \\\\\n",
    "    \\Rightarrow L(\\mathbf{\\theta}^t, q_i^t) &= \\log \\mathbb{P}(\\mathbf{x}_i | \\mathbf{\\theta}^t) \\\\\n",
    "    \\Rightarrow Q(\\mathbf{\\theta}^t, \\mathbf{\\theta}^t) = \\sum_{i} \\log \\mathbb{P}(\\mathbf{x}_i | \\mathbf{\\theta}^t) = I(\\mathbf{\\theta}^t)\n",
    "\\end{align*}\n",
    "$$\n",
    "\n",
    "Thus the lower bound always touches a specific point of the log-likelihood. \n",
    "We then maximize our auxilirary function and move in that direction, still touching the true log-likelihood. \n",
    "This causes us to monotonically increase our log-likelihood which converges then to a local optima of the true log-likelihood.\n",
    "The monotonic increase thus comes from\n",
    "\n",
    "$$\n",
    "I(\\mathbf{\\theta}^{t+1}) \\geq Q(\\mathbf{\\theta}^{t+1}, \\mathbf{\\theta}) = \\max_{\\mathbf{\\theta}} Q(\\mathbf{\\theta}, \\mathbf{\\theta}^{t}) \\geq Q(\\mathbf{\\theta}^t, \\mathbf{\\theta}^t) = I(\\mathbf{\\theta}^t)\n",
    "$$\n"
   ],
   "id": "53c9032bd810322d"
  },
  {
   "metadata": {},
   "cell_type": "markdown",
   "source": "![EM](Parameter-update-in-the-EM-algorithm.jpg)",
   "id": "eefaae34d752ac70"
  },
  {
   "metadata": {},
   "cell_type": "markdown",
   "source": [
    "We can thus summarize the EM-algorithm as\n",
    "\n",
    "1. E-Step: $\\mathbf{q}^t = \\arg \\max_{\\mathbf{q}} Q(\\mathbf{\\theta}^t, \\mathbf{q})$\n",
    "2. M-Step: $ \\mathbf{\\theta}^{t+1} = \\arg \\max_{\\mathbf{\\theta}} Q(\\mathbf{\\theta}, \\mathbf{\\theta}^t)$\n",
    "\n",
    "\n",
    "In the E-Step we estimate the expected value for each latent variable, i.e. the soft labels and in the M-Step we optimize the parameters with these new soft labels."
   ],
   "id": "61873647b175fff3"
  },
  {
   "metadata": {
    "ExecuteTime": {
     "end_time": "2024-05-25T20:12:01.354899Z",
     "start_time": "2024-05-25T20:12:01.334389Z"
    }
   },
   "cell_type": "code",
   "source": [
    "def EM(X: np.array, K: int) -> tuple[np.array, np.array]:\n",
    "    means = np.array([[-1, -1], [1, 1]])\n",
    "    covs = np.array([[[1, 0.8], [0.8, 1]], [[1, -0.4], [-0.4, 1]]])\n",
    "    \n",
    "    pz = np.zeros(K) + (1 / K)\n",
    "    \n",
    "    iteration = 0\n",
    "    converged = False\n",
    "    while not converged:\n",
    "        for k in range(K):\n",
    "            \n",
    "            # E-Step\n",
    "            nominator = pz[k] * stats.multivariate_normal(mean=means[k], cov=covs[k]).pdf(X) + 1e-4\n",
    "            denominator = np.sum([pz[i] * stats.multivariate_normal(mean=means[i], cov=covs[i]).pdf(X) + 1e-4 for i in range(K)])\n",
    "            r = nominator / denominator\n",
    "            pz[k] = np.mean(r)\n",
    "            # M-Step\n",
    "            means[k] = np.sum([r[i] * X[i] for i in range(len(X))]) / np.sum(r)\n",
    "            \n",
    "            cov = np.zeros((2, 2))\n",
    "            \n",
    "            for i in range(len(X)):\n",
    "                cov += r[i] * np.outer(X[i] - means[k], X[i] - means[k])\n",
    "            covs[k] = cov /  np.sum(r)  \n",
    "            \n",
    "            #means[k] = r.T @ X / np.sum(r) + 1e-4\n",
    "            \n",
    "            #covs[k] = ((X * r[:, None])  - means[k]).T @ (X - means[k]) / np.sum(r)  + 1e-4 \n",
    "            \n",
    "            \n",
    "            log_likelihood = ...\n",
    "            \n",
    "        iteration += 1\n",
    "        \n",
    "        if iteration > 100:\n",
    "            print('stop')\n",
    "            break\n",
    "    return means, covs"
   ],
   "id": "9cd3c176faf18973",
   "outputs": [],
   "execution_count": 201
  },
  {
   "metadata": {
    "ExecuteTime": {
     "end_time": "2024-05-25T20:15:17.173434Z",
     "start_time": "2024-05-25T20:15:16.399280Z"
    }
   },
   "cell_type": "code",
   "source": [
    "np.random.seed(0)\n",
    "x = np.arange(-10, 10, 0.1)\n",
    "X, Y = np.meshgrid(x, x)\n",
    "pos = np.dstack((X, Y))\n",
    "\n",
    "norm1 = stats.multivariate_normal([3, 3], [[3, 2], [2, 3]])\n",
    "norm2 = stats.multivariate_normal([-2, -2], [[2, 1], [-2, 5]])\n",
    "\n",
    "class1 = norm1.rvs(size=100)\n",
    "class2 = norm2.rvs(size=100)\n",
    "\n",
    "data = np.vstack((class1, class2))\n",
    "mean , cov = EM(data, 2)\n",
    "print(mean, cov)\n",
    "x = np.arange(-10, 10, 0.1)\n",
    "\n",
    "norm1_pred = stats.multivariate_normal(mean[0], cov[0])\n",
    "norm2_pred = stats.multivariate_normal(mean[1], cov[1])\n",
    "\n",
    "Z1 = norm1_pred.pdf(pos)\n",
    "Z2 = norm2_pred.pdf(pos)\n",
    "\n",
    "levels = np.arange(0.0, 0.1, 0.01) + 0.01\n",
    "\n",
    "plt.contourf(X, Y, Z1, levels, extent=(-3,3,-2,2),cmap=cm.Blues, alpha=1)\n",
    "plt.contourf(X, Y, Z2, levels, extent=(-3,3,-2,2),cmap=cm.Reds, alpha=1)\n",
    "plt.scatter(class1[:, 0], class1[:, 1], marker='^', label='Class 1')\n",
    "plt.scatter(class2[:, 0], class2[:, 1], marker='+', label='Class 2')\n",
    "plt.legend()\n",
    "plt.show()"
   ],
   "id": "5b2e5983585694f7",
   "outputs": [
    {
     "name": "stdout",
     "output_type": "stream",
     "text": [
      "stop\n",
      "[[0 0]\n",
      " [1 1]] [[[ 8.40027867  6.95616178]\n",
      "  [ 6.95616178 10.5413611 ]]\n",
      "\n",
      " [[ 8.52422479  7.14547898]\n",
      "  [ 7.14547898 10.74023968]]]\n"
     ]
    },
    {
     "data": {
      "text/plain": [
       "<Figure size 640x480 with 1 Axes>"
      ],
      "image/png": "[encoded data removed]"
     },
     "metadata": {},
     "output_type": "display_data"
    }
   ],
   "execution_count": 213
  },
  {
   "metadata": {
    "ExecuteTime": {
     "end_time": "2024-05-25T20:13:40.103475Z",
     "start_time": "2024-05-25T20:13:39.977527Z"
    }
   },
   "cell_type": "code",
   "source": [
    "np.random.seed(0)\n",
    "x = np.arange(-10, 10, 0.1)\n",
    "X, Y = np.meshgrid(x, x)\n",
    "pos = np.dstack((X, Y))\n",
    "\n",
    "\n",
    "norm1 = stats.multivariate_normal([3, 3], [[3, 2], [2, 3]])\n",
    "norm2 = stats.multivariate_normal([-2, -2], [[2, 1], [-2, 5]])\n",
    "\n",
    "class1 = norm1.rvs(size=100)\n",
    "class2 = norm2.rvs(size=100)\n",
    "\n",
    "Z1 = norm1.pdf(pos)\n",
    "Z2 = norm2.pdf(pos)\n",
    "\n",
    "levels = np.arange(0.0, 0.1, 0.01) + 0.01\n",
    "\n",
    "#plt.contourf(X, Y, Z1, levels, extent=(-3,3,-2,2),cmap=cm.Blues, alpha=1)\n",
    "#plt.contourf(X, Y, Z2, levels, extent=(-3,3,-2,2),cmap=cm.Reds, alpha=1)\n",
    "plt.scatter(class1[:, 0], class1[:, 1], marker='^', label='Class 1')\n",
    "plt.scatter(class2[:, 0], class2[:, 1], marker='+', label='Class 2')\n",
    "plt.legend()\n",
    "plt.show()"
   ],
   "id": "78c720a96e93646c",
   "outputs": [
    {
     "data": {
      "text/plain": [
       "<Figure size 640x480 with 1 Axes>"
      ],
      "image/png": "[encoded data removed]"
     },
     "metadata": {},
     "output_type": "display_data"
    }
   ],
   "execution_count": 207
  },
  {
   "metadata": {},
   "cell_type": "markdown",
   "source": [
    "# Conditional Mixtures\n",
    "\n",
    "Sometimes a regression or classification problem can be decomposed into easier subproblems, where each sub problem is solved by a specific expert.\n",
    "The selection of which expert to rely on now depends on the position of $ \\mathbf{x} $ in the input space\n",
    "This is the so called mixtures of experts models.\n",
    "\n",
    "Suppose we have several regression experts generating conditional Gaussian outputs\n",
    "\n",
    "$$\n",
    "\\mathbb{P}(y | \\mathbf{x}, z=j, \\mathbf{\\theta}) = \\mathcal{N}(y | \\beta^T_j \\mathbf{x}, \\sigma_j^2)\n",
    "$$\n",
    "\n",
    "where $ \\mathbf{\\delta}_j = \\{ \\beta_j, \\sigma^2_j \\} $ are the parameters of the j-ith expert.\n",
    "The paremeter vector $ \\mathbf{\\theta} $ contains the means and variances of the $m$ experts and the additional parameters $ \\mathbf{\\eta} $ of this allocation mechanism $ \\mathbf{\\theta} = \\{ \\mathbf{\\delta}_j, \\mathbf{\\eta}_j \\}^m_{j=1} $."
   ],
   "id": "9a578c87818238af"
  },
  {
   "metadata": {},
   "cell_type": "markdown",
   "source": "![expert-DAG](expert-DAG.png)",
   "id": "bca39a21a5a6b9a3"
  },
  {
   "metadata": {},
   "cell_type": "markdown",
   "source": [
    "From the DAG we conclude that\n",
    "\n",
    "$$\n",
    "\\begin{align*}\n",
    "    \\mathbb{\\mathbb{P}(y, z=j | \\mathbf{x})} \n",
    "    &=\n",
    "    \\mathbb{P}(y | \\mathbf{\\delta}, z=j, \\mathbf{x}) \\mathbb{P}(z=j | \\mathbf{\\eta}, \\mathbf{x}) \\\\\n",
    "    &=\n",
    "    \\mathbb{P}(y | \\mathbf{\\delta}_j, \\mathbf{x}) \\mathbb{P}(z=j | \\mathbf{\\eta}, \\mathbf{x}) \\\\\n",
    "    &=\n",
    "    \\mathcal{N}(y | \\beta_j^t \\mathbf{x}, \\sigma^2_j) \\mathbb{P}(z=j | \\mathbf{\\eta}, \\mathbf{x})\n",
    "\\end{align*}\n",
    "$$\n",
    "\n",
    "Thus the overall prediction is \n",
    "\n",
    "$$\n",
    "\\begin{align*}\n",
    "    \\mathbb{P}(y| \\mathbf{x}, \\mathbb{\\theta})\n",
    "    &=\n",
    "    \\sum_j \\mathbb{P}(y, z=j | \\mathbf{x}, \\mathbf{\\eta}, \\mathbf{\\delta}) \\\\\n",
    "    &=\n",
    "    \\sum_j \\mathbb{P}(z=j | \\mathbf{x}, \\mathbf{\\eta}) \\mathbb{P}(y | \\mathbf{x}, \\mathbf{\\delta}_j) \\\\\n",
    "    &=\n",
    "    \\sum_j \\mathbb{P}(z=j | \\mathbf{x}, \\mathbf{\\eta}) \\mathbb{P}(y | \\mathbf{x}, \\beta_j, \\sigma^2_j) \\\\\n",
    "\\end{align*}\n",
    "$$"
   ],
   "id": "b233b99e9cbcbd93"
  },
  {
   "metadata": {},
   "cell_type": "markdown",
   "source": [
    "# Gating network\n",
    "\n",
    "If now we have multiple experts how would we switch from one model to another? \n",
    "We can use a probalistic switch, i.e. a probalistic gating function $ \\mathbb{P}(z|\\mathbf{x}m, \\mathbf{\\eta}) $ which tells us the probability of a input beloning to a expert.\n",
    "For example for a two expers system, our gating network can be a logistic regression model\n",
    "\n",
    "$$\n",
    "\\mathbb{P}(z=1 | \\mathbf{x}, \\mathbf{\\eta}) = \\sigma(\\mathbf{\\eta}^t \\mathbf{x})\n",
    "$$\n",
    "\n",
    "For more experts we can just expand this to the usage of the softmax model\n",
    "\n",
    "$$\n",
    "\\mathbb{P}(z=j | \\mathbf{x}, \\mathbf{\\eta}) = \\frac{\\exp(\\mathbf{\\eta}_j^t \\mathbf{x})}{\\sum_{j'=1}^m \\exp(\\mathbf{\\eta}_\n",
    "{j'}^t \\mathbf{x}) }\n",
    "$$\n",
    "\n",
    "The so called soft label, i.e. the conditional probability that the pair $(\\mathbf{x}_i, y_i)$ came from expert $j$ is given by\n",
    "\n",
    "$$\n",
    "\\begin{align*}\n",
    "    \\hat{\\mathbb{P}}(j|i) \n",
    "    &= \n",
    "    \\mathbb{P}(z=j | \\mathbf{x}_i, \\mathbf{y}_i, \\mathbf{\\theta}) \\\\\n",
    "    &=\n",
    "    \\frac{\\mathbb{P}(z=j | \\mathbf{x}_i, \\mathbf{\\eta}^t) \\mathbb{P}(y_i | \\mathbf{x}_i, (\\beta_j, \\sigma^2_j)) }{\\sum_{j' = 1}^m\\mathbb{P}(z=j' | \\mathbf{x}_i, \\mathbf{\\eta}^t) \\mathbb{P}(y_i | \\mathbf{x}_i, (\\beta_{j'}, \\sigma^2_{j'}))}\n",
    "\\end{align*}\n",
    "$$\n",
    "\n",
    "The EM-Algorithm is then given by\n",
    "\n",
    "1. E-Step: Compute soft labels $\\hat{\\mathbb{P}}(j|i)$\n",
    "2. M-Step: Separately re-estimate the experts and the gating network based on these soft assignements\n",
    "    \n",
    "For each expert $j$: find $(\\hat{\\beta}_j, \\hat{\\sigma}^2_j)$ that maximize (linear regression with weighted training set)\n",
    "\n",
    "$$\n",
    "\\sum_{i=1}^n \\hat{\\mathbb{P}}(j|i) \\log \\mathbb{P}(y_i | \\mathbf{x}_i, (\\beta_j, \\sigma^2_j))\n",
    "$$  \n",
    "\n",
    "For the gating network: find $ \\hat{\\mathbf{\\eta}} $ that maximize (logistic regression with weighted training set)\n",
    "    \n",
    "$$\n",
    "\\sum_{i=1}^n \\sum_{j=1}^m \\hat{\\mathbb{P}}(j|i) \\log \\mathbb{P}(j | \\mathbf{x}_i, \\mathbf{\\eta}_j)\n",
    "$$  "
   ],
   "id": "bdd6119bbb206e03"
  }
 ],
 "metadata": {
  "kernelspec": {
   "display_name": "Python 3",
   "language": "python",
   "name": "python3"
  },
  "language_info": {
   "codemirror_mode": {
    "name": "ipython",
    "version": 2
   },
   "file_extension": ".py",
   "mimetype": "text/x-python",
   "name": "python",
   "nbconvert_exporter": "python",
   "pygments_lexer": "ipython2",
   "version": "2.7.6"
  }
 },
 "nbformat": 4,
 "nbformat_minor": 5
}
