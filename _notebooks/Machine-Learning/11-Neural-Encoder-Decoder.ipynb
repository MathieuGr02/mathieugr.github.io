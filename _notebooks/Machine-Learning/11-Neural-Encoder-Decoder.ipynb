{
 "cells": [
  {
   "cell_type": "markdown",
   "source": [
    "---\n",
    "title: Neural Encoder Decoder\n",
    "layout: collection\n",
    "permalink: /Machine-Learning/Neural-Encoder-Decoder\n",
    "collection: Machine-Learning\n",
    "entries_layout: grid\n",
    "mathjax: true\n",
    "toc: true\n",
    "categories:\n",
    "  - study\n",
    "tags:\n",
    "  - mathematics\n",
    "  - statistics\n",
    "  - machine-learning \n",
    "---"
   ],
   "metadata": {
    "collapsed": false
   },
   "id": "69ba1a18f7916e71"
  },
  {
   "metadata": {
    "ExecuteTime": {
     "end_time": "2024-05-28T20:17:34.308212Z",
     "start_time": "2024-05-28T20:17:34.290541Z"
    }
   },
   "cell_type": "code",
   "source": [
    "x = 'x'\n",
    "def setroomlighting(other):\n",
    "    print(other)\n",
    "\n",
    "other = 'bright'\n",
    "\n",
    "setroomlighting('bright')"
   ],
   "id": "f2a5ef824ee18c44",
   "outputs": [
    {
     "name": "stdout",
     "output_type": "stream",
     "text": [
      "bright\n"
     ]
    }
   ],
   "execution_count": 1
  },
  {
   "cell_type": "markdown",
   "source": [
    "# Non-Linear Latent variable\n",
    "\n",
    "In a non-linear latent variable model out likelihood is gaussian disributed with a non-linear transformed mean vector \n",
    "\n",
    "$$\n",
    "\\mathbf{\\mu} = \\mathbf{f} (\\mathbf{z} , \\phi ) \n",
    "$$\n",
    "\n",
    "The prior and likelihood then look like\n",
    "\n",
    "$$\n",
    "\\begin{align*}\n",
    "    \\mathbb{P}(\\mathbf{z}) &= \\mathcal{N}(0, I) \\\\\n",
    "     \\mathbb{P}(\\mathbf{x} | \\mathbf{z}, \\phi  ) &= \\mathcal{N}(f(\\mathbf{z}, \\phi ), \\sigma^2 I ) \n",
    "\\end{align*}\n",
    "$$\n",
    "\n",
    "Given an observation $ \\mathbf{x}  $ we would then like to understand which hidenn latent variables we're responsible for the creation of $ \\mathbf{x}  $, this is given by the posterior:\n",
    "\n",
    "$$\n",
    "\\mathbb{P}(\\mathbf{z} | \\mathbf{x} ) = \\frac{\\mathbb{P}(\\mathbf{x} | \\mathbf{z} )\\mathbb{P}(\\mathbf{z})}{\\mathbb{P}(\\mathbf{x} )}  \n",
    "$$\n",
    "\n",
    "There exist no closed form form the posterior as the mean is a non-linear function. We can also not evaluate the evidence.\n",
    "\n",
    "But sampling from this model is easy, we just draw a latent variable from the prior, pass it through our non-linear function to get the mean and then draw $\\mathbb{x}$ with this mean from the likelihood.\n",
    "\n",
    "Looking at the marginal likelihood of the evidence\n",
    "\n",
    "$$\n",
    "\\begin{align*}\n",
    "    \\mathbb{P}(\\mathbf{x} | \\phi ) \n",
    "    &= \n",
    "    \\int \\mathbb{P}(\\mathbf{x}, \\mathbf{z} | \\phi ) d \\mathbf{z}  \\\\\n",
    "    &=\n",
    "    \\int \\mathbb{P}(\\mathbf{x} | \\mathbf{z}, \\phi  ) \\mathbb{P}(\\mathbf{z} ) d \\mathbf{z} \\\\\n",
    "    &=\n",
    "    \\int \\mathcal{N}(\\mathbf{f}(\\mathbf{z}, \\phi ), \\sigma^2 I ) \\mathcal{N}(0, I) d \\mathbf{z}     \n",
    "\\end{align*}\n",
    "\n",
    "$$\n",
    "\n",
    "Because $f$ is thus an arbitrary function, this integral doesn't have a closed form, but we can approximate it using the jensens inequality.\n",
    "\n",
    "$$\n",
    "\\begin{align*}\n",
    "    \\log[\\mathbb{P}(\\mathbf{x} | \\phi ) ] \n",
    "    &= \n",
    "    \\log \\left[\\int \\mathbb{P}(\\mathbf{x}, \\mathbf{z} | \\phi ) d \\mathbf{z}  \\right] \\\\\n",
    "    &=\n",
    "    \\log \\left[\\int q(\\mathbf{z})  \\frac{\\mathbb{P}(\\mathbf{x}, \\mathbf{z} | \\phi )}{q(\\mathbf{z} )}  d \\mathbf{z}  \\right] \\\\\n",
    "    &\\geq\n",
    "    \\int q(\\mathbf{z})  \\log \\left[ \\frac{\\mathbb{P}(\\mathbf{x}, \\mathbf{z} | \\phi )}{q(\\mathbf{z} )}\\right]  d \\mathbf{z}   \\\\\n",
    "\\end{align*}\n",
    "\n",
    "$$\n",
    "\n",
    "This holds true for any distribution $q$. This lower bound is called the evidence lower bound (ELBO). \n",
    "We assume that the distribution $q$ has some parameters $ \\mathbf{\\theta}  $. \n",
    "The ELBO then is given as \n",
    "\n",
    "$$\n",
    "ELBO[\\mathbf{\\theta}, \\phi ] = \\int q(\\mathbf{z}) \\log \\left[ \\frac{\\mathbb{P}(\\mathbf{x}, \\mathbf{z} | \\phi  ) }{q(\\mathbf{z} | \\mathbf{\\theta}  )}  \\right] d \\mathbf{z} \n",
    "$$\n",
    "\n",
    "Becuase we want the tighest lower bound. i.e. approximate our evidence as best as possible, we would thus like to maximize the ELBO as a function of $ \\mathbf{\\theta}  $ and $\\phi$.\n",
    "\n",
    "$$\n",
    "\\begin{align*}\n",
    "    ELBO[\\mathbf{\\theta}, \\phi]\n",
    "    &=\n",
    "    \\int q(\\mathbf{z}, \\mathbf{\\theta}) \\log \\left[ \\frac{\\mathbb{P}(\\mathbf{x}, \\mathbf{z} | \\phi)}{q(\\mathbf{z}| \\mathbf{\\theta})} \\right] d \\mathbf{z} \\\\\n",
    "    &=\n",
    "    \\int q(\\mathbf{z}, \\mathbf{\\theta}) \\log \\left[ \\frac{\\mathbb{P}(\\mathbf{z} | \\mathbf{x}, \\phi) \\mathbb{P}(\\mathbf{x} | \\phi)}{q(\\mathbf{z}| \\mathbf{\\theta})} \\right] d \\mathbf{z} \\\\\n",
    "    &=\n",
    "    \\int q(\\mathbf{z} | \\mathbf{\\theta}) \\log [\\mathbb{P}(\\mathbf{x} | \\phi)] d \\mathbf{z} + \\int q(\\mathbf{z} | \\mathbf{\\theta}) \\log \\left[ \\frac{\\mathbb{P}(\\mathbf{z} | \\mathbf{x}, \\phi)}{q(\\mathbf{z}|\\mathbf{\\theta})} \\right] d \\mathbf{z} \\\\\n",
    "    &=\n",
    "    \\log [\\mathbb{P}(\\mathbf{x} | \\phi)] + \\int q(\\mathbf{z} | \\mathbf{\\theta}) \\log \\left[ \\frac{\\mathbb{P}(\\mathbf{z} | \\mathbf{x}, \\phi)}{q(\\mathbf{z}|\\mathbf{\\theta})} \\right] d \\mathbf{z} \\\\\n",
    "    &=\n",
    "    \\log [\\mathbb{P}(\\mathbf{x} | \\phi)] - \\mathbb{KL}[q(\\mathbf{z}|\\mathbf{\\theta}) || \\mathbb{P}(\\mathbf{z}|\\mathbf{x}, \\phi)]\n",
    "\\end{align*}\n",
    "$$\n",
    "\n",
    "This is maximized when we have $q(\\mathbf{z}|\\mathbf{\\theta}) = \\mathbb{P}(\\mathbf{z}|\\mathbf{x}, \\phi) $. \n",
    "We can also write a different expression for the ELBO\n",
    "\n",
    "$$\n",
    "\\begin{align*}\n",
    "    ELBO[\\mathbf{\\theta}, \\phi] \n",
    "    &= \n",
    "    \\int q(\\mathbf{z} |\\mathbf{\\theta} ) \\log \\left[ \\frac{\\mathbb{P}(\\mathbf{x}, \\mathbf{z} | \\phi)}{q(\\mathbf{z}|\\mathbf{\\theta})} \\right] d \\mathbf{z} \\\\\n",
    "    &=\n",
    "    \\int q(\\mathbf{z} |\\mathbf{\\theta} ) \\log \\left[ \\frac{\\mathbb{P}(\\mathbf{x} | \\mathbf{z}, \\phi) \\mathbb{P}(\\mathbf{z})}{q(\\mathbf{z}|\\mathbf{\\theta})} \\right] d \\mathbf{z} \\\\\n",
    "    &=\n",
    "    \\int q(\\mathbf{z} | \\mathbf{\\theta}) \\log [\\mathbb{P}(\\mathbf{x} | \\mathbf{z}, \\phi)] d \\mathbf{z} + \\int q(\\mathbf{z}|\\mathbf{\\theta}) \\log \\left[ \\frac{\\mathbb{P}(\\mathbf{z})}{q(\\mathbf{z}|\\mathbf{\\theta})} \\right] d \\mathbf{z} \\\\\n",
    "    &=\n",
    "    \\int q(\\mathbf{z} | \\mathbf{\\theta}) \\log [\\mathbb{P}(\\mathbf{x} | \\mathbf{z}, \\phi)] d \\mathbf{z} - \\mathbb{KL}(q(\\mathbf{z}|\\mathbf{\\theta}) || \\mathbb{P}(\\mathbf{z}))\n",
    "    \n",
    "\\end{align*}\n",
    "$$\n",
    "\n",
    "The first term is an expectation in respect to q and we compute the expected value of the log-likelihood.\n",
    "This term can be seen as how likely is the data given our model.\n",
    "It is the average agreement of the data and the hidden variable.\n",
    "\n",
    "The second term is a measure of how the prior and auxiliary distribution match.\n",
    "\n",
    "\n",
    "Thus in summary, the ELBO is tight when we choose our auxiliary distribution to be our posterior\n",
    "\n",
    "$$\n",
    "q(\\mathbf{z}|\\mathbf{\\theta}) = \\mathbb{P}(\\mathbf{z} | \\mathbf{x}, \\phi )\n",
    "$$\n",
    "\n",
    "But now because the posterior itself is intractable, we choose a simple parametric form for our auxiliary function and use that as an approximate to the true posterior.\n",
    "Here we choose a normal distribution with mean $ \\mathbf{\\mu} $ and $\\Sigma = \\sigma^2 I$.\n",
    "\n",
    "the optimization is then finding a normal distribution which is the closest to the true posterior, which corresponds to minimizing the KL divergence.\n",
    "Because the ELBO is just \n",
    "\n",
    "$$\n",
    "\\underbrace{\\log[\\mathbb{P}(\\mathbf{x}|\\phi)]}_{\\text{Evidence}} -\n",
    "\\underbrace{\\mathbb{KL}[q(\\mathbf{z}|\\mathbf{\\theta}) || \\mathbb{P}(\\mathbf{z}|\\mathbf{x}, \\phi)]  }_{\\text{KL Divergence}}\n",
    "$$\n",
    "\n",
    "This term is then maximised by minimizing the KL divergence which means finds $q$ which is the closest to $\\mathbb{P}(\\mathbf{z}|\\mathbf{x}, \\phi)$, i.e. the posterior.\n",
    "\n",
    "Now because the true posterior depends on our data $ \\mathbf{x} $, the auxiliary function should logically then also depend on our data\n",
    "\n",
    "$$\n",
    "q(\\mathbf{z}|\\mathbf{\\theta}, \\mathbf{x}) = \\mathcal{N}(g_{\\mu}[\\mathbf{x}|\\mathbf{\\theta}], g_{\\sigma^2}[\\mathbf{x}|\\mathbf{\\theta}])\n",
    "$$\n",
    "\n",
    "where $g[\\mathbf{x}|\\mathbf{\\theta}]$ is a neural network with parameters $ \\mathbf{\\theta} $. Such a network is called a ***Variational Autoencoder***."
   ],
   "metadata": {
    "collapsed": false
   },
   "id": "5c5d254ab81aa1cc"
  },
  {
   "cell_type": "markdown",
   "source": [
    "# Variational Autoencoder\n",
    "\n",
    "Recall that \n",
    "\n",
    "$$\n",
    "ELBO[\\mathbf{\\theta}, \\phi] = \\int q(\\mathbf{z} | \\mathbf{\\theta}) \\log [\\mathbb{P}(\\mathbf{x} | \\mathbf{z}, \\phi)] d \\mathbf{z} - \\mathbb{KL}(q(\\mathbf{z}|\\mathbf{\\theta}) || \\mathbb{P}(\\mathbf{z}))\n",
    "$$\n",
    "\n",
    "The first term still holds an intractable integral but because this is an expectation we can approximate it using sampling\n",
    "\n",
    "$$\n",
    "\\mathbb{E}_{q(\\mathbf{z}|\\mathbf{x}, \\mathbf{\\theta})} [\\log [\\mathbb{P}(\\mathbf{x}|\\mathbf{z}, \\phi)]] \n",
    "\\approx\n",
    "\\frac{1}{N} \\sum_{i=1}^N \\log[\\mathbb{P}(\\mathbf{x}|\\mathbf{z}^*_n, \\phi)]\n",
    "$$\n",
    "\n",
    "where $ \\mathbf{z}_n^*$ is the n-th sample from $q(\\mathbf{z}|\\mathbf{x}, \\mathbf{\\theta})$. Often only one sample is used to approximate the expectation, which gives us\n",
    "\n",
    "$$\n",
    "ELBO[\\mathbf{\\theta}, \\phi] \n",
    "\\approx\n",
    "\\log[\\mathbb{P}(\\mathbf{x}|\\mathbf{z}^*, \\phi)] - \\mathbb{KL}(q(\\mathbf{z}|\\mathbf{x}, \\theta) || \\mathbb{P}(z))\n",
    "$$"
   ],
   "metadata": {
    "collapsed": false
   },
   "id": "2cabb6183d57ba23"
  },
  {
   "metadata": {},
   "cell_type": "markdown",
   "source": [
    "# Reparameterization trick\n",
    "\n",
    "\n",
    "Because we want to sample from the distribution\n",
    "\n",
    "$$\n",
    "q(\\mathbf{z}|\\mathbf{\\theta}, \\mathbf{x}) = \\mathcal{N}(g_{\\mu}[\\mathbf{x}|\\mathbf{\\theta}], g_{\\sigma^2}[\\mathbf{x}|\\mathbf{\\theta}])\n",
    "$$\n",
    "\n",
    "But we would like to avoid this sampling step because stochastic sampling prevents the use of backproporgation to train our NN. The go around this, we sample noise from a fixed distribution $ \\mathbf{\\xi} \\sim \\mathcal{N}(0, I)$ and use the trick\n",
    "\n",
    "$$\n",
    "\\mathbf{z}^* = g_{\\mu} + \\sigma^{1/2} \\mathbf{\\xi} \n",
    "$$\n",
    "\n",
    "Which allows the to define the encoding network.\n",
    "\n",
    "We also want to minimize the negative expectation of the ELBO over $ \\mathbb{P}(\\mathbf{x}) $\n",
    "\n",
    "$$\n",
    "\\min_{\\phi, \\mathbf{\\theta}} - \\mathbb{E}_{\\mathbb{P}(\\mathbf{x})} \\mathbb{E}_{q(\\mathbf{z}|\\mathbf{x}, \\mathbf{\\theta})} [\\log[\\mathbb{P}(\\mathbf{x}|\\mathbf{z}, \\phi)]] + \\mathbb{E}_{\\mathbb{P}(\\mathbf{x})} \\mathbb{KL}(q(\\mathbf{z}|\\mathbf{x}, \\theta) || \\mathbb{P}(z))\n",
    "$$\n",
    "\n",
    "The first term is approximated as \n",
    "\n",
    "$$\n",
    "\\mathbb{E}_{\\mathbb{P}(\\mathbf{x})} \\mathbb{E}_{q(\\mathbf{z}|\\mathbf{x}, \\mathbf{\\theta})} [\\log[\\mathbb{P}(\\mathbf{x}|\\mathbf{z}, \\phi)]] \n",
    "\\approx\n",
    "\\frac{1}{n} \\sum_{i=1}^n \\log [\\mathbb{P}(\\mathbf{x}_i | \\mathbf{z}_i^*, \\phi)]\n",
    "$$\n",
    "\n",
    "We assume $ \\mathbb{P}(\\mathbf{x}_i | \\mathbf{z}_i^*, \\phi) = \\mathcal{N}(f_{\\phi}(\\mathbf{z}_i^*), \\sigma^2) $\n",
    "Where $f$ is then implemented via a NN.\n",
    "In a escence a encoder, decoder structure is similair to PCA, but where we use non-linear transformations instead of our linear transformations $W$."
   ],
   "id": "ee187b081917d51f"
  },
  {
   "metadata": {},
   "cell_type": "markdown",
   "source": "![vae](../images/vae_nn.png)",
   "id": "af7da68d9c0bb329"
  },
  {
   "metadata": {},
   "cell_type": "markdown",
   "source": [
    "For maximizing the ELBO, we jointly optimize over the parameters of the encoder and decoder network.\n",
    "But when changing the decoder we also change the true posterior we want to approximate, which creates a moving target.\n",
    "When trying to minimize the negative expected ELBO, we add a 'tuning knob' which steers the model in the desired direction.\n",
    "We could for example introduce $ \\beta > 0 $ which controls the realative importence of the two loss terms\n",
    "\n",
    "$$\n",
    "\\min_{\\mathbf{\\theta}, \\phi} \\frac{1}{n} \\sum_{i=1}^n \\mathbb{KL}(q(\\mathbf{z}|\\mathbf{x}_i, \\mathbf{\\theta}), \\mathbb{P}(\\mathbf{z})) - \\beta \\frac{1}{n} \\sum_{i=1}^n \\log[\\mathbb{P}(\\mathbf{x}_i | \\mathbf{z}_i^*, \\phi)]\n",
    "$$\n",
    "\n",
    "Which works as an emphasis factor on reconstruction compared to allignement.\n",
    "For $\\beta \\rightarrow 0$ we get only the allignement term, which means that our auxiliary function, i.e. our posterior approximation would just resemble the prior, meaning that we haven't learned anything.\n",
    "For $\\beta \\rightarrow \\infty$ we get only our reconstruction error term, which would cause us to choose our variational approximation which would shrink to the posterior maximum."
   ],
   "id": "83ceeb400dfb257d"
  },
  {
   "metadata": {},
   "cell_type": "markdown",
   "source": [
    "# The deep information bottleneck\n",
    "\n",
    "We want to find dependency structure between different views through nonlinear models. These dependencies are found by deep IB.\n",
    "So far because our true posterior depended on $ \\mathbf{x} $, we said that our variational approximation should aswell.\n",
    "Image we're given another variable $ \\mathbf{\\tilde{x}} $ and our variational approximation only depends that external variable.\n",
    "\n",
    "$$\n",
    "q = q(\\mathbf{z}|\\mathbf{\\theta}, \\mathbf{\\tilde{x}})\n",
    "$$\n",
    "\n",
    "$$\n",
    "\\begin{align*}\n",
    "    ELBO[\\mathbf{\\theta}, \\phi]\n",
    "    &=\n",
    "    \\int q(\\mathbf{z}|\\mathbf{\\tilde{x}}, \\mathbf{\\theta}) \\log[\\mathbb{P}(\\mathbf{x}|\\mathbf{z}, \\phi)] d \\mathbf{z} - \\mathbb{KL}[q(\\mathbf{z}|\\mathbf{\\tilde{x}}, \\mathbf{\\theta})||\\mathbb{P}(\\mathbf{z})]\n",
    "\\end{align*}\n",
    "$$\n",
    "\n",
    "Connection to the IB is that if we set $ q(\\mathbf{z}|\\mathbf{\\tilde{x}}, \\mathbf{\\theta}) := \\mathbb{P}(\\mathbf{z}|\\mathbf{\\tilde{x}}, \\mathbf{\\theta}) $ and take the expectation with respect to the joint data distribution\n",
    "\n",
    "$$\n",
    "\\mathbb{E}_{\\mathbb{P}(\\mathbf{\\tilde{x}}, \\mathbf{x})} \\mathbb{E}_{\\mathbb{P}(\\mathbf{z}|\\mathbf{\\tilde{x}}, \\mathbf{\\theta})} \\log[q(\\mathbf{x}|\\mathbf{z}, \\phi)] - \\mathbb{E}_{\\mathbb{P}(\\mathbf{x})} \\mathbb{KL}[\\mathbb{P}(\\mathbf{z}|\\mathbf{\\tilde{x}}, \\mathbf{\\theta})||\\mathbb{P}(\\mathbf{z})]\n",
    "$$\n",
    "\n",
    "The first term is a lower bound on the mutual information $\\leq \\mathcal{I}_{\\mathbf{\\theta}, \\phi}(\\mathbf{z};\\mathbf{x}) + const$ and the second term is the mutual information $= \\mathcal{I}_{\\mathbf{\\theta}}(\\mathbf{\\tilde{x}}; \\mathbf{z}) $.\n",
    "Thus we minimize the mutual information between $ \\mathbf{\\tilde{x}} $ and $ \\mathbf{z} $, meaning we want to compress $\\mathbf{\\tilde{x}}$ ,i.e. have a high compression rate ($\\mathbf{z}$ should be a very compact representation), while also preserving the information between $ \\mathbf{x} $ and $ \\mathbf{z} $, i.e. have as much information in $\\mathbf{z}$ about $ \\mathbf{x} $ as possible.\n",
    "This defines the deep information bottleneck\n",
    "\n",
    "$$\n",
    "\\min_{\\phi, \\mathbf{\\theta}} \\mathcal{I}_{\\mathbf{\\theta}}(\\mathbf{\\tilde{x}}; \\mathbf{z}) -\\beta \\mathcal{I}_{\\mathbf{\\theta}, \\phi}^{\\text{low}}(\\mathbf{z}; \\mathbf{x})\n",
    "$$"
   ],
   "id": "e3f9f34d2b30cef0"
  },
  {
   "metadata": {},
   "cell_type": "markdown",
   "source": [
    "# Seq2seq\n",
    "\n",
    "A sequence to sequence modes is an example of a conditional language model\n",
    "\n",
    "* Language model because the decoder is predicting the next word of the target sequence $ \\mathbf{y} $\n",
    "* Conditional because its predictions are also conditioned on the source sentence $ \\mathbf{x} $\n",
    "\n",
    "In neural machine translation we directly calculate\n",
    "\n",
    "$$\n",
    "\\mathbb{P}(\\mathbf{y}|\\mathbf{x}) = \\mathbb{P}(y_1 | \\mathbf{x}) \\cdot \\mathbb{P}(y_2 | y_1, \\mathbf{x}) \\cdots \\mathbb{P}(y_T | y_1, ..., y_{T-1}, \\mathbf{x})\n",
    "$$\n",
    "\n",
    "Seq2seq is optimized as a single system where the model is trained on a big amount of text where backproporgation operates end-to-end. The loss is often calculated as a sum of the individual losses divided by the amount of targets, i.e. $L = \\frac{1}{T}\\sum_{i} L_i$."
   ],
   "id": "8956bd92c6cfcec1"
  },
  {
   "metadata": {},
   "cell_type": "markdown",
   "source": "![seq2seq](../images/seq2seq.png)",
   "id": "af62ede201014aaa"
  },
  {
   "metadata": {},
   "cell_type": "markdown",
   "source": [
    "Often a problem with such seq2seq is because of their implementation via a RNN, the last input sequence holds a compressed summary of the whole input sequence. \n",
    "This causes an information bottleneck.\n",
    "To bypass this bottleneck we could allow the decoder to directly look at the input sequence through so called attention"
   ],
   "id": "d4b1330ad7f9e2ad"
  },
  {
   "metadata": {},
   "cell_type": "markdown",
   "source": [
    "# Attention\n",
    "\n",
    "In the encoder we have our different hidden states $ \\mathbf{h}_1, ..., \\mathbf{h}_N \\in \\mathbb{R}^h $, which we call our values and on timestep $t$, we have our decoder hidden state $ \\mathbf{s}_t \\in \\mathbb{R}^h$, which we call our queries.\n",
    "At each step $t$ we calculate our attention score, which is the dot product of our current query and all the values. \n",
    "\n",
    "$$\n",
    "\\mathbf{a}^t = (\\mathbf{s}_t^T \\mathbf{h}_1, ..., \\mathbf{s}_t^T \\mathbf{h}_N) \\in \\mathbb{R}^N\n",
    "$$\n",
    "\n",
    "This dot product measures in a sense the allignement or co-linearity between the query and values. \n",
    "We then take the softmax of every allignement score to get an 'attention distribution'. \n",
    "\n",
    "$$ \n",
    "\\mathbf{\\alpha}^t = \\text{softmax}(\\mathbf{a}^t)\n",
    "$$\n",
    "\n",
    "We user our attention distribution to take a weighted sum of the values to get the attention output\n",
    "\n",
    "$$\n",
    "\\mathbf{z}_i = \\sum_{i=1}^N \\mathbf{\\alpha}^t_i \\mathbf{h}_i \\in \\mathbb{R}^h\n",
    "$$\n",
    "\n",
    "Then we concatenate the attention output with the query state $ [\\mathbf{z}_t : \\mathbf{s}_t] $.\n",
    "We use this then to generate the probability of the next word $ \\mathbb{P}(y_z | y_1, ..., y_{t-1}, \\mathbf{x}) $ and predict the next word as $\\hat{y}_t = \\arg \\max \\mathbb{P}(y_z | y_1, ..., y_{t-1}, \\mathbf{x})$."
   ],
   "id": "3fbee485a0166bf0"
  },
  {
   "metadata": {},
   "cell_type": "markdown",
   "source": "![attention_rnn](../images/attention_rnn.png)",
   "id": "df2e10ab5ec87e59"
  },
  {
   "metadata": {},
   "cell_type": "markdown",
   "source": [
    "This attention solves the bottleneck problem as it allows the decoder (querie) to directly look at the input sequence instead of the final compressed hidden state, thus it has much more access to information to make its next prediction.\n",
    "Attention also helps the vanishing gradient problem as it functions as a shortcut to faraway states.\n",
    "What is also of advantage is that the architecture itself learns the allignements of words."
   ],
   "id": "4d9a842ad77daa90"
  },
  {
   "metadata": {},
   "cell_type": "markdown",
   "source": [
    "# Attention and KRR\n",
    "\n",
    "We can try to understand the general principle of attention better by comparing it to kernel ridge regression (KRR) (combines regulare ridge regression with the kernel trick).\n",
    "In KRR, we compare the input ('query) $ \\mathbf{x} \\in \\mathbb{R}^d $ to each of the training examples $X = (\\mathbf{x}_1, ..., \\mathbf{x}_n)$ using a kernel function $ K(\\mathbf{x}, \\mathbf{x}') $to get a vector of similarity scores $ \\mathbf{\\alpha} = \\mathbf{\\alpha}(\\mathbf{x}, X) $.\n",
    "We then use these similairity scores to retrieve a weighted combination of the target values $ \\mathbf{y}_i \\in \\mathbb{R}^{d_v} $ to compute the predicted output $ \\mathbf{z} = \\sum_{i=1}^n \\alpha_i \\mathbf{y}_i $.\n",
    "For example for the one dimensional output targets $d_v = 1$. \n",
    "given the kernel function $K(\\mathbf{x}, \\mathbf{x}')$, the predicted regression output for query $ \\mathbf{x}$ is \n",
    "\n",
    "$$\n",
    "z := f(\\mathbf{x}) = \\underbrace{K^t_{\\mathbf{x}}(K(X, X) + \\lambda I)^{-1} }_{\\mathbf{\\alpha}^t} \\mathbf{y} = \\sum_{i=1}^n \\alpha_i(\\mathbf{x}, X) y_i\n",
    "$$\n",
    "\n",
    "with  $ K^t_{\\mathbf{x}} = \\left[K(\\mathbf{x}, \\mathbf{x}_1), K(\\mathbf{x}, \\mathbf{x}_2), ... \\right] $. Thus  $ \\mathbf{\\alpha}(\\mathbf{x}, X)  $ measures how well the query $ \\mathbf{x} $ is aligned with the examples in the training set $X$."
   ],
   "id": "1efa1a2eee00cca2"
  },
  {
   "metadata": {},
   "cell_type": "markdown",
   "source": "![krr_attention](../images/krr_attention.png)",
   "id": "5f15396ffcbdc873"
  },
  {
   "metadata": {},
   "cell_type": "markdown",
   "source": [
    "We could then replace our data $X$ with a learned embedding, to create a set of keys $K = X W_k \\in \\mathbb{R}^{n \\times d_k}$ and replace $Y$ with a learned embedding, to create a set of values $V = Y W_v \\in \\mathbb{R}^{n \\times d_v}$.\n",
    "We also embed our input to create a query $q = W_q \\mathbf{x} \\in \\mathbb{R}^{d_k}$.\n",
    "The learnable parameters in this model are then these embedding matrices.\n",
    "We could then replace the similairity scoring of the kernel ridge regression ($\\mathbf{\\alpha}(\\mathbf{x}, X)$) with a soft attention layer.\n",
    "We define the weighted output for our query $ \\mathbf{q} $ to be\n",
    "\n",
    "$$\n",
    "\\mathbf{z} := \\text{Attn}(\\mathbf{q}, (\\mathbf{k}_1, \\mathbf{v}_1), ..., (\\mathbf{k}_n, \\mathbf{v}_n)) = \\sum_{i=1}^n \\alpha_i(\\mathbf{q}, K) \\mathbf{v}_i\n",
    "$$\n",
    "\n",
    "where $\\alpha_i(\\mathbf{q}, K)$ is the i'th attention weight which satisfies $0 \\leq \\alpha_i \\leq 1$ and $\\sum_{i} \\alpha_i = 1$. \n",
    "These attention weights work as weighting the different embeddings of our targets $ \\mathbf{v}_i $ to create a new output.\n",
    "The attention weights $ \\alpha_i(\\mathbf{q}, K) $ are computed from an attention score $a(\\mathbf{q}, \\mathbf{k}_i) \\in \\mathbb{R}$, which computes the similarity between our query (embedded input) and the our keys (embedded data).\n",
    "For example the attention score can be the previous described dot product $a(\\mathbf{q}, \\mathbf{k}) = \\mathbf{q}^T \\mathbf{k} / \\sqrt{d_k}$ with a normalization factor $\\sqrt{d_k}$.\n",
    "Given then the scores we can calculate the attention weights\n",
    "\n",
    "$$\n",
    "\\alpha_i(\\mathbf{q}, \\mathbf{k}_{1:n}) = \\text{softmax}_i ([a(\\mathbf{q}, \\mathbf{k}_1), ..., a(\\mathbf{q}, \\mathbf{k}_n) ]) = \\frac{\\exp(a(\\mathbf{q}, \\mathbf{k}_i))}{\\sum_{j=1}^n \\exp(a(\\mathbf{q}, \\mathbf{k}_j))}\n",
    "$$\n"
   ],
   "id": "e4e8a6cf0715147a"
  },
  {
   "metadata": {},
   "cell_type": "markdown",
   "source": "![attention_weights](../images/attention_weights.png)",
   "id": "c503798ac7ab8ff5"
  },
  {
   "metadata": {},
   "cell_type": "markdown",
   "source": [
    "# Self Attention\n",
    "\n",
    "Self attention is where we use the output of one attention layer as input to another. Here the keys, queries and values all come from the input $X$.\n",
    "\n",
    "In self attention thus when using our input $X$ as keys, values and query, we can compare the input with itself and find semantic relationships inside our input."
   ],
   "id": "88faa8a34e772c0f"
  },
  {
   "metadata": {},
   "cell_type": "markdown",
   "source": "![self_attention](../images/self_attention.png)",
   "id": "226c988f1c678301"
  },
  {
   "metadata": {},
   "cell_type": "markdown",
   "source": [
    "# Masked Attention\n",
    "\n",
    "Makes attention is where we prevent vectors (queries) looking at future vectors (keys) by setting the similarity score to $-\\infty$."
   ],
   "id": "968e6567c2f14875"
  },
  {
   "metadata": {},
   "cell_type": "markdown",
   "source": "![masked_attention](../images/masked_attention.png)",
   "id": "e682eeeaa1c293ae"
  },
  {
   "metadata": {},
   "cell_type": "markdown",
   "source": [
    "# Multi-head attention\n",
    "\n",
    "Multi head attention is just the several parallelisation of the attention mechanism. The independent attention outputs are then concatenated and linearly transformed into the expected dimension.\n",
    "The use of several parallel attention mechanisms allows for attending to parts of the sequences differently (long term and versus short term). These attention layers are able to then learn semantic connections inside the input (sentence)."
   ],
   "id": "d0473da1b67d396"
  },
  {
   "metadata": {},
   "cell_type": "markdown",
   "source": "![multi_head_attention](../images/multi_head_attention.png)",
   "id": "2c91b4f21798a8a6"
  },
  {
   "metadata": {},
   "cell_type": "markdown",
   "source": [
    "# Transformers\n",
    "\n",
    "In RNN's we process tokens sequentially that is, one after another. Thus the representation of a word at location $t$ depends on the hidden state $ \\mathbf{s}_t $ which is a summary of all the previous words.\n",
    "In contrast, we could just use attentiopn to compute representation directly as a function of all other words. \n",
    "We calculate our attention output $ \\mathbf{z}_j $ of the j'th word as a function of all the other words in the sentence.\n",
    "This idea is called an encoder-only transformer.\n",
    "There exist also decoder-only transformers where each output $y_t$ only attends to all previously generated outputs $y_{1:(t-1)}$.\n",
    "\n",
    "While the encoder only architectures are designed to learn embeddings that can be used for various predictive modeling tasks such as classification.\n",
    "Decoders are designed to generate new text.\n",
    "\n",
    "When combining encoder and decoder networks, we get the so called sequence to sequence models, $\\mathbb{P}(y_{1:T_y} | x_{1:T_x})$"
   ],
   "id": "421149797e553e53"
  },
  {
   "metadata": {},
   "cell_type": "markdown",
   "source": "# Encoder",
   "id": "af6a29551c2c70e4"
  },
  {
   "metadata": {},
   "cell_type": "markdown",
   "source": "![encoder_transformer](../images/encoder_transformer.png)",
   "id": "5ca4a7a7b73bbe9c"
  },
  {
   "metadata": {},
   "cell_type": "markdown",
   "source": [
    "MHSA often produces features at different scales or magnitudes.\n",
    "Because the attention weights can be very different, combining multiple attention heads makes this even more problematic.\n",
    "Because of this we add a normalization layer and a word wise feed forward MLP that updates the representation of the i'th word\n",
    "\n",
    "$$\n",
    "h_i \\leftarrow \\text{Norm}(\\text{FeedFwd}(\\text{Norm}(h_i)))\n",
    "$$\n",
    "\n",
    "rescaling the feature vectors independently of each other helps to overcome remaining scaling issues.\n",
    "\n",
    "We also add residual connections which allow positional information to propagate to higher layers."
   ],
   "id": "4a591c8906535d84"
  },
  {
   "metadata": {},
   "cell_type": "markdown",
   "source": [
    "# Positional encoding\n",
    "\n",
    "The processing of the feature vectors for computing query, key and value occurs in parallel. The order of information between the words is not known anywhere inside the attention block, thus we need positional encoding the keep the order of information as semantical information depends on this.\n",
    "For this we add a vector to each input of a specific pattern which the model learns, that helps it to determine the position of each word or the distance between different words in the sequence.\n",
    "For example we could use the positional encoding\n",
    "\n",
    "$$\n",
    "\\mathbf{p}_t = \n",
    "\\begin{bmatrix} \n",
    "    \\sin(\\omega_1 t) \\\\\n",
    "    \\cos(\\omega_1 t) \\\\\n",
    "    \\sin(\\omega_2 t) \\\\\n",
    "    \\cos(\\omega_2 t) \\\\\n",
    "    \\vdots \\\\\n",
    "    \\sin(\\omega_{d/2}) t) \\\\\n",
    "    \\cos(\\omega_{d/2} t) \\\\\n",
    "\n",
    "\\end{bmatrix}\n",
    "$$"
   ],
   "id": "f3411b01acdab19b"
  },
  {
   "metadata": {},
   "cell_type": "markdown",
   "source": [
    "# Seq2Seq with Transformers\n",
    "\n",
    "Coupling of an encoder and decoder allows us in the encoder step to capture the semantic relations of the words inside the sentence and the decoder than uses these as inputs to create an output. \n",
    "May it be a translation from one language to another. "
   ],
   "id": "b6e61cffea938e4e"
  },
  {
   "metadata": {},
   "cell_type": "markdown",
   "source": "![seq2seq_transformer](../images/seq2seq_transformer.png)",
   "id": "85c26558f8766fb1"
  },
  {
   "metadata": {},
   "cell_type": "markdown",
   "source": [
    "# Resources\n",
    "\n",
    "https://jalammar.github.io/illustrated-transformer/"
   ],
   "id": "541e11ea51aa2ea4"
  }
 ],
 "metadata": {
  "kernelspec": {
   "display_name": "Python 3",
   "language": "python",
   "name": "python3"
  },
  "language_info": {
   "codemirror_mode": {
    "name": "ipython",
    "version": 2
   },
   "file_extension": ".py",
   "mimetype": "text/x-python",
   "name": "python",
   "nbconvert_exporter": "python",
   "pygments_lexer": "ipython2",
   "version": "2.7.6"
  }
 },
 "nbformat": 4,
 "nbformat_minor": 5
}
