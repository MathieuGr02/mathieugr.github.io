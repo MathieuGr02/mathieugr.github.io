{
 "cells": [
  {
   "metadata": {
    "ExecuteTime": {
     "end_time": "2024-04-16T19:34:27.153517Z",
     "start_time": "2024-04-16T19:34:27.135494Z"
    }
   },
   "cell_type": "code",
   "source": [
    "# To remove the FutureWarning\n",
    "import warnings\n",
    "warnings.simplefilter(action='ignore', category=FutureWarning)\n",
    "\n",
    "import matplotlib.pyplot as plt\n",
    "import numpy as np\n",
    "import seaborn as sns\n",
    "from scipy import stats\n",
    "\n",
    "sns.set_theme()"
   ],
   "id": "a910ac5af03c55cd",
   "outputs": [],
   "execution_count": 10
  },
  {
   "metadata": {},
   "cell_type": "markdown",
   "source": [
    "# Probabilities"
   ],
   "id": "851a5d8262250fb3"
  },
  {
   "metadata": {},
   "cell_type": "markdown",
   "source": [
    "### Probability space\n",
    "\n",
    "A probability space is given by the triplet\n",
    "\n",
    "$$\n",
    "(\\Omega, S, P)\n",
    "$$\n",
    "\n",
    "where \n",
    "- $\\Omega$ is the outcome space and $\\omega \\in \\Omega$ is a sample point\n",
    "- $S$ is the collections of events which we are interested in. An event is $s$ $\\in$ $S \\subset \\Omega$ \n",
    "- $P$ is the mapping of S to $\\mathbb{R}$ such that it is a probability\n",
    "\n",
    "### Axioms of probability\n",
    "\n",
    "- $P(a) \\geq 0 \\forall s \\in S$\n",
    "- $P(\\Omega) = 1$\n",
    "- $a, b \\in S$ and $a \\cap b = \\emptyset \\Rightarrow P(a \\cup b) = P(a) + P(b)$\n",
    "\n",
    "### Random variables\n",
    "\n",
    "A random variable $X$ is a function from the sample points to some range\n",
    "$$\n",
    "X : \\Omega \\rightarrow \\mathbb{R}\n",
    "$$\n",
    "\n",
    "### Cumulative Distribution Function (CDF)\n",
    "\n",
    "Let $X : \\Omega \\rightarrow \\mathbb{R}$ then the CDF of $X$ is defined as\n",
    "\n",
    "$$\n",
    "F_X(x) = P(X \\leq x)\n",
    "$$\n",
    "\n",
    "The probability of an intervall of a CDF is given by the integral over the probability density function (pdf) which is the derivative of the CDF\n",
    "\n",
    "$$\n",
    "p(x) = \\frac{d}{d x} F_X(x) \\Rightarrow \\int_{a}^{b} p(x) dx = F_X(b) - F_X(a) = P(a < X \\leq b)\n",
    "$$"
   ],
   "id": "2dee4b796a361006"
  },
  {
   "metadata": {
    "ExecuteTime": {
     "end_time": "2024-04-15T21:02:42.609062Z",
     "start_time": "2024-04-15T21:02:42.495128Z"
    }
   },
   "cell_type": "code",
   "source": [
    "a = 0\n",
    "b = 5\n",
    "unif_pdf = lambda x : 1/(b - a) * (x > a) * (x < b)\n",
    "unif_cdf = lambda x: \n",
    "\n",
    "x = np.arange(-1, 6, 0.01)\n",
    "\n",
    "plt.plot(x, unif_pdf(x), label='PDF')\n",
    "plt.plot(x, unif_cdf(x), label='CDF')\n",
    "plt.title('Uniform distribution')\n",
    "plt.legend()\n",
    "plt.show()\n"
   ],
   "id": "82103e5b10468612",
   "outputs": [
    {
     "data": {
      "text/plain": [
       "<Figure size 640x480 with 1 Axes>"
      ],
      "image/png": "[encoded data removed]"
     },
     "metadata": {},
     "output_type": "display_data"
    }
   ],
   "execution_count": 13
  },
  {
   "metadata": {},
   "cell_type": "markdown",
   "source": [
    "### Boolean RV and propositional logic\n",
    "\n",
    "A boolean RV $X$ is defined as\n",
    "\n",
    "$$\n",
    "X : \\Omega \\rightarrow \\{true, false\\}\n",
    "$$ \n",
    "\n",
    "Together with propositional logic\n",
    "\n",
    "- event $a$ $\\Rightarrow$ Set of atomic events where $A(\\omega) = true$\n",
    "- event $\\neg a$ $\\Rightarrow$ Set of atomic events where $A(\\omega) = false$\n",
    "- event $a \\land b$ $\\Rightarrow$ Set of atomic events where $A(\\omega) = true$ and $B(\\omega) = true$\n",
    "\n",
    "$$\n",
    "(a \\lor b) = (\\neg a \\land b) \\lor (a \\land \\neg b) \\lor (a \\land b) \n",
    "\\Rightarrow P(a \\lor b) = P(\\neg a \\land b) + P(a \\land \\neg b) + P(a \\land b)\n",
    "$$"
   ],
   "id": "7c00c3c4bbae8dd0"
  },
  {
   "metadata": {},
   "cell_type": "markdown",
   "source": [
    "### Mean and Variance\n",
    "\n",
    "The mean or expected value of a distribution for discrete variables is given by\n",
    "\n",
    "$$\n",
    "\\mathbb{E}[X] = \\mu = \\sum_{x \\in \\mathcal{X}} x p(x)\n",
    "$$\n",
    "\n",
    "and for continous variables\n",
    "\n",
    "$$\n",
    "\\mathbb{E}[X] = \\mu = \\int_{x \\in \\mathcal{X}} x p(x) dx\n",
    "$$\n",
    "\n",
    "The variance measures the squared spread of the distribution and is thus defined by\n",
    "\n",
    "$$\n",
    "var[X] = \\sigma^2= \\mathbb{E}[(X - \\mu)^2] = \\mathbb{E}[X^2] - \\mu^2\n",
    "$$\n",
    "\n",
    "and the square root of the variance is called the square root"
   ],
   "id": "abfc564172c4cdab"
  },
  {
   "cell_type": "markdown",
   "source": [
    "### Frequency interpretation\n",
    "\n",
    "If we perform N identical random experiments for fixed $P$ then we observe the data $\\mathcal{D}$ = \\{x_1,...,x_n \\} with this we can compute the frequency occurence of on event A:\n",
    "\n",
    "$$\n",
    "\\epsilon_N (A) =  \\frac{1}{N} \\sum^{N}_{i=1}\\delta_{x_i}(A) \\quad \\delta_x (A) = \\mathds{1}(A)\n",
    "$$\n",
    "Then for a infinite repition in the frequency perspective we can say\n",
    "\n",
    "$$\n",
    "\\epsilon_N (A) \\xrightarrow[]{N \\rightarrow \\infty} P(A)\n",
    "$$"
   ],
   "metadata": {
    "collapsed": false
   },
   "id": "969a7cd54d933e5b"
  },
  {
   "cell_type": "markdown",
   "source": [
    "### Central Limit theorem\n",
    "\n",
    "Under normal conditions, the sum of many random variables will have an approximately normal distribution. Let $X_1, ..., X_n$ be i.i.d RV from the same distribution, with zero mean and given variance then their average tends to the normal distribution\n",
    "\n",
    "$$\n",
    "Z = \\sqrt{n} \\left( \\frac{1}{n} \\sum^n_{i=1} X_i \\right)\n",
    "$$\n",
    "\n",
    "So for $n \\rightarrow \\infty$ for almost any distribution, Z tends to a normal distribution."
   ],
   "metadata": {
    "collapsed": false
   },
   "id": "3276f190c304557e"
  },
  {
   "cell_type": "code",
   "outputs": [
    {
     "data": {
      "text/plain": "<Figure size 720x432 with 1 Axes>",
      "image/png": "[encoded data removed]"
     },
     "metadata": {},
     "output_type": "display_data"
    }
   ],
   "source": [
    "lam = 0.2\n",
    "exponential = lambda x : lam * np.exp(- lam * x)\n",
    "normal = lambda x : 1 / np.sqrt(2 * np.pi) * np.exp(-0.5 * x ** 2)\n",
    "\n",
    "x = np.arange(0, 30)\n",
    "x1 = np.arange(-5, 5, 0.01)\n",
    "\n",
    "xl = []\n",
    "for i in range(10000):\n",
    "  xl.append(stats.expon.rvs(size=100).mean())\n",
    "\n",
    "# Normalize the data\n",
    "xl = np.array(xl)\n",
    "xl = (xl - np.mean(xl)) / np.std(xl)\n",
    "\n",
    "plt.figure(figsize=(10, 6))\n",
    "plt.plot(x1, normal(x1), color='green', label='Normal distribution')\n",
    "plt.plot(x, exponential(x), label=r'$X_i \\sim exp(0.2)$')\n",
    "plt.hist(xl, bins=25, density=True, color='red', label=r'Central Limit of $X_i \\sim exp(0.2)$')\n",
    "plt.legend()\n",
    "plt.show()"
   ],
   "metadata": {
    "collapsed": false,
    "ExecuteTime": {
     "end_time": "2024-04-16T19:48:17.055546Z",
     "start_time": "2024-04-16T19:48:15.586028Z"
    }
   },
   "id": "9bfe3fb500abc934",
   "execution_count": 36
  },
  {
   "metadata": {},
   "cell_type": "markdown",
   "source": [
    "### Conditional probabilities\n",
    "\n",
    "For event A and B from $\\Omega$ the conditional probability $\\mathbb{P}(A|B)$ means Given B then A has probability...\n",
    "For $\\mathbb{P}(B) > 0$ \n",
    "\n",
    "$$\n",
    "P(A | B) = \\frac{\\mathbb{P}(A \\land B)}{\\mathbb{P}(B)}\n",
    "$$\n",
    "By the chain rule it follows:\n",
    "\n",
    "$$\n",
    "\\mathbb{P}(X_1, ..., X_n) = \\prod_{i=1}^n \\mathbb{P}(X_i | X_1, ..., X_{i-1})\n",
    "$$"
   ],
   "id": "2efef76cbf3ca5bd"
  },
  {
   "metadata": {},
   "cell_type": "markdown",
   "source": [
    "### Independance\n",
    "\n",
    "We say two events A and B from $\\Omega$ are independant iff\n",
    "\n",
    "$$\n",
    "\\mathbb{P}(A|B) = \\mathbb{P}(A) \\quad \\text{or} \\quad \\mathbb{P}(B|A) = \\mathbb{P}(B) \\quad \\text{or} \\quad \\mathbb{P}(A, B) = \\mathbb{P}(A) \\mathbb{P}(B) \n",
    "$$\n",
    "\n",
    "We say events are conditionally independant where an event is irrelevant when evaluating a statement\n",
    "\n",
    "$$\n",
    "\\mathbb{P}(A| B, C) = \\mathbb{P}(A|B)\n",
    "$$"
   ],
   "id": "b3e2c559a0dfdecc"
  },
  {
   "metadata": {},
   "cell_type": "markdown",
   "source": [
    "### Bayes rule\n",
    "\n",
    "The bayes rule is given by:\n",
    "\n",
    "$$\n",
    "\\mathbb{P}(B|A) = \\frac{\\mathbb{P}(A|B)\\mathbb{P}(B)}{\\mathbb{P}(A)}\n",
    "$$\n",
    "Here $\\mathbb{P}(B|A)$ is called the posterior,  $\\mathbb{P}(A|B)$ the likelihood, $\\mathbb{P}(B)$ the prior and $\\mathbb{P}(A)$ the evidence.\n",
    "\n",
    "A naive Bayes model for probability calculation is\n",
    "\n",
    "$$\n",
    "\\mathbb{P}(\\text{Cause}, \\text{effect}_1, \\text{effect}_2, ...) = \\mathbb{P}(\\text{Cause}) \\prod_i \\mathbb{P}(\\text{effect}_i |\n",
    "\\text{Cause})\n",
    "$$"
   ],
   "id": "2a58cac6c94f25bb"
  },
  {
   "metadata": {},
   "cell_type": "markdown",
   "source": [
    "### Confidence intervall\n",
    "\n",
    "#### Frequentist\n",
    "\n",
    "Here we look at the sample mean and std of a RV, and a true mean $\\mu$ which we treat as an unknown constant. Given $\\bar{x} = \\frac{1}{n} \\sum_i x_i$:\n",
    "\n",
    "$$\n",
    "\\bar{X} \\sim \\mathcal{N}(\\mu, \\bar{\\sigma}^2), \\quad \\bar{\\sigma}^2 = \\frac{\\sigma^2}{n} \n",
    "$$\n",
    "\n",
    "We want to find $\\mu$ for which we are 95% sure that it lies in the intervall. We center $\\bar{X}$ ($Z = (\\mu - \\bar{X}) / \\bar{\\sigma}$) and calculate the upper bound, for when the integral auf it's distribution is equal to 1 - $\\alpha$:\n",
    "\n",
    "$$\n",
    "\\mathbb{P}(Z < h_{\\alpha}) = 1 - \\alpha \\Leftrightarrow \\mathbb{P}(\\mu < \\bar{X} + h_{\\alpha} \\bar{\\sigma}) = \\Phi(\\bar{X} + h_{\\alpha} \\bar{\\sigma}) =  1 - \\alpha\n",
    "$$\n",
    "\n",
    "Solving this would give a value for $h_{\\alpha}$ for which \\mu has this probability. This intervall can be seen in the frequentist perspective as, 'when sampling n times, 1-c % of these values would lie in this range'. In the frequentist perspective we look at probabilities like a frequency of events, how frequent does one event happend compared to others which can happen at the same time.\n",
    "\n",
    "#### Bayesian\n",
    "\n",
    "In the bayesian we treat $\\mu$ as a random variable and apply bayes theorem to find out the distribution of $\\mu$:\n",
    "\n",
    "$$\n",
    "P(\\mu, \\bar{x}) \\propto p(\\bar{x}, \\mu) p(\\mu)\n",
    "$$\n",
    "\n",
    "Here we can choose $p(\\mu)$ like we want. If we don't have any prior information, we may choose a uniform distribution, or if we do have some prior knowledge about the distribution of $\\mu$ we may choose that as a prior.\n",
    "\n",
    "If we choose $p(\\mu) = \\mathcal{N}(m, \\nu^2)$ then we get $p(\\mu | \\bar{x}) = \\mathcal{N}(\\tilde{m}, \\tilde{\\nu}^2)$ with $\\tilde{m} = \\frac{\\bar{x}/\\bar{\\sigma}^2 + m / \\nu^2}{1/\\bar{\\sigma}^2 + 1/\\nu^2}$ and $\\tilde{\\nu}^2 = \\frac{1}{1/\\bar{\\sigma}^2 + 1/\\nu^2}$\n",
    "\n",
    "Again we want to find $\\mu$ for which we are 95% sure that it lies in the intervall. We center $\\bar{X}$ ($Z = (\\mu - \\tilde{m}) / \\tilde{\\nu}$) and calculate the upper bound, for when the integral auf it's distribution is equal to 1 - $\\alpha$:\n",
    "\n",
    "$$\n",
    "\\mathbb{P}(Z < h_{\\alpha}) = 1 - \\alpha \\Leftrightarrow \\mathbb{P}(\\mu < \\tilde{m} + h_{\\alpha} \\tilde{\\nu}) = \\Phi(\\tilde{m} + h_{\\alpha} \\tilde{\\nu}) =  1 - \\alpha\n",
    "$$\n",
    "\n",
    "If then we have $\\nu^2 \\gg \\bar{\\sigma}^2$ then \n",
    "\n",
    "$$ \n",
    "\\tilde{m} = \\frac{\\bar{x}/\\bar{\\sigma}^2 + m / \\nu^2}{1/\\bar{\\sigma}^2 + 1/\\nu^2} \\approx \\bar{x} \\quad \\tilde{\\nu}^2 = \\frac{1}{1/\\bar{\\sigma}^2 + 1/\\nu^2} \\approx \\bar{\\sigma}^2\n",
    "$$\n",
    "\n",
    "And also looking at the limit for $n \\rightarrow \\infty$ this approximation becomes exact, meaning the bayesian and frequentist are identical (often happens but not always!)."
   ],
   "id": "1f23705c3e6a838a"
  }
 ],
 "metadata": {
  "kernelspec": {
   "display_name": "Python 3",
   "language": "python",
   "name": "python3"
  },
  "language_info": {
   "codemirror_mode": {
    "name": "ipython",
    "version": 2
   },
   "file_extension": ".py",
   "mimetype": "text/x-python",
   "name": "python",
   "nbconvert_exporter": "python",
   "pygments_lexer": "ipython2",
   "version": "2.7.6"
  }
 },
 "nbformat": 4,
 "nbformat_minor": 5
}
