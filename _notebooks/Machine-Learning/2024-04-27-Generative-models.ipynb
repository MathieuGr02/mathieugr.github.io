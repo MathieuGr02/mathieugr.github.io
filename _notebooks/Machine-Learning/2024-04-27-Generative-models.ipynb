{
 "cells": [
  {
   "metadata": {},
   "cell_type": "markdown",
   "source": [
    "# Generative models\n",
    "\n",
    "### Bayesian Concept learning\n",
    "\n",
    "In bayesian concept learning, we use only positive examples to learn.\n",
    "\n",
    "\n",
    "### Number game\n",
    "\n",
    "Given a set of numbers $\\mathcal{D} = \\{x_1,..., x_N \\}$ coming from a mathematical concept $C$, like '*only prime numbers*' or '*powers of two*', we want to know if a new given number $\\tilde{x}$ belongs to $C$. We represent this question as a probability distribution\n",
    "\n",
    "$$\n",
    "p(\\tilde{x} | \\mathcal{D}) \\ \\text{Probability of } \\tilde{x} \\in C\n",
    "$$\n",
    "\n",
    "Which is the so called ***posterior predictive distribution***. The posterior predictive distribution can be seen as the probability of a new datapoint $\\tilde{x}$ given our already observed data $\\mathcal{D}$.\n",
    "\n",
    "We define $\\mathcal{H}$ as our hypothesis space where $C(\\mathcal{D}) \\in \\mathcal{H}$, meaning that $\\mathcal{H}$ is consistent with our observed data. $\\mathcal{H}$ contains then all possible concepts ($\\mathcal{H}$ = {'odd', 'even', 'powers of two'}). The more data we have, the more we can rule out different Concepts in our hypothesis space, which narrows done the amount of possibilities.\n",
    "\n",
    "#### Likelihood\n",
    "\n",
    "Given the data, we want to see if picking one possible concept over another is better. Assuming that the samples $x_i$ are sampled uniformly at random from the extension of a concept (=set of numbers that belong to it), then the probability of sampling $x$ randomly from h is given by:\n",
    "\n",
    "$$\n",
    "\\mathbb{P}(x | h) = \\frac{1}{|h|}\n",
    "$$\n",
    "\n",
    "And then the probability of sampling (with replacement) N samples from h is given by:\n",
    "\n",
    "$$\n",
    "\\mathbb{P}(\\mathcal{D} | h) = \\left( \\frac{1}{|h|} \\right)^N \n",
    "$$\n",
    "\n",
    "For example, given $\\mathcal{D} = \\{ 16 \\}$, then we get $\\mathbb{P}(\\mathcal{D} | h_{p-two}) = 1/6$ or $\\mathbb{P}(\\mathcal{D} | h_{even}) = 1/50$ for $|h| = 100$. For $\\mathcal{D} = \\{ 16, 8, 2, 64 \\}$ we get $\\mathbb{P}(\\mathcal{D} | h_{p-two}) = (1/6)^4$ or $\\mathbb{P}(\\mathcal{D} | h_{even}) = (1/50)^4$. From this we can see that it's much more likely that our data came from the distribution of powers of two rather than from the even numbers. The likelihood ratio is 5000:1 in favor of $h_{p-two}$. Such models favor the simplest hypothesis which is consistent with the data (Occam's razor).\n",
    "\n",
    "#### Prior\n",
    "\n",
    "The prior is a way to formalize background knowledge. We might have some prior knowledge that we may want to introduce into our predictions. Like for example giving less weights to weird distributions like $h' = $ Powers of two except 32. This concept, given our data, is more likely than just powers of two but seems illogical to pick because of it's unnaturalness.\n",
    "\n",
    "#### Bayes Formula\n",
    "\n",
    "$$\n",
    "\\underbrace{\\mathbb{P}(h | \\mathcal{D})}_{\\text{Posterior}} \\leftarrow \\underbrace{\\mathbb{P}(\\mathcal{D} | h)}_{\\text{Likelihood}} \\underbrace{\\mathbb{P}(h)}_{\\text{Prior}}\n",
    "\\Rightarrow \\mathbb{P}(h | \\mathcal{D}) = \\frac{\\mathbb{P}(\\mathcal{D} | h) \\mathbb{P}(h)}{\\mathbb{P}(\\mathcal{D})}\n",
    "$$\n",
    "\n",
    "#### Posterior\n",
    "\n",
    "The posterior is basically the normalized product of the likelihood times the prior. The posterior here can be seen as the probability of the Concept $h$ given the observed data. \n",
    "With enough data, our posterior becomes a peak at a single concept, namely the ***MAP estimate***, or ***maximum a posteriori estimation***, which is the maximisation of the posterior. \n",
    "Thus a MAP estimate is finding $h$ for which the posterior is maximised. ($\\delta$ here is the dirac function)\n",
    "\n",
    "$$\n",
    "\\mathbb{P}(h | \\mathcal{D}) \\rightarrow \\delta_{\\hat{h}^{MAP}} (h), \\quad \\hat{h}^{MAP} = \\arg \\max_h \\mathbb{P}(h | \\mathcal{D})\n",
    "$$"
   ],
   "id": "a940d3e77b1c113c"
  },
  {
   "metadata": {},
   "cell_type": "code",
   "outputs": [],
   "execution_count": null,
   "source": [
    "N = 100\n",
    "even = [x for x in range(N + 1) if x % 2 == 0]\n",
    "odd = [x for x in range(N + 1) if  x % 2 != 0]\n",
    "powers_two = [x**2 for x in range(N + 1) if x**2 <= 100]\n",
    "powers_four = [x**4 for x in range(N + 1) if x**2 <= 100]\n",
    "powers_eight = [x**8 for x in range(N + 1) if x**2 <= 100]\n",
    "prime_numbers = [2, 3, 5, 7, 11, 13, 17, 19, 23, 29, 31, 37, 41, 43, 47, 53, 59, 61, 67, 71, 73, 79, 83, 89, 97]"
   ],
   "id": "c0dc6743fe39e7cd"
  }
 ],
 "metadata": {
  "kernelspec": {
   "display_name": "Python 3",
   "language": "python",
   "name": "python3"
  },
  "language_info": {
   "codemirror_mode": {
    "name": "ipython",
    "version": 2
   },
   "file_extension": ".py",
   "mimetype": "text/x-python",
   "name": "python",
   "nbconvert_exporter": "python",
   "pygments_lexer": "ipython2",
   "version": "2.7.6"
  }
 },
 "nbformat": 4,
 "nbformat_minor": 5
}
