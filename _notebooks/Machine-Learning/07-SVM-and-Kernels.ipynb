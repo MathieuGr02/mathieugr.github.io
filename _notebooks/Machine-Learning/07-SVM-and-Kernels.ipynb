{
 "cells": [
  {
   "cell_type": "code",
   "execution_count": null,
   "id": "initial_id",
   "metadata": {
    "collapsed": true
   },
   "outputs": [],
   "source": ""
  },
  {
   "metadata": {},
   "cell_type": "markdown",
   "source": "# SVM",
   "id": "2952d39186e7eb90"
  },
  {
   "metadata": {},
   "cell_type": "markdown",
   "source": [
    "# Kernel function\n",
    "\n",
    "A kernel function is a real-valued function of two arguments, $k(\\mathbf{x}, \\mathbf{x}') \\in \\mathbb{R}$ for $ \\mathbf{x}, \\mathbf{x}' \\in \\mathcal{X} $, where $ \\mathcal{X}$ is the input space."
   ],
   "id": "a81d8ee4ef4ae4d7"
  }
 ],
 "metadata": {
  "kernelspec": {
   "display_name": "Python 3",
   "language": "python",
   "name": "python3"
  },
  "language_info": {
   "codemirror_mode": {
    "name": "ipython",
    "version": 2
   },
   "file_extension": ".py",
   "mimetype": "text/x-python",
   "name": "python",
   "nbconvert_exporter": "python",
   "pygments_lexer": "ipython2",
   "version": "2.7.6"
  }
 },
 "nbformat": 4,
 "nbformat_minor": 5
}
