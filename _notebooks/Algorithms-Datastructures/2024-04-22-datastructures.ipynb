{
 "cells": [
  {
   "metadata": {},
   "cell_type": "markdown",
   "source": [
    "---\n",
    "title: Datastructures\n",
    "layout: collection\n",
    "permalink: /Algorithms-Datastructures/Datastructures\n",
    "collection: Algorithms-Datastructures\n",
    "entries_layout: grid\n",
    "mathjax: true\n",
    "toc: true\n",
    "categories:\n",
    "  - study\n",
    "tags:\n",
    "  - programming\n",
    "---"
   ],
   "id": "dfe8f2f7ac7db581"
  },
  {
   "metadata": {},
   "cell_type": "code",
   "outputs": [],
   "execution_count": 3,
   "source": [
    "from __future__ import annotations\n",
    "\n",
    "from typing import Union\n",
    "import networkx as nx\n",
    "import math\n",
    "import matplotlib.pyplot as plt"
   ],
   "id": "fd89f84e9e90bf89"
  },
  {
   "metadata": {},
   "cell_type": "markdown",
   "source": [
    "# Static Arrays\n",
    "\n",
    "Arrays store a sequence of elements, where the amount of elements in an array is fixed and we can access them by their index.\n",
    "\n",
    "Suppose the array starts at the memory index of $a$ and each array element occupies $b$ bytes. Then we know that the element at index i occupies the memory range:\n",
    "\n",
    "$$\n",
    "[a + b(i - s), \\ a + b(i - s + 1) - 1]\n",
    "$$\n",
    "\n",
    "After the creation of an array, the array stores\n",
    "1. The size of the array\n",
    "2. The address of the start of the allocated memory\n",
    "\n",
    "Running time of some functionality of an array\n",
    "- $\\texttt{get(i)}$: Returns element at index i $\\rightarrow \\Theta(1)$\n",
    "- $\\texttt{set(i, x)}$: Write $x$ element to index i $\\rightarrow \\Theta(1)$\n",
    "- $\\texttt{length()}$: Returns length of array $\\rightarrow \\Theta(1)$\n",
    "- $\\texttt{find(x)}$: Returns index of element $x$ if found in array $\\rightarrow \\Theta(n)$\n",
    "\n",
    "# Dynamic Arrays\n",
    "\n",
    "Dynamic arrays don't have a fixed size and can grow.\n",
    "\n",
    "Additional needed operations\n",
    "- $\\texttt{append(x)}$: Adds element $x$ at the end of the array \n",
    "- $\\texttt{pop()}$:Removes element at the end of the array \n",
    "- $\\texttt{insert(i, x)}$: Inserts element at index i \n",
    "- $\\texttt{remove(i)}$: Removes element at index i \n",
    "\n",
    "To not have to create a new array and move all elements over when appending an new element to the array, we overallocate memory for an array. The capacity of an array is then the amount of allocated space, while the size of the array is the amount of elements.\n",
    "\n",
    "## Append / Insert\n",
    "\n",
    "- If capacity > size:\n",
    "  - Write new element at position size and increase size\n",
    "- If capacity = size\n",
    "  - Allocate new memory that is twice the previous capacity\n",
    "  - Copy over all elements  \n",
    "\n",
    "## Pop/Remove\n",
    "- If capacity > 4 size\n",
    "  - Allocate new memory that is half the previous capacity\n",
    "  - Copy over all elements"
   ],
   "id": "d3bb1c4fef00fd6c"
  },
  {
   "metadata": {},
   "cell_type": "markdown",
   "source": [
    "# Amortized Analysis\n",
    "\n",
    "Amortized analysis determines the average cost of an operation over an entire sequence of operations.\n",
    "\n",
    "## Accounting method\n",
    "\n",
    "We assign charges to operations, where some operations are charged more or less than they actually cost.\n",
    "If we're charged more, we save the difference in credit and if we're charged less, we use up some credit to pay for the difference\n",
    "The credit must be non-negative all the time.\n",
    "Then the total amortized cost is always an upper bound on the actual total cost so far.\n",
    "\n",
    "- Append without resize: constant cost (1)\n",
    "- Append with resize: \n",
    "  - If we insert at position $2^i$\n",
    "  - Allocate space for $2^{i+1}$ elements\n",
    "  - Move over all $2^i - 1$ elements\n",
    "  \n",
    "Because a charging cost of 3 covers all running time costs, append has a constant amortized running time."
   ],
   "id": "b6b61954384f6dc7"
  },
  {
   "metadata": {},
   "cell_type": "markdown",
   "source": [
    "## Arrays running times\n",
    "\n",
    "\n",
    "| Operation                      | Running complexity |\n",
    "|--------------------------------|:-------------------|\n",
    "| Access element by position     | $O(1)$             | \n",
    "| Prepend/remove first element   | $O(n)$             | \n",
    "| Append                         | $O(1)$ Amortized   |\n",
    "| Remove last element            | $O(1)$ Amortized   | \n",
    "| Insert, remove from the middle | $O(n)$             |\n",
    "| Traverse all elements          | $O(n)$             |"
   ],
   "id": "6f27f1f2656005a2"
  },
  {
   "metadata": {},
   "cell_type": "markdown",
   "source": [
    "# Linked list\n",
    "\n",
    "With linked list, each element stores the value, as well as a pointer to the next object.\n",
    "\n",
    "When using a double linked list, we store the previous object pointer in the element"
   ],
   "id": "d24fa324a6f89cd5"
  },
  {
   "metadata": {
    "ExecuteTime": {
     "end_time": "2024-04-24T19:26:14.715412Z",
     "start_time": "2024-04-24T19:26:14.702902Z"
    }
   },
   "cell_type": "code",
   "source": [
    "class Node:\n",
    "  def __init__(self, item):\n",
    "    self.item = item\n",
    "    \n",
    "    self.prev = None\n",
    "    self.next = None\n",
    "\n",
    "class LinkedList:\n",
    "  def __init__(self):\n",
    "    self.first = None\n",
    "    self.last = None\n",
    "    \n",
    "  def append(self, item) -> None:\n",
    "    node = Node(item)\n",
    "    if self.first is None:\n",
    "      self.first = node\n",
    "      self.last = node\n",
    "    else:\n",
    "      self.last.next = node\n",
    "      node.prev = self.last\n",
    "      self.last = node\n",
    "\n",
    "  def prepend(self, item) -> None:\n",
    "    node = Node(item)\n",
    "    if self.first is None:\n",
    "      self.first = node\n",
    "      self.last = node\n",
    "    else:\n",
    "      node.next = self.first\n",
    "      self.first.prev = node\n",
    "      self.first = node\n",
    "      \n",
    "  def pop(self, item) -> Union[object, None]:\n",
    "    current = self.first\n",
    "    while current is not None:\n",
    "      if current.item == item:\n",
    "        if current == self.last:\n",
    "          self.last = current.prev\n",
    "          current.prev.next = None\n",
    "        else:\n",
    "          current.prev.next = None\n",
    "          current.next.prev = current.prev\n",
    "        return current.item\n",
    "      current = current.next\n",
    "    return None\n",
    "  \n",
    "  def insert(self, index, item) -> None:\n",
    "    i = 0\n",
    "    current = self.first\n",
    "    while i < index:\n",
    "      current = current.next\n",
    "      if current is None:\n",
    "        return \n",
    "      i += 1\n",
    "    \n",
    "    node = Node(item)\n",
    "    current.prev.next = node\n",
    "    node.prev = current.prev\n",
    "    node.next = current\n",
    "    current.prev = node\n",
    "  \n",
    "  def remove_last_item(self):\n",
    "    value = self.last.item\n",
    "    self.last.prev.next = None\n",
    "    self.last = self.last.prev\n",
    "    return value\n",
    "  \n",
    "  def find(self, value):\n",
    "    current = self.first\n",
    "    \n",
    "    while current is not None:\n",
    "      if current.item == value:\n",
    "        return True\n",
    "    \n",
    "    return False\n",
    "  \n",
    "  def __str__(self):\n",
    "    linked_list = '['\n",
    "    current = self.first\n",
    "    while current.next is not None:\n",
    "      linked_list += str(current.item) + ', '\n",
    "      current = current.next\n",
    "    \n",
    "    linked_list += str(current.item) + ']'\n",
    "    return linked_list"
   ],
   "id": "1ae2024f709a007e",
   "outputs": [],
   "execution_count": 2
  },
  {
   "metadata": {
    "ExecuteTime": {
     "end_time": "2024-04-24T19:26:14.964488Z",
     "start_time": "2024-04-24T19:26:14.955456Z"
    }
   },
   "cell_type": "code",
   "source": [
    "l = LinkedList()\n",
    "for i in range(10):\n",
    "  l.append(i)\n",
    "  \n",
    "print(l)\n",
    "l.prepend(8)\n",
    "print(l)\n",
    "l.pop(2)\n",
    "print(l)\n",
    "l.insert(3, 12)\n",
    "print(l)"
   ],
   "id": "a3438598dc6ac1ea",
   "outputs": [
    {
     "name": "stdout",
     "output_type": "stream",
     "text": [
      "[0, 1, 2, 3, 4, 5, 6, 7, 8, 9]\n",
      "[8, 0, 1, 2, 3, 4, 5, 6, 7, 8, 9]\n",
      "[8, 0, 1]\n",
      "[8, 0, 1]\n"
     ]
    }
   ],
   "execution_count": 3
  },
  {
   "metadata": {},
   "cell_type": "markdown",
   "source": [
    "| Operation                      | Running complexity                    |\n",
    "|--------------------------------|:--------------------------------------|\n",
    "| Access element by position     | -                                     | \n",
    "| Prepend/remove first element   | $O(1)$                                | \n",
    "| Append                         | $O(n)$, $O(1)$ for doubly linked list |\n",
    "| Remove last element            | $O(n)$, $O(1)$ for doubly linked list | \n",
    "| Insert, remove from the middle | $O(n)$                                |\n",
    "| Traverse all elements          | $O(n)$                                |\n",
    "| Find an element                | $O(n)$                                |"
   ],
   "id": "5ad29deda0d6f4ab"
  },
  {
   "metadata": {},
   "cell_type": "markdown",
   "source": [
    "# Abstract data types\n",
    "\n",
    "An abstract data type is the description of a data type, summarizing the possible data and the possible operations on this data. Here theres no need to specifiy the concrete representation of the data, only its capabilities. Its specifies behaviour, not implementation.\n",
    "\n",
    "## Stack\n",
    "\n",
    "A stack is a datastructure which follows the last-in-first-out (LIFO) principle and supports the following operation:\n",
    "\n",
    "- $\\texttt{push(x)}$: Puts x on top of the stack\n",
    "- $\\texttt{pop()}$: Removes the item at the top of the stack"
   ],
   "id": "37b650d66dee3821"
  },
  {
   "metadata": {
    "ExecuteTime": {
     "end_time": "2024-04-22T14:09:25.114861Z",
     "start_time": "2024-04-22T14:09:25.101251Z"
    }
   },
   "cell_type": "code",
   "source": [
    "class Stack(LinkedList):\n",
    "  def __init__(self):\n",
    "    super().__init__()\n",
    "  \n",
    "  def push(self, item):\n",
    "    self.append(item)\n",
    "  \n",
    "  def pop(self)-> Union[object, None]:\n",
    "    return self.remove_last_item()"
   ],
   "id": "9560ea68150f9dfd",
   "outputs": [],
   "execution_count": 83
  },
  {
   "metadata": {
    "ExecuteTime": {
     "end_time": "2024-04-22T14:09:25.440515Z",
     "start_time": "2024-04-22T14:09:25.436510Z"
    }
   },
   "cell_type": "code",
   "source": [
    "s = Stack()\n",
    "for i in range(10):\n",
    "  s.append(i)\n",
    "\n",
    "print(s)\n",
    "s.push(11)\n",
    "print(s)\n",
    "print(s.pop())\n",
    "print(s)"
   ],
   "id": "67eb07a35ad5780b",
   "outputs": [
    {
     "name": "stdout",
     "output_type": "stream",
     "text": [
      "[0, 1, 2, 3, 4, 5, 6, 7, 8, 9]\n",
      "[0, 1, 2, 3, 4, 5, 6, 7, 8, 9, 11]\n",
      "11\n",
      "[0, 1, 2, 3, 4, 5, 6, 7, 8, 9]\n"
     ]
    }
   ],
   "execution_count": 84
  },
  {
   "metadata": {},
   "cell_type": "markdown",
   "source": [
    "## Queue\n",
    "\n",
    "A queue is a data structure which follows the first-in-first-out (FIFO) principle and supports the following operation:\n",
    "\n",
    "- $\\texttt{enqueue(x)}$: Adds an item to the tail of the queue\n",
    "- $\\texttt{dequeue(x)}$: Removes the item at the head of the queue\n",
    "\n",
    "Queues are helpful if we need to store elements and process them in the same order."
   ],
   "id": "9c7202c92e9669bf"
  },
  {
   "metadata": {
    "ExecuteTime": {
     "end_time": "2024-04-22T14:09:36.380222Z",
     "start_time": "2024-04-22T14:09:36.374699Z"
    }
   },
   "cell_type": "code",
   "source": [
    "class Queue(LinkedList):\n",
    "  def __init__(self):\n",
    "    super().__init__()\n",
    "    \n",
    "  def enqueue(self, item):\n",
    "    self.prepend(item)\n",
    "    \n",
    "  def dequeue(self):\n",
    "    return self.remove_last_item()"
   ],
   "id": "bbb0ad10f6e34a87",
   "outputs": [],
   "execution_count": 85
  },
  {
   "metadata": {
    "ExecuteTime": {
     "end_time": "2024-04-22T14:09:36.813369Z",
     "start_time": "2024-04-22T14:09:36.793845Z"
    }
   },
   "cell_type": "code",
   "source": [
    "q = Queue()\n",
    "for i in range(10):\n",
    "  q.append(i)\n",
    "  \n",
    "print(q)\n",
    "q.enqueue(11)\n",
    "print(q)\n",
    "print(q.dequeue())\n",
    "print(q)"
   ],
   "id": "c8ee71b5332d10b0",
   "outputs": [
    {
     "name": "stdout",
     "output_type": "stream",
     "text": [
      "[0, 1, 2, 3, 4, 5, 6, 7, 8, 9]\n",
      "[11, 0, 1, 2, 3, 4, 5, 6, 7, 8, 9]\n",
      "9\n",
      "[11, 0, 1, 2, 3, 4, 5, 6, 7, 8]\n"
     ]
    }
   ],
   "execution_count": 86
  },
  {
   "metadata": {},
   "cell_type": "markdown",
   "source": [
    "# Deques\n",
    "\n",
    "A double-ended queue (deque) generalizes both, queues and stacks:\n",
    "- $\\texttt{append}$: Adds an item to the right side of the deque.\n",
    "- $\\texttt{appendleft}$: Adds an item to the left side of the deque.\n",
    "- $\\texttt{pop}$: Removes the item at the right end of the deque.\n",
    "- $\\texttt{popleft}$: Removes the item at the left end of the deque."
   ],
   "id": "3c4fa1c542e48bea"
  },
  {
   "metadata": {},
   "cell_type": "markdown",
   "source": [
    "# Heap\n",
    "\n",
    "A binary tree is a tree where each node has a successor node. A nearly complete binary tree is filled on all levels except for the last one, where it is partially filled from left to right. There exist two different heaps\n",
    "\n",
    "- Max heap: A binary tree where every node is larger or equal it's children. The largest key of such a heap is at the root.\n",
    "- Min heap: A binary tree where every node is smaller or equal it's children. The smallest key of such a heap is at the root."
   ],
   "id": "337502fd4145a928"
  },
  {
   "metadata": {
    "ExecuteTime": {
     "end_time": "2024-04-23T18:39:48.186301Z",
     "start_time": "2024-04-23T18:39:48.167148Z"
    }
   },
   "cell_type": "code",
   "source": [
    "def _build_graph(g, a, k, x_pos, N):\n",
    "    height = math.floor(math.log(N+1, 2)) # Height of the tree\n",
    "    depth = math.floor(math.log(k, 2)) # Depth of the current node k\n",
    "    if k > N:\n",
    "        return\n",
    "    else:\n",
    "        y = (height - depth)\n",
    "        g.add_node(k, pos=(x_pos, y), label=str(a[k]))\n",
    "        if k > 1: g.add_edge(k, k // 2)\n",
    "        _build_graph(g, a, k * 2 , x_pos - 2**(height - depth), N)\n",
    "        _build_graph(g, a, k * 2 + 1, x_pos + 2**(height - depth),  N)\n",
    "        \n",
    "    \n",
    "def show_array_as_tree(a, N=None):\n",
    "    if N is None:\n",
    "        N = len(a) - 1\n",
    "    g = nx.Graph()\n",
    "    _build_graph(g, a, 1, len(a) / 2 + 1, N)\n",
    "    pos=nx.get_node_attributes(g,'pos')\n",
    "    labels = nx.get_node_attributes(g, 'label')\n",
    "    \n",
    "    nx.draw_networkx_nodes(g, pos, node_size=1000, node_color='#00b4d9')\n",
    "    nx.draw_networkx_edges(g, pos)\n",
    "    nx.draw_networkx_labels(g, pos, labels)\n",
    "    plt.show()"
   ],
   "id": "60b37fdb67ef180d",
   "outputs": [],
   "execution_count": 8
  },
  {
   "metadata": {},
   "cell_type": "markdown",
   "source": [
    "Helper functions"
   ],
   "id": "94c7866994bb7019"
  },
  {
   "metadata": {
    "ExecuteTime": {
     "end_time": "2024-04-23T18:39:48.558981Z",
     "start_time": "2024-04-23T18:39:48.549967Z"
    }
   },
   "cell_type": "code",
   "source": [
    "def parent(i: int): \n",
    "  return i // 2\n",
    "  \n",
    "def right(i: int): \n",
    "  return 2 * i + 1\n",
    "  \n",
    "def left(i: int): \n",
    "  return 2 * i  "
   ],
   "id": "66acbe32d90fde83",
   "outputs": [],
   "execution_count": 9
  },
  {
   "metadata": {
    "ExecuteTime": {
     "end_time": "2024-04-23T18:39:48.964194Z",
     "start_time": "2024-04-23T18:39:48.833904Z"
    }
   },
   "cell_type": "code",
   "source": [
    "heap = [None, 1, 2, 3, 4, 5, 6, 7, 8, 9]\n",
    "heap_size = len(heap) - 1\n",
    "show_array_as_tree(heap)"
   ],
   "id": "cda6f5466b779694",
   "outputs": [
    {
     "data": {
      "text/plain": [
       "<Figure size 640x480 with 1 Axes>"
      ],
      "image/png": "[encoded data removed]"
     },
     "metadata": {},
     "output_type": "display_data"
    }
   ],
   "execution_count": 10
  },
  {
   "metadata": {},
   "cell_type": "markdown",
   "source": [
    "## Sink method\n",
    "\n",
    "Let h be the height of the subtree rooted at position i, then we have $O(h)$.\n",
    "\n",
    "Let n be the number of nodes of the subtree rooted at position i. Each subtree has size at most $2n/3$, so for the worst-case running time T of sink, we have \n",
    "\n",
    "$$\n",
    "T(n) \\leq T(2n / 3) + \\Theta(1)\n",
    "$$\n",
    "\n",
    "Which by the master theorem gives\n",
    "\n",
    "$$\n",
    "T(n) \\in O(\\log_2 n)\n",
    "$$\n"
   ],
   "id": "d42419f35fd2bf14"
  },
  {
   "metadata": {
    "ExecuteTime": {
     "end_time": "2024-04-23T19:00:30.396727Z",
     "start_time": "2024-04-23T19:00:30.316047Z"
    }
   },
   "cell_type": "code",
   "source": [
    "def sink(heap: list, i: int, heap_size: int):\n",
    "  l = left(i)\n",
    "  r = right(i)\n",
    "  if l <= heap_size and heap[i] < heap[l]:\n",
    "    largest = l\n",
    "  else:\n",
    "    largest = i\n",
    "  if r <= heap_size and heap[largest] < heap[r]:\n",
    "    largest = r\n",
    "    \n",
    "  if largest != i:\n",
    "    heap[i], heap[largest] = heap[largest], heap[i]\n",
    "    sink(heap, largest, heap_size)\n",
    "    \n",
    "heap = [None, 1, 2, 3, 4, 5, 6, 7, 8, 9]\n",
    "heap_size = len(heap) - 1\n",
    "sink(heap, 1, heap_size)\n",
    "show_array_as_tree(heap)"
   ],
   "id": "7982ea68765b96f6",
   "outputs": [
    {
     "data": {
      "text/plain": [
       "<Figure size 640x480 with 1 Axes>"
      ],
      "image/png": "[encoded data removed]"
     },
     "metadata": {},
     "output_type": "display_data"
    }
   ],
   "execution_count": 53
  },
  {
   "metadata": {},
   "cell_type": "markdown",
   "source": [
    "## Swim method\n",
    "  \n",
    "Swim also has a worts case running time of:\n",
    "\n",
    "$$\n",
    "T(n) \\in O(\\log_2 n)\n",
    "$$\n"
   ],
   "id": "2657f3dcf25b10d7"
  },
  {
   "metadata": {
    "ExecuteTime": {
     "end_time": "2024-04-23T18:51:48.940447Z",
     "start_time": "2024-04-23T18:51:48.769992Z"
    }
   },
   "cell_type": "code",
   "source": [
    "def swim(heap: list, i: int):\n",
    "  p = parent(i)\n",
    "    \n",
    "  if p >= 1 and heap[i] > heap[p]:\n",
    "    heap[i], heap[p] = heap[p], heap[i]\n",
    "    swim(heap, p)\n",
    "    \n",
    "heap = [None, 1, 2, 3, 4, 5, 6, 7, 8, 9]\n",
    "heap_size = len(heap) - 1\n",
    "swim(heap, heap_size)\n",
    "show_array_as_tree(heap)"
   ],
   "id": "d241a3f8adb01acc",
   "outputs": [
    {
     "data": {
      "text/plain": [
       "<Figure size 640x480 with 1 Axes>"
      ],
      "image/png": "[encoded data removed]"
     },
     "metadata": {},
     "output_type": "display_data"
    }
   ],
   "execution_count": 30
  },
  {
   "metadata": {},
   "cell_type": "markdown",
   "source": [
    "## Build max heap\n",
    "\n",
    "A heap with n elements has a height of $\\lfloor \\log_2 n \\rfloor$ and there are at most, $\\lceil \\frac{n}{2^{h + 1}} \\rceil$ nodes rooting subtrees of height h. In total, the worst case running time is \n",
    "\n",
    "$$\n",
    "T(n) \\in O(n)\n",
    "$$"
   ],
   "id": "6fbdacf56b0b9f4"
  },
  {
   "metadata": {
    "ExecuteTime": {
     "end_time": "2024-04-23T18:52:02.606671Z",
     "start_time": "2024-04-23T18:52:02.530448Z"
    }
   },
   "cell_type": "code",
   "source": [
    "def build_max_heap(heap: list, heap_size: int):\n",
    "  for i in range(heap_size//2, 0, -1):\n",
    "    sink(heap, i, heap_size)\n",
    "    \n",
    "heap = [None, 1, 2, 3, 4, 5, 6, 7, 8, 9]\n",
    "heap_size = len(heap) - 1\n",
    "build_max_heap(heap, heap_size)\n",
    "show_array_as_tree(heap)"
   ],
   "id": "669af228f1ae5d05",
   "outputs": [
    {
     "data": {
      "text/plain": [
       "<Figure size 640x480 with 1 Axes>"
      ],
      "image/png": "[encoded data removed]"
     },
     "metadata": {},
     "output_type": "display_data"
    }
   ],
   "execution_count": 31
  },
  {
   "metadata": {},
   "cell_type": "markdown",
   "source": [
    "Finding the maximum of a max-heap is trivial as it is the element at the root of the tree.\n",
    "\n",
    "$$\n",
    "T(n) \\in \\Theta(1)\n",
    "$$"
   ],
   "id": "a0abd826218f4ec2"
  },
  {
   "metadata": {
    "ExecuteTime": {
     "end_time": "2024-04-23T18:52:48.783357Z",
     "start_time": "2024-04-23T18:52:48.769342Z"
    }
   },
   "cell_type": "code",
   "source": [
    "def max_heap_maximum(heap: list, heap_size: int):\n",
    "    if heap_size < 1:\n",
    "      return None\n",
    "    else:\n",
    "      return heap[1]\n",
    "    \n",
    "heap = [None, 1, 2, 3, 4, 5, 6, 7, 8, 9]\n",
    "heap_size = len(heap) - 1\n",
    "build_max_heap(heap, heap_size)\n",
    "print(max_heap_maximum(heap, heap_size))"
   ],
   "id": "8544acb19d263c72",
   "outputs": [
    {
     "name": "stdout",
     "output_type": "stream",
     "text": [
      "9\n"
     ]
    }
   ],
   "execution_count": 33
  },
  {
   "metadata": {},
   "cell_type": "markdown",
   "source": [
    "In $\\texttt{max_heap_extract_max()}$ we remove the largerst element, replace it with the last element and sink it to restore the heap.\n",
    "\n",
    "$$\n",
    "T(n) \\in O(\\log_2 n)\n",
    "$$"
   ],
   "id": "ee1323f852800bb2"
  },
  {
   "metadata": {
    "ExecuteTime": {
     "end_time": "2024-04-23T19:00:34.397714Z",
     "start_time": "2024-04-23T19:00:34.326633Z"
    }
   },
   "cell_type": "code",
   "source": [
    "def max_heap_extract_max(heap: list, heap_size: int):\n",
    "    maximum = max_heap_maximum(heap, heap_size)\n",
    "    heap[1] = heap[heap_size]\n",
    "    heap = heap[:-1].copy()\n",
    "    heap_size -= 1\n",
    "    sink(heap, 1, heap_size)\n",
    "    return heap, maximum\n",
    "\n",
    "heap = [None, 1, 2, 3, 4, 5, 6, 7, 8, 9]\n",
    "heap_size = len(heap) - 1\n",
    "build_max_heap(heap, heap_size)\n",
    "heap, max = max_heap_extract_max(heap, heap_size)\n",
    "show_array_as_tree(heap)"
   ],
   "id": "1c04b51099f4dac3",
   "outputs": [
    {
     "data": {
      "text/plain": [
       "<Figure size 640x480 with 1 Axes>"
      ],
      "image/png": "[encoded data removed]"
     },
     "metadata": {},
     "output_type": "display_data"
    }
   ],
   "execution_count": 54
  },
  {
   "metadata": {},
   "cell_type": "markdown",
   "source": [
    "We insert new values as leaves and let them swim up to restore the heap\n",
    "\n",
    "$$\n",
    "T(n) \\in O( \\log_2 n)\n",
    "$$"
   ],
   "id": "5410242d1350e225"
  },
  {
   "metadata": {
    "ExecuteTime": {
     "end_time": "2024-04-23T19:04:34.221814Z",
     "start_time": "2024-04-23T19:04:34.148715Z"
    }
   },
   "cell_type": "code",
   "source": [
    "def max_heap_insert(heap: list, item, heap_size: int):\n",
    "  heap.append(item)\n",
    "  heap_size += 1\n",
    "  swim(heap, heap_size)\n",
    "  \n",
    "heap = [None, 1, 2, 3, 4, 5, 6, 7, 8, 9]\n",
    "heap_size = len(heap) - 1\n",
    "build_max_heap(heap, heap_size)\n",
    "max_heap_insert(heap, 20, heap_size)\n",
    "show_array_as_tree(heap)"
   ],
   "id": "77dd6cc6c30d7825",
   "outputs": [
    {
     "data": {
      "text/plain": [
       "<Figure size 640x480 with 1 Axes>"
      ],
      "image/png": "[encoded data removed]"
     },
     "metadata": {},
     "output_type": "display_data"
    }
   ],
   "execution_count": 55
  },
  {
   "metadata": {},
   "cell_type": "markdown",
   "source": [
    "# Heapsort\n",
    "The concept works similair to selection sort, but here we sort from right to left.\n",
    "\n",
    "### Properties\n",
    "- In-place: Direct representation of heap as array causes no usage of extra memory\n",
    "\n",
    "### Running time\n",
    "\n",
    "Building the max heap takes linear time and n iterations over the loop where sink has a running time of $O( \\log_2 n)$, so we get a total running time of:\n",
    "\n",
    "$$\n",
    "T(n) \\in O(n \\log_2 n)\n",
    "$$"
   ],
   "id": "64830d40448378e0"
  },
  {
   "metadata": {
    "ExecuteTime": {
     "end_time": "2024-04-23T19:20:57.253827Z",
     "start_time": "2024-04-23T19:20:57.240294Z"
    }
   },
   "cell_type": "code",
   "source": [
    "def heapsort(array):\n",
    "  build_max_heap(array, len(array) - 1)\n",
    "\n",
    "  for i in range(len(array) - 1, 0, -1):\n",
    "    array[1], array[i] = array[i], array[1]\n",
    "    sink(array, 1, i - 1)\n",
    "    \n",
    "array = [None, 3, 5, 6, 2, 7, 0]\n",
    "heapsort(array)\n",
    "print(array)"
   ],
   "id": "29996d445c5a15f0",
   "outputs": [
    {
     "name": "stdout",
     "output_type": "stream",
     "text": [
      "[None, 0, 2, 3, 5, 6, 7]\n"
     ]
    }
   ],
   "execution_count": 70
  },
  {
   "metadata": {},
   "cell_type": "markdown",
   "source": [
    "# Priority Queue\n",
    "\n",
    "A priority queue is an abstract data type for maintaining a collection of elements, each with an associated key and a max-priority queue supports the following operation\n",
    "\n",
    "- $\\texttt{insert(x, k)}$: Inserts element $x$ with key $k$\n",
    "- $\\texttt{maximum()}$: Returns the element with the largest key\n",
    "- $\\texttt{extract_max()}$: Returns and removes the element with the largest key\n",
    "\n",
    "It can insert items with a priority (= key) and can then obtain the item with the highest priority (implementation via heaps)"
   ],
   "id": "ca5d2629d05b377f"
  },
  {
   "metadata": {},
   "cell_type": "markdown",
   "source": [
    "# Hash Table\n",
    "\n",
    "Image we have $k$ keys coming from the set $U$, where k is a large or even an infinit number. To pack these into an array $T$ of size $m$, we use a hash function\n",
    "\n",
    "$$\n",
    "h : U \\mapsto \\{0, ..., m-1 \\}\n",
    "$$\n",
    "\n",
    "(i.e. h = k mod m). We call $h(k)$ the hasch value of $k$.\n",
    "\n",
    "Because $k \\gg m$ we can have overlap, causing different keys to be mapped to the same hash value. Here are two methods to work with these overlaps\n",
    "\n",
    "### Chaining\n",
    "\n",
    "In chaining every hash value points to a doubly linked list, where every key with the same hash value gets stored in that doubly linked list.\n",
    "\n",
    "Implementation\n",
    "- Search:\n",
    "  - Search for entry with key $k$ in list $T[h(k)]$\n",
    "- Removal:\n",
    "  - Search for and remove element with key $k$ from list $T[h(k)]$\n",
    "- Insert:\n",
    "  - Search for entry with key k in list $T[h(k)]$\n",
    "    -  If found, update node with new value\n",
    "    - If not found, prepend entry to list at $T[h(k)]$\n",
    "    \n",
    "The running time of these operations is dependant on the running time of the doubly linked list.\n",
    "\n",
    "A independent uniform hash function is seen as the ideal function although it is impossible to implement. This function chooses the hash value from a uniform distribution over the values\n",
    " $\\{0, ...,m-1 \\}$.\n",
    " The load factor $\\alpha$ is defined as the ration of the number of stored elements and the number of positions in the hash table\n",
    " \n",
    "$$\n",
    "\\alpha = \\frac{n}{m}\n",
    "$$\n",
    "\n",
    "$\\alpha$ is then the average number of entries in a chain.\n",
    "\n",
    "In a hash table in which collisions are resolved by chaining, a\n",
    "search (successful or unsuccessful) takes $\\Theta(1 + \\alpha)$ time on\n",
    "average, under the assumption of independent uniform hashing.\n",
    "\n",
    "If the number of elements n is at most proportional to the number\n",
    "of slots $m (n \\leq cm$ for constant $c > 0)$, then $\\alpha \\leq c \\frac{m}{m} \\in O(1)$.\n",
    "Then, the average running time of insertion, deletion and search is $O(1)$.\n",
    "\n",
    "To maintain an upper bound on the load factor\n",
    "(and thus constant average running times of operations),\n",
    "we may need to increase the size of the table.\n",
    "The change from the previous size m to size m′ requires an\n",
    "adaptation of the hash function.\n",
    "In contrast to a size change of an array (where we just move\n",
    "every entry to the same index of the new memory range), we\n",
    "need to rehash all elements and insert them anew."
   ],
   "id": "6b981331f0d23014"
  },
  {
   "metadata": {
    "ExecuteTime": {
     "end_time": "2024-04-24T19:34:13.403791Z",
     "start_time": "2024-04-24T19:34:13.392784Z"
    }
   },
   "cell_type": "code",
   "source": [
    "class ChainingHash:\n",
    "  def __init__(self, size: int):\n",
    "    self.hashmap = [None] * size\n",
    "    self.size = size\n",
    "    \n",
    "  def hash(self, value: int):\n",
    "    return value % self.size\n",
    "  \n",
    "  def add(self, value: int):\n",
    "    hash_key = self.hash(value)\n",
    "    \n",
    "    if self.hashmap[hash_key] is None:\n",
    "      linked_list = LinkedList()\n",
    "      linked_list.append(value)\n",
    "      self.hashmap[hash_key] = linked_list\n",
    "    else:\n",
    "      self.hashmap[hash_key].append(value)\n",
    "      \n",
    "  def search(self, value: int):\n",
    "    hash_key = self.hash(value)\n",
    "    \n",
    "    if self.hashmap[hash_key] is not None:\n",
    "      return self.hashmap[hash_key].find(value)\n",
    "    return False    \n",
    "  \n",
    "  def remove(self, value: int):\n",
    "    hash_key = self.hash(value)\n",
    "    \n",
    "    if self.hashmap[hash_key] is not None:\n",
    "      self.hashmap[hash_key].pop(value)"
   ],
   "id": "e09839fe75b531e6",
   "outputs": [],
   "execution_count": 5
  },
  {
   "metadata": {},
   "cell_type": "markdown",
   "source": [
    "### Linear Probing\n",
    "\n",
    "Linear probing with a load of $\\alpha = \\frac{n}{m} < 1$ has a worst running time, when the hash has only one slot and a key is not in the hash. The expected number of probes in an unsuccessful search is then at most on average:\n",
    "\n",
    "$$\n",
    "\\frac{1}{1 - \\alpha} = 1 + \\alpha + \\alpha^2 + \\alpha^3 + ...\n",
    "$$\n",
    "\n",
    "For a successful search, the expected number of probes is at most:\n",
    "\n",
    "$$\n",
    "\\frac{1}{\\alpha} \\log_e \\frac{1}{1 - \\alpha}\n",
    "$$\n",
    "\n",
    "assuming independent uniform permutation hashing with no\n",
    "deletions and assuming that each key in the table is equally likely\n",
    "to be searched for."
   ],
   "id": "c3dd9411cb858cf4"
  },
  {
   "metadata": {},
   "cell_type": "code",
   "outputs": [],
   "execution_count": null,
   "source": [
    "class LinearHash:\n",
    "  def __init__(self, size: int):\n",
    "    self.hashmap = [None] * size\n",
    "    self.size = size\n",
    "    \n",
    "  def h(self, key: int, index: int):\n",
    "    pass \n",
    "  \n",
    "  def g(self, key: int, index: int):\n",
    "    pass  \n",
    "  \n",
    "  def insert(self, value: int):    \n",
    "    for i in range(self.size):\n",
    "      hash_key = self.h(value, i)\n",
    "\n",
    "      if self.hashmap[hash_key] is None:\n",
    "        self.hashmap[hash_key + i] = value\n",
    "        return hash_key\n",
    "    \n",
    "  def search(self, value: int):\n",
    "    for i in range(self.size):\n",
    "      hash_key = self.h(value, i)\n",
    "      \n",
    "      if self.hashmap[hash_key] == value:\n",
    "        return hash_key\n",
    "      if self.hashmap[hash_key] is None:\n",
    "        break\n",
    "    return None\n",
    "  \n",
    "  def delete(self, index):\n",
    "    self.hashmap[index] = None\n",
    "    pos = index\n",
    "    \n",
    "    while True:\n",
    "      pos = (pos + 1) % self.size\n",
    "      \n",
    "      if self.hashmap[pos] is None:\n",
    "        return      \n",
    "      key = self.hashmap[pos]\n",
    "      if g(key, index) < g(key, pos):\n",
    "        break\n",
    "      \n",
    "    self.hashmap[index] = key  \n",
    "    self.delete(pos)"
   ],
   "id": "bab404c2b9698334"
  },
  {
   "metadata": {},
   "cell_type": "markdown",
   "source": [
    "In double hashing, we use two auxilairy hash functions $h_1$ and $h_2$ such that\n",
    "\n",
    "$$\n",
    "h(k, i) = (h_1(k) + i h_2(k)) \\ \\text{mod} \\ m\n",
    "$$\n",
    "\n",
    "where $h_1$ is the probe position and $h_2$ the step size and $h_2(k)$ must be relatively prime to m.\n",
    "\n",
    "For deleting use function\n",
    "\n",
    "$$\n",
    "g(k, q) = (q - h_1(k)) \\ \\text{mod} \\ m \\rightarrow h(k, i) = i \\Rightarrow g(k, q) = i\n",
    "$$"
   ],
   "id": "d090367153565507"
  },
  {
   "metadata": {},
   "cell_type": "markdown",
   "source": [
    "### Hash functions\n",
    "\n",
    "- Static hasing: Use a single, fixed hash function\n",
    "  - $h(k) = k \\ \\text{mod} \\ m$\n",
    "  - $h(k) = \\lfloor m(kA - \\lfloor kA \\rfloor)\\rfloor$ for some $0 < A < 1$. $kA - \\lfloor kA \\rfloor$ gives the fractional part of $kA$. This function works best if $m - 2^l$ where $l \\leq w$, where w is the number of bits in a machine word."
   ],
   "id": "e3d7652d842d4b5b"
  },
  {
   "metadata": {},
   "cell_type": "markdown",
   "source": [
    "# Binary search trees\n",
    "\n",
    "A tree is a binary search tree if:\n",
    "\n",
    "- All nodes $y$ in the left subtree of $x$ have a key smaller than x\n",
    "- all nodes $y$ in the right subtree of $x$ have a key larger than x\n",
    "\n",
    "A search tree supports the following operations:\n",
    "- $\\texttt{search(n, k)}$: given node $n$ and key $k$, returns the pointer to element with key k in the tree rooted by n or none if no such element in the tree\n",
    "- $\\texttt{insert(n, k, v)}$ adds a node with key $k$ and value $v$ to tree rooted in node $n$.\n",
    "- $\\texttt{delete(n)}$: given a pointer $n$ to a node in the tree, removes $n$\n",
    "- $\\texttt{minimum(n)}$ and $\\texttt{maxmimum(n)}$: return the element with the smalles or largest key from the tree rooted in node $n$.\n",
    "- $\\texttt{successor(n)}$: given node $n$ whose key is from a totally ordered set, returns the pointer to the next larger element in the tree, or $None$ if $n$ hold the maximum element.\n",
    "\n",
    "For $\\texttt{inorder_tree_walk(node)}$, the total running time is for $n$ nodes is:\n",
    "\n",
    "$$\n",
    "\\Theta(n)\n",
    "$$\n",
    "\n",
    "Given a tree depth of $h$, the running time for $\\texttt{minimum}$, $\\texttt{maximum}$, $\\texttt{successor}$, $\\texttt{insert}$ and $\\texttt{delete}$ is:\n",
    "\n",
    "$$\n",
    "O(h)\n",
    "$$"
   ],
   "id": "f562490363cb2e2c"
  },
  {
   "metadata": {
    "ExecuteTime": {
     "end_time": "2024-04-25T13:05:58.791904Z",
     "start_time": "2024-04-25T13:05:58.776893Z"
    }
   },
   "cell_type": "code",
   "source": [
    "class NodeBST:\n",
    "    def __init__(self, key, value):\n",
    "      self.key = key\n",
    "      self.value = value\n",
    "      self.parent = None\n",
    "      self.left = None\n",
    "      self.right = None\n",
    "\n",
    "class BST:\n",
    "  def __init__(self):\n",
    "    self.root = None\n",
    "  \n",
    "  def inorder_tree_walk(self, node: NodeBST):\n",
    "    if node is not None:\n",
    "      self.inorder_tree_walk(node.left)\n",
    "      print(f' {node.key} ')\n",
    "      self.inorder_tree_walk(node.right)\n",
    "      \n",
    "  def search(self, root: NodeBST, key):\n",
    "    node = root  \n",
    "    while node is not None:\n",
    "      if node.key == key:\n",
    "        return node\n",
    "      elif node.key < key:\n",
    "        node = node.right\n",
    "      else:\n",
    "        node = node.left\n",
    "    return None\n",
    "  \n",
    "  def minimum(self, root: NodeBST):\n",
    "    node = root\n",
    "    while node.left is not None:\n",
    "      node = node.left\n",
    "    return node\n",
    "  \n",
    "  def maximum(self, root: NodeBST):\n",
    "    node = root\n",
    "    while node.right is not None:\n",
    "      node = node.right\n",
    "    return node\n",
    "  \n",
    "  def successor(self, node: NodeBST):\n",
    "    if node.right is not None:\n",
    "      return self.minimum(node.right)\n",
    "    \n",
    "    parent = node.parent\n",
    "    while node is not None and node == node.right:\n",
    "      node = parent\n",
    "      parent = node.parent\n",
    "      \n",
    "    return parent\n",
    "  \n",
    "  def insert(self, key, value):\n",
    "    node_tree = self.root\n",
    "    parent = None\n",
    "    while node_tree is not None:\n",
    "      parent = node_tree\n",
    "      if node_tree.key < key:\n",
    "        node_tree = node_tree.right\n",
    "      else:\n",
    "        node_tree = node_tree.left\n",
    "        \n",
    "    node = NodeBST(key, value)\n",
    "    node.parent = parent\n",
    "    if self.root is None:\n",
    "      self.root = node\n",
    "    elif key <  parent.key:\n",
    "      parent.left = node\n",
    "    else:\n",
    "      parent.right = node\n",
    "      \n",
    "      \n",
    "  def transplant(self, u, v):\n",
    "    if u.parent is None:\n",
    "      self.root = v\n",
    "    elif u.parent.left == u:\n",
    "      u.parent.left = v\n",
    "    else:\n",
    "      u.parent.right = v\n",
    "    \n",
    "    if v is not None:\n",
    "      v.parent = u.parent\n",
    "      #u.parent = v\n",
    "  \n",
    "  def delete(self, node: NodeBST):\n",
    "    if node.left is None:\n",
    "      self.transplant(node, node.right)\n",
    "    elif node.right is None:\n",
    "      self.transplant(node, node.left)\n",
    "    else:\n",
    "      s = self.minimum(node.right)\n",
    "      \n",
    "      if s != node.right:\n",
    "        self.transplant(s, node.right)\n",
    "        s.right = node.right\n",
    "        node.right.parent = s\n",
    "      \n",
    "      self.transplant(node, s)\n",
    "      s.left = node.left\n",
    "      s.left.parent = s\n",
    "        \n",
    "\n",
    "  def draw(self, only_keys=False): # for drawing; you do not need to understand this code.\n",
    "    def visit(node, depth=0):\n",
    "      if node is None:\n",
    "        return None\n",
    "      left = visit(node.left, depth+1)\n",
    "      node_no = next(counter)\n",
    "      if only_keys:\n",
    "        labels[node_no] = f\"{node.key}\"\n",
    "      else:\n",
    "        labels[node_no] = f\"{node.key}: {node.value}\"\n",
    "      graph.add_node(node_no, depth=depth)\n",
    "      right = visit(node.right, depth+1)\n",
    "      if left is not None:\n",
    "        graph.add_edge(node_no, left)\n",
    "      if right is not None:\n",
    "        graph.add_edge(node_no, right)\n",
    "      return node_no\n",
    "            \n",
    "    from itertools import count\n",
    "    counter = count() # for assigning numbers to nodes\n",
    "    labels = {}\n",
    "    graph = nx.Graph()\n",
    "    visit(self.root)\n",
    "    # done creating the networkx graph\n",
    "\n",
    "    pos = {node: (node, -graph.nodes[node][\"depth\"])\n",
    "            for node in graph.nodes}\n",
    "    nx.draw(graph, pos=pos, labels=labels, with_labels = True, node_size=1600, node_color='#ffffff')"
   ],
   "id": "6993f439edf8d30d",
   "outputs": [],
   "execution_count": 31
  },
  {
   "metadata": {
    "ExecuteTime": {
     "end_time": "2024-04-25T13:05:59.087338Z",
     "start_time": "2024-04-25T13:05:59.080327Z"
    }
   },
   "cell_type": "code",
   "source": [
    "bst = BST()\n",
    "bst.insert(3, \"La\")\n",
    "bst.insert(9, \"Le\")\n",
    "bst.insert(10, \"Lu\")\n",
    "bst.insert(6, \"Di\")\n",
    "bst.insert(2, \"Del\")\n",
    "bst.insert(4, \"Du\")\n",
    "bst.insert(8, \"Hu\")\n",
    "bst.inorder_tree_walk(bst.root)\n",
    "#bst.draw()"
   ],
   "id": "933438a4eb7a0e9a",
   "outputs": [
    {
     "name": "stdout",
     "output_type": "stream",
     "text": [
      " 2 \n",
      " 3 \n",
      " 4 \n",
      " 6 \n",
      " 8 \n",
      " 9 \n",
      " 10 \n"
     ]
    }
   ],
   "execution_count": 32
  },
  {
   "metadata": {},
   "cell_type": "markdown",
   "source": [
    "# Red Black trees\n",
    "\n",
    "Binary search trees can be nice, but under certain circumstrances degenerate into chains, in which case the operation take linear time. In Red black trees, we use on extra bit to store it's color, either $\\texttt{red}$ or $\\texttt{black}$.\n",
    "Instead of many leave nodes, we can alternatively introduce a **sentinel node** $\\texttt{nil}$, which is a black node but is a child of all leaves and the parent of the root.\n",
    "\n",
    "A red black tree has then the properties:\n",
    "\n",
    "- Every node is either black or red\n",
    "- The root is black\n",
    "- Every leaf is black (None node)\n",
    "- If a node is red, then both it's children are black\n",
    "- For each node, all simple paths from node to descendant leaves contain the same number of black nodes.\n",
    "\n",
    "The height of a red-black tree with $n$ inner nodes is at most:\n",
    "\n",
    "$$\n",
    "2 \\log_2 (n + 1)\n",
    "$$\n",
    "\n",
    "Let the black height $bh(x)$ of a node $x$ denote the number of black nodes on any simple parth from, but not including, x, down to a leaf. Firstly, we want to show that that the subtree rooted at any node $x$ contains at least 2^{bh(x)} - 1 inner nodes.\n",
    "\n",
    "1. Heigh of $x$ is 0: $x$ is a leaf and the subtree rooted at x contains $2^{bh(x)} - 1 = 2^0 - 1 = 0$ inner nodes.\n",
    "2. $x$ > 0: Then $x$ has two children. If a child is black, it contributes 1 to $x$'s black-height but not to it's own. If a child is red  then it contributes to neither $x$'s black height or it's own. From this it follows that each child of $x$ has a black height of $bh(x) - 1$ or $bh(x)$. Since the height of the child is smaller than the one of x, by the inductive hypothesis the subtree rooted by each child has at least $2^{bh(x) - 1} - 1$ inner nodes. Thus, the subtree rooted by x contains at least $2(2^{bh(x)−1} − 1) + 1 = 2^{bh(x)} − 1$ inner nodes.\n",
    "\n",
    "Because each subtree rooted at $x$ contains atleast $2^{bh(x)} - 1$ inner nodes. If we let $h$ be the height of the tree. Since both children of a red node must be black, atleast half of the nodes on any simple path from the root to the a leaf (not including root) must be black, since after a red node there must be a black node, so atleast half of the nodes must be black. Thus the black-height of the root is atleast h/2 and thus\n",
    "\n",
    "$$\n",
    "n > 2^{h/2} - 1 \\Rightarrow h \\leq 2 \\log_2 (n + 1) \n",
    "$$\n",
    "\n",
    "Thus the height of a red-black tree is $O(\\log_2(n))$. Because red-black-trees are binary seach trees, all functionality which runs at $O(h)$, can with red-black-trees achieve a running time of $O(\\log_2(n))$.\n",
    "\n",
    "### Insertion and deletion\n",
    "\n",
    "Inserting and deleting as in binary search trees is not possible as it does not preserve the red-black property. We use an operation called rotation to fix this.\n",
    "\n",
    "![png](rotation_redblacktree.png)"
   ],
   "id": "55d1dc35bab6b371"
  },
  {
   "metadata": {},
   "cell_type": "code",
   "outputs": [],
   "execution_count": null,
   "source": [
    "class RedBlackTree:\n",
    "    class Node:\n",
    "        def __init__(self, key, value, color: str):\n",
    "            self.key = key\n",
    "            self.value = value\n",
    "            self.parent = None\n",
    "            self.left = None\n",
    "            self.right = None\n",
    "            self.color = color\n",
    "\n",
    "    def __init__(self):\n",
    "        self.nil = Node(None, None, color='BLACK')\n",
    "        self.root = self.nil\n",
    "        \n",
    "    def left_rotate(self, x):\n",
    "        y = x.right\n",
    "        x.right = y.left\n",
    "        \n",
    "        if y.left is not self.nil:\n",
    "            y.left.parent = x\n",
    "        y.parent = x.parent\n",
    "        \n",
    "        if x.parent is self.nil:\n",
    "            self.root = y\n",
    "        elif x is x.parent.left:\n",
    "            x.parent.left = y\n",
    "        else:\n",
    "            x.parent.right = y\n",
    "        \n",
    "        y.left = x\n",
    "        x.parent = y\n",
    "        "
   ],
   "id": "92b21119878e5460"
  },
  {
   "metadata": {},
   "cell_type": "markdown",
   "source": [
    "During insertion and deletion, only two violations to the properties can occur:\n",
    "1. That the root is black\n",
    "2. That if a node is red, then both its children are black\n",
    "\n",
    "For 1 we can just color the root black but for 2. the node and its parent are both red:\n",
    "\n",
    "1. The uncle node is red $\\Rightarrow$ color grandparent red and children of grandparent black. Then afterwards fixup the grandparent and so on.\n",
    "2. The uncle of node is black and node is a right child $\\Rightarrow$ Perform a left rotation, then make parent black and grandparent red, then right rotation on grandparent\n",
    "3. The uncle of node is black and node is a left child $\\Rightarrow$ Make parent black and grandparent red, then right rotation on grandparent\n",
    "\n",
    "The running time for the fixup and insertion is \n",
    "\n",
    "$$\n",
    "O(h)\n",
    "$$\n",
    "\n",
    "For deletion a running time of \n",
    "\n",
    "$$\n",
    "O(\\log_2 n)\n",
    "$$\n",
    "\n",
    "is possible"
   ],
   "id": "f35ef6bc411d89ed"
  },
  {
   "metadata": {},
   "cell_type": "markdown",
   "source": [
    "# ADTs Map and Set\n",
    "\n",
    "Dynamic set is a set which can grow, shrink or otherwise change, is finite and the entries (keys) can sometimes be associated with satellite data.\n",
    "\n",
    "### Map\n",
    "\n",
    "A map (dictionary) stores (key, value) pairs such that each possible key occurs at most once in the collection. It supports the following operations:\n",
    "\n",
    "1. $\\texttt{Insert}$: Insert a given key and value. If the key is already present, update the associated value\n",
    "2. $\\texttt{Remove}$: Remove the entry for a given key\n",
    "3. $\\texttt{Lookup}$: Lookup the entry for a given key, or return that there is no such key present.\n",
    "\n",
    "The datastructures: [***Linked list***, ***hash table***, ***binary search tree***, ***red black tree***] can be used to implement maps.\n",
    "\n",
    "### Set\n",
    "\n",
    "A set stores keys such tha teach possible key occurs at most once in the collection. It supports the following operations:\n",
    "\n",
    "1. $\\texttt{Insert}$: Insert a given key into a set, if it is not already included\n",
    "2. $\\texttt{Remove}$: Remove the given key from a set\n",
    "3. $\\texttt{Lookup}$: Lookup wether a given key is in a set\n",
    "4. $\\texttt{Iteration}$: Iteration over all element of a set in an arbitrary order \n",
    "\n",
    "Additional operations can be\n",
    "\n",
    "5. $\\texttt{Union}$: Union of two sets\n",
    "6. $\\texttt{Intersection}$: Intersection of two sets\n",
    "7. $\\texttt{Difference}$: Difference of two sets\n",
    "\n",
    "The datastructures: [***Linked list***, ***hash table***, ***binary search tree***, ***red black tree***] can be used to implement sets.\n",
    "\n",
    "With sets we only store keys. The implementation of operations can be done based on core implementation or special algorithms and differ from datastructure. With red-black-trees, union, intersection etc can be done in $O(m \\log(\\frac{n}{m} + 1))$ for two red black trees of sizes $m$ and $n$ where $m \\leq n$."
   ],
   "id": "8a1357dfad709f42"
  },
  {
   "metadata": {},
   "cell_type": "markdown",
   "source": "",
   "id": "e3a0e61318c1f59a"
  }
 ],
 "metadata": {
  "kernelspec": {
   "display_name": "Python 3",
   "language": "python",
   "name": "python3"
  },
  "language_info": {
   "codemirror_mode": {
    "name": "ipython",
    "version": 2
   },
   "file_extension": ".py",
   "mimetype": "text/x-python",
   "name": "python",
   "nbconvert_exporter": "python",
   "pygments_lexer": "ipython2",
   "version": "2.7.6"
  }
 },
 "nbformat": 4,
 "nbformat_minor": 5
}
