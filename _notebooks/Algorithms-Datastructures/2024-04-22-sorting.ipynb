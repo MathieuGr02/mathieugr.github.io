{
 "cells": [
  {
   "metadata": {},
   "cell_type": "markdown",
   "source": [
    "---\n",
    "title: Sorting\n",
    "layout: collection\n",
    "permalink: /Algorithms-Datastructures/Sorting\n",
    "collection: Algorithms-Datastructures\n",
    "entries_layout: grid\n",
    "mathjax: true\n",
    "toc: true\n",
    "categories:\n",
    "  - study\n",
    "tags:\n",
    "  - programming\n",
    "---"
   ],
   "id": "69d9158e4f7cedb2"
  },
  {
   "metadata": {},
   "cell_type": "code",
   "outputs": [],
   "execution_count": 1,
   "source": "import numpy as np",
   "id": "6fafb7c6a9345407"
  },
  {
   "cell_type": "markdown",
   "source": [
    "# Selection Sort\n",
    "\n",
    "---\n",
    "\n",
    "Selection sort works by iterating over the whole array from the i-th position, selecting the largest value in the range $[i, n]$ and swapping it with the i-th element and then increment $i+1 \\rightarrow 1$.\n",
    "\n",
    "### Properties:\n",
    "\n",
    "- Not stable => Order of elements can be reversed during swapping\n",
    "-  In-place => Doesn't need extra storage\n",
    "-  Not adaptive => Still iterates over whole array to find maximum, so fully sorted array still has same running time\n",
    "\n",
    "### Running time:\n",
    "\n",
    "$$\\Omega(n^2) \\ \\text{and} \\ O(n^2) \\Rightarrow \\Theta(n^2) = \\{ f | \\exists c > 0 \\exists c' > 0 \\exists n_0 > 0 \\forall n \\geq n_0: cn^2 \\leq f(n)\\leq c'n^2 \\}$$\n",
    "\n",
    "### Code:"
   ],
   "metadata": {
    "collapsed": false
   },
   "id": "7f9310169e94837c"
  },
  {
   "cell_type": "code",
   "source": [
    "def selection_sort(array: list) -> None:\n",
    "    n = len(array)\n",
    "    for i in range(n - 1):\n",
    "        min_index = i\n",
    "        for j in range(i + 1, n):\n",
    "            if array[j] < array[min_index]:\n",
    "                min_index = j\n",
    "        array[i], array[min_index] = array[min_index], array[i]"
   ],
   "metadata": {
    "collapsed": false,
    "ExecuteTime": {
     "end_time": "2024-04-22T17:35:12.927408Z",
     "start_time": "2024-04-22T17:35:12.912799Z"
    }
   },
   "id": "e9a99be9b47838b2",
   "outputs": [],
   "execution_count": 2
  },
  {
   "cell_type": "markdown",
   "source": [],
   "metadata": {
    "collapsed": false
   },
   "id": "3081d6888e9e252"
  },
  {
   "cell_type": "code",
   "id": "8a8ad861393b631",
   "metadata": {
    "collapsed": false,
    "ExecuteTime": {
     "end_time": "2024-04-22T17:35:12.942484Z",
     "start_time": "2024-04-22T17:35:12.929416Z"
    }
   },
   "source": [
    "a = [4, 5, 2, 3, 1, 9, 11, 4, 10, 8]\n",
    "print(f'Before sorting: {a}')\n",
    "selection_sort(a)\n",
    "print(f'Selection sort: {a}')"
   ],
   "outputs": [
    {
     "name": "stdout",
     "output_type": "stream",
     "text": [
      "Before sorting: [4, 5, 2, 3, 1, 9, 11, 4, 10, 8]\n",
      "Selection sort: [1, 2, 3, 4, 4, 5, 8, 9, 10, 11]\n"
     ]
    }
   ],
   "execution_count": 3
  },
  {
   "cell_type": "markdown",
   "id": "f0a2d84a171dd111",
   "metadata": {
    "collapsed": false
   },
   "source": [
    "# Insertion Sort\n",
    "\n",
    "---\n",
    "\n",
    "Insertion sort works by taking the element at the i'th position and swapping it with its previous element until it is correctly placed in the sequence $[0, i]$, which is then sorted.\n",
    "\n",
    "### Properties:\n",
    "- Stable => Only swaps if larger thus elements stay in their order\n",
    "- In-place => Doesnt require extra storage\n",
    "- Adaptive => While loop doesn't run if array is already sorted\n",
    "\n",
    "### Running time:\n",
    "$$\n",
    "\\Omega(n) \\ \\text{and} \\ O(n^2)\n",
    "$$\n",
    "\n",
    "### Code:"
   ]
  },
  {
   "cell_type": "code",
   "id": "22c111c944e1f722",
   "metadata": {
    "collapsed": false,
    "ExecuteTime": {
     "end_time": "2024-04-22T17:35:12.958082Z",
     "start_time": "2024-04-22T17:35:12.944485Z"
    }
   },
   "source": [
    "def insertion_sort_1(array: list) -> None:\n",
    "    for i in range(1, len(array)):\n",
    "        min_index = i\n",
    "        while min_index > 0 and array[min_index] < array[min_index - 1]:\n",
    "            array[min_index], array[min_index - 1] = array[min_index - 1], array[min_index]\n",
    "            min_index -= 1\n",
    "\n",
    "def insertion_sort_2(array: list) -> None:\n",
    "    for i in range(1, len(array)):\n",
    "        val = array[i]\n",
    "        index = i\n",
    "        while index > 0 and val < array[index - 1]:\n",
    "            array[index] = array[index - 1]\n",
    "            index -= 1\n",
    "        array[index] = val "
   ],
   "outputs": [],
   "execution_count": 4
  },
  {
   "cell_type": "code",
   "id": "1e31fc285beb48dd",
   "metadata": {
    "collapsed": false,
    "ExecuteTime": {
     "end_time": "2024-04-22T17:35:12.973593Z",
     "start_time": "2024-04-22T17:35:12.959582Z"
    }
   },
   "source": [
    "a = [4, 5, 2, 3, 1, 9, 11, 4, 10, 8]\n",
    "b = [4, 5, 2, 3, 1, 9, 11, 4, 10, 8]\n",
    "print(f'Before sorting: {a}')\n",
    "insertion_sort_1(a)\n",
    "insertion_sort_2(b)\n",
    "print(f'Insertion sort 1: {a}')\n",
    "print(f'Insertion sort 2: {b}')"
   ],
   "outputs": [
    {
     "name": "stdout",
     "output_type": "stream",
     "text": [
      "Before sorting: [4, 5, 2, 3, 1, 9, 11, 4, 10, 8]\n",
      "Insertion sort 1: [1, 2, 3, 4, 4, 5, 8, 9, 10, 11]\n",
      "Insertion sort 2: [1, 2, 3, 4, 4, 5, 8, 9, 10, 11]\n"
     ]
    }
   ],
   "execution_count": 5
  },
  {
   "cell_type": "markdown",
   "id": "363e0a7063956ff4",
   "metadata": {
    "collapsed": false
   },
   "source": [
    "# Merge Sort\n",
    "\n",
    "---\n",
    "\n",
    "Merge sort works by recursively calling the sorting on the array until every recursion list has 1 element, and then combining and rearranging the elements with the next recursion list until the whole list is sorted.\n",
    "\n",
    "### Properties:\n",
    "- Stable => Because we check take the left element if '$\\leq$' so it's order is preserved\n",
    "- Not in-place => Temp array is proportional to the length of the array\n",
    "- Adaptive => Standard Merge sort is not adaptive\n",
    "\n",
    "### Running time:\n",
    "In total it takes:\n",
    "$$\n",
    "\\Omega(n \\log_2 n ) \\ \\text{and} \\ O(n \\log_2 n) \\Rightarrow \\Theta(n \\log_2 n) = \\{ f | \\exists c > 0 \\exists c' > 0 \\exists n_0 > 0 \\forall n \\geq n_0:  \n",
    "c n \\log_2 n \\leq f(n) \\leq c' n \\log_2 n\n",
    "\\}\n",
    "$$\n",
    "\n",
    "And the merge step itself is:\n",
    "$$\n",
    "\\Omega(n) \\ \\text{and} \\ O(n) \\Rightarrow \\Theta(n) = \\{ f | \\exists c > 0 \\exists c' > 0 \\exists n_0 > 0 \\forall n \\geq n_0:  \n",
    "c n \\leq f(n) \\leq c' n\n",
    "\\}\n",
    "$$\n",
    "\n",
    "### Code:\n",
    "\n",
    "## (Top down):"
   ]
  },
  {
   "cell_type": "code",
   "id": "73f9d56f18f69257",
   "metadata": {
    "collapsed": false,
    "ExecuteTime": {
     "end_time": "2024-04-22T17:35:12.989343Z",
     "start_time": "2024-04-22T17:35:12.975094Z"
    }
   },
   "source": [
    "def merge_sort_top_down(array: list, tmp: list, lo: int, hi: int) -> None:\n",
    "    if lo >= hi:\n",
    "        return \n",
    "    \n",
    "    mid = lo + (hi - lo) // 2\n",
    "    merge_sort_top_down(array, tmp, lo, mid)\n",
    "    merge_sort_top_down(array, tmp, mid + 1, hi)\n",
    "    merge(array, tmp, lo, mid, hi)\n",
    "\n",
    "def merge(array: list, tmp: list, lo: int, mid: int, hi: int) -> None:\n",
    "    i = lo\n",
    "    j = mid + 1\n",
    "    for k in range(lo, hi + 1):\n",
    "        if j > hi or (array[i] <= array[j] and i <= mid):\n",
    "            tmp[k] = array[i]\n",
    "            i += 1\n",
    "        else:\n",
    "            tmp[k] = array[j]\n",
    "            j += 1\n",
    "    print(tmp)\n",
    "    for k in range(lo, hi + 1):\n",
    "        array[k] = tmp[k]"
   ],
   "outputs": [],
   "execution_count": 6
  },
  {
   "cell_type": "code",
   "id": "7cfc182abc92f5e",
   "metadata": {
    "collapsed": false,
    "ExecuteTime": {
     "end_time": "2024-04-22T17:35:13.004364Z",
     "start_time": "2024-04-22T17:35:12.991352Z"
    }
   },
   "source": [
    "a = [4, 5, 2, 3, 1, 9, 11, 4, 10, 8]\n",
    "tmp = [0] * len(a)\n",
    "print(f'Before sorting: {a}')\n",
    "merge_sort_top_down(a, tmp, 0, len(a) - 1)\n",
    "print(f'Merge Sort Top Down : {a}')"
   ],
   "outputs": [
    {
     "name": "stdout",
     "output_type": "stream",
     "text": [
      "Before sorting: [4, 5, 2, 3, 1, 9, 11, 4, 10, 8]\n",
      "[4, 5, 0, 0, 0, 0, 0, 0, 0, 0]\n",
      "[2, 4, 5, 0, 0, 0, 0, 0, 0, 0]\n",
      "[2, 4, 5, 1, 3, 0, 0, 0, 0, 0]\n",
      "[1, 2, 3, 4, 5, 0, 0, 0, 0, 0]\n",
      "[1, 2, 3, 4, 5, 9, 11, 0, 0, 0]\n",
      "[1, 2, 3, 4, 5, 4, 9, 11, 0, 0]\n",
      "[1, 2, 3, 4, 5, 4, 9, 11, 8, 10]\n",
      "[1, 2, 3, 4, 5, 4, 8, 9, 10, 11]\n",
      "[1, 2, 3, 4, 4, 5, 8, 9, 10, 11]\n",
      "Merge Sort Top Down : [1, 2, 3, 4, 4, 5, 8, 9, 10, 11]\n"
     ]
    }
   ],
   "execution_count": 7
  },
  {
   "cell_type": "markdown",
   "source": [
    "## (Bottom up):"
   ],
   "metadata": {
    "collapsed": false
   },
   "id": "9ac7f5f8a51ad43a"
  },
  {
   "cell_type": "code",
   "source": [
    "def merge_sort_bottom_up(array: list):\n",
    "    n = len(array)\n",
    "    temp = list(array)\n",
    "    length = 1\n",
    "    while length < n:\n",
    "        lo = 0\n",
    "        while lo < n - length:\n",
    "            mid = lo + length - 1\n",
    "            hi = min(lo + 2 * length - 1, n - 1)\n",
    "            merge(array, tmp, lo, mid, hi)\n",
    "            lo += 2 * length\n",
    "        length *= 2"
   ],
   "metadata": {
    "collapsed": false,
    "ExecuteTime": {
     "end_time": "2024-04-22T17:35:13.020383Z",
     "start_time": "2024-04-22T17:35:13.005865Z"
    }
   },
   "id": "1f59ee9173a7c253",
   "outputs": [],
   "execution_count": 8
  },
  {
   "cell_type": "code",
   "source": [
    "a = [4, 5, 2, 3, 1, 9, 11, 4, 10, 8]\n",
    "tmp = [0] * len(a)\n",
    "print(f'Before sorting: {a}')\n",
    "merge_sort_bottom_up(a)\n",
    "print(f'Merge Sort Bottom Up: {a}')"
   ],
   "metadata": {
    "collapsed": false,
    "ExecuteTime": {
     "end_time": "2024-04-22T17:35:13.035547Z",
     "start_time": "2024-04-22T17:35:13.022038Z"
    }
   },
   "id": "4ae9851f92debf6",
   "outputs": [
    {
     "name": "stdout",
     "output_type": "stream",
     "text": [
      "Before sorting: [4, 5, 2, 3, 1, 9, 11, 4, 10, 8]\n",
      "[4, 5, 0, 0, 0, 0, 0, 0, 0, 0]\n",
      "[4, 5, 2, 3, 0, 0, 0, 0, 0, 0]\n",
      "[4, 5, 2, 3, 1, 9, 0, 0, 0, 0]\n",
      "[4, 5, 2, 3, 1, 9, 4, 11, 0, 0]\n",
      "[4, 5, 2, 3, 1, 9, 4, 11, 8, 10]\n",
      "[2, 3, 4, 5, 1, 9, 4, 11, 8, 10]\n",
      "[2, 3, 4, 5, 1, 4, 9, 11, 8, 10]\n",
      "[1, 2, 3, 4, 4, 5, 9, 11, 8, 10]\n",
      "[1, 2, 3, 4, 4, 5, 8, 9, 10, 11]\n",
      "Merge Sort Bottom Up: [1, 2, 3, 4, 4, 5, 8, 9, 10, 11]\n"
     ]
    }
   ],
   "execution_count": 9
  },
  {
   "cell_type": "markdown",
   "source": [
    "# Quicksort\n",
    "\n",
    "---\n",
    "\n",
    "Quick sort works by finding a pivot (randomly is most preffered), swapping that element to the beginning of the recursion list and rearraning the recursion list such that on the left of the pivot there are only elements smaller or equal to it and on the right there are only elements larger or equal to it. Then we recursively call the left and right side of the pivot and do the same.\n",
    "\n",
    "### Properties:\n",
    "- Not stable => pivot gets swapped and may change ordering\n",
    "- Not in-place => Recursion needs memory\n",
    "- Not Adaptive => Still runs to total iterations\n",
    "\n",
    "\n",
    "### Running time:\n",
    "$$\n",
    "\\Omega(n \\log_2 n) \\ \\text{and} \\ O(n^2)\n",
    "$$\n",
    "\n",
    "### Code:"
   ],
   "metadata": {
    "collapsed": false
   },
   "id": "b94e94ad5558717b"
  },
  {
   "cell_type": "code",
   "source": [
    "def quicksort(array: list, lo: int, hi: int) -> None:\n",
    "    if hi <= lo:\n",
    "        return\n",
    "    pivot = np.random.randint(lo, hi)\n",
    "    array[lo], array[pivot] = array[pivot], array[lo]\n",
    "    \n",
    "    pivot_pos = partition(array, lo, hi)\n",
    "    quicksort(array, lo, pivot_pos - 1)\n",
    "    quicksort(array, pivot_pos + 1, hi)\n",
    "    \n",
    "def partition(array, lo, hi) -> int:\n",
    "    i = lo + 1\n",
    "    j = hi\n",
    "    \n",
    "    for _ in range(hi - lo):\n",
    "        while array[i] < array[lo] and i < hi:\n",
    "            i += 1\n",
    "        while array[j] > array[lo]:\n",
    "            j -= 1\n",
    "        if i >= j:\n",
    "            break\n",
    "        \n",
    "        array[i], array[j] = array[j], array[i]\n",
    "        i += 1\n",
    "        j -= 1\n",
    "    array[lo], array[j] = array[j], array[lo]\n",
    "    return j"
   ],
   "metadata": {
    "collapsed": false,
    "ExecuteTime": {
     "end_time": "2024-04-22T17:35:13.051568Z",
     "start_time": "2024-04-22T17:35:13.037050Z"
    }
   },
   "id": "643224657d938332",
   "outputs": [],
   "execution_count": 10
  },
  {
   "cell_type": "code",
   "source": [
    "a = [4, 5, 2, 3, 1, 9, 11, 4, 10, 8]\n",
    "print(f'Before sorting: {a}')\n",
    "quicksort(a, 0, len(a) - 1)\n",
    "print(f'Quicksort: {a}')"
   ],
   "metadata": {
    "collapsed": false,
    "ExecuteTime": {
     "end_time": "2024-04-22T17:35:13.066776Z",
     "start_time": "2024-04-22T17:35:13.053261Z"
    }
   },
   "id": "41d16cabc2a0d38c",
   "outputs": [
    {
     "name": "stdout",
     "output_type": "stream",
     "text": [
      "Before sorting: [4, 5, 2, 3, 1, 9, 11, 4, 10, 8]\n",
      "Quicksort: [1, 2, 3, 4, 4, 5, 8, 9, 10, 11]\n"
     ]
    }
   ],
   "execution_count": 11
  },
  {
   "cell_type": "markdown",
   "source": [
    "# Counting sort\n",
    "\n",
    "---\n",
    "\n",
    "Counting sort works by counting the number of occurences of a number i into an array at the i'th position and then creating a new array and append the amount of times each element occured. \n",
    "\n",
    "### Properties:\n",
    "- Not stable => Counting does not keep arangement\n",
    "- Not in-place => counts list requires extra non constant storage\n",
    "- Not adaptive  \n",
    "\n",
    "### Running time:\n",
    "If we have n elements in the array and a max value k:\n",
    "\n",
    "$$\n",
    "\\Theta(n + (k + 1) + n) = \\Theta(n + k) = \\{ f | \\exists c > 0 \\exists c' > 0 \\exists n_0 > 0 \\forall n \\geq n_0:  \n",
    "c (n + k) \\leq f(n) \\leq c' (n + k)\n",
    "\\}\n",
    "$$\n",
    "\n",
    "### Code:\n"
   ],
   "metadata": {
    "collapsed": false
   },
   "id": "48786b6f6ea19b2f"
  },
  {
   "cell_type": "code",
   "source": [
    "def counting_sort(array: list, max: int) -> None:\n",
    "    count = [0] * max\n",
    "    for element in array:\n",
    "        count[element] += 1\n",
    "    \n",
    "    i = 0\n",
    "    for number in range(max):\n",
    "        for amount in range(count[number]):\n",
    "            array[i] = number\n",
    "            i += 1"
   ],
   "metadata": {
    "collapsed": false,
    "ExecuteTime": {
     "end_time": "2024-04-22T17:35:13.082793Z",
     "start_time": "2024-04-22T17:35:13.069277Z"
    }
   },
   "id": "29ae01e153b97731",
   "outputs": [],
   "execution_count": 12
  },
  {
   "cell_type": "code",
   "source": [
    "a = [4, 5, 2, 3, 1, 9, 11, 4, 10, 8]\n",
    "print(f'Before sorting: {a}')\n",
    "counting_sort(a, max(a) + 1)\n",
    "print(f'Counting sort: {a}')"
   ],
   "metadata": {
    "collapsed": false,
    "ExecuteTime": {
     "end_time": "2024-04-22T17:35:13.098391Z",
     "start_time": "2024-04-22T17:35:13.084299Z"
    }
   },
   "id": "f44600cb22fe3957",
   "outputs": [
    {
     "name": "stdout",
     "output_type": "stream",
     "text": [
      "Before sorting: [4, 5, 2, 3, 1, 9, 11, 4, 10, 8]\n",
      "Counting sort: [1, 2, 3, 4, 4, 5, 8, 9, 10, 11]\n"
     ]
    }
   ],
   "execution_count": 13
  },
  {
   "cell_type": "markdown",
   "source": [
    "# Radix Sort\n",
    "\n",
    "---\n",
    "\n",
    "Radix sort works by placing numbers in buckets corresponding to their i'th digit, repeating this process for the amount of digits the largest number has gives a sorted list.\n",
    "\n",
    "### Properties:\n",
    "- Non comperative => Placement in buckts doesnt require if statements\n",
    "- Not in-place => Buckets filled with n extra digits\n",
    "- Stable => First element always gets added to buckets and then to the list first\n",
    "- Not adaptive\n",
    "\n",
    "### Running time:\n",
    "If m is the amount of digits in the largest value:\n",
    "$$\n",
    "\\Theta(m * (b + n + b + n)) = \\Theta(m(b + n)) = \\{ f | \\exists c > 0 \\exists c' > 0 \\exists n_0 > 0 \\forall n \\geq n_0:  \n",
    "c m(b + n) \\leq f(n) \\leq c' m(b + n)\n",
    "\\}\n",
    "$$\n",
    "\n",
    "### Code:"
   ],
   "metadata": {
    "collapsed": false
   },
   "id": "408165fa68f5b7fe"
  },
  {
   "cell_type": "code",
   "source": [
    "def radix_sort(array: list, base = 10):\n",
    "    max_value = max(array)\n",
    "    n = len(array)\n",
    "    iteration = 0\n",
    "    while base ** iteration <= max_value:\n",
    "        buckets =  [[] for _ in range(base)]\n",
    "        for i in range(n):\n",
    "            buckets[array[i] // (base ** iteration) % base].append(array[i])\n",
    "        \n",
    "        j = 0\n",
    "        for bucket in buckets:\n",
    "            for element in bucket:\n",
    "                array[j] = element\n",
    "                j += 1\n",
    "        iteration += 1"
   ],
   "metadata": {
    "collapsed": false,
    "ExecuteTime": {
     "end_time": "2024-04-22T17:35:13.114397Z",
     "start_time": "2024-04-22T17:35:13.099826Z"
    }
   },
   "id": "ad06fe5e23ae966b",
   "outputs": [],
   "execution_count": 14
  },
  {
   "cell_type": "code",
   "source": [
    "a = [14, 5, 652, 43, 1, 29, 121, 4, 120, 81]\n",
    "print(f'Before sorting: {a}')\n",
    "radix_sort(a)\n",
    "print(f'Radix Sort: {a}')"
   ],
   "metadata": {
    "collapsed": false,
    "ExecuteTime": {
     "end_time": "2024-04-22T17:35:13.129909Z",
     "start_time": "2024-04-22T17:35:13.115901Z"
    }
   },
   "id": "50fca39e51da31d1",
   "outputs": [
    {
     "name": "stdout",
     "output_type": "stream",
     "text": [
      "Before sorting: [14, 5, 652, 43, 1, 29, 121, 4, 120, 81]\n",
      "Radix Sort: [1, 4, 5, 14, 29, 43, 81, 120, 121, 652]\n"
     ]
    }
   ],
   "execution_count": 15
  },
  {
   "metadata": {},
   "cell_type": "markdown",
   "source": [
    "# Heap sort\n",
    "\n",
    "\n"
   ],
   "id": "6c7d36621de54108"
  },
  {
   "metadata": {},
   "cell_type": "markdown",
   "source": [
    "# Summary\n",
    "\n",
    "---\n",
    "\n",
    "| Algorithm      | Running complexity<br/> (best/avg./worst) | Space complexity | stable | \n",
    "|----------------|:------------------------------------------|------------------|--------|\n",
    "| Selection sort | $n^2$                                     | 1                | No     | \n",
    "| Insertion sort | $n/n^2/n^2$                               | 1                | Yes    | \n",
    "| Merge sort     | $n \\log_2 n$                              | n                | Yes    |\n",
    "| Quicksort      | $n \\log_2 n/n \\log_2 n/n^2$               | $\\log_2 n$       | No     |\n",
    "| Counting sort  | $n + k$                                   | k                | No     |\n",
    "| Radix sort     | $m(b + n)$                                | n + b            | Yes    |\n",
    "| Heap sort      | $n \\log_2 n$                              | 1                | No     | \n"
   ],
   "id": "c21f3aaa01e3aeea"
  },
  {
   "metadata": {},
   "cell_type": "markdown",
   "source": [
    "# Comparison based algorithms\n",
    "\n",
    "---\n",
    "\n",
    "Consider a binary tree with a root, nodes and each node having two successors. Node without a successor are called leaves. The binary tree reaches a maximum depth of atleast $\\log_2 k$ with $k$ leaves.\n",
    "\n",
    "It then holds that every comparison based sorting algorithm requires $\\Omega(n \\log_2 n)$ key comparisons. Thus the lower bound for sorting is $\\Omega(n \\log_2 n)$."
   ],
   "id": "f7733be2bf3a1c6a"
  }
 ],
 "metadata": {
  "kernelspec": {
   "display_name": "Python 3 (ipykernel)",
   "language": "python",
   "name": "python3"
  },
  "language_info": {
   "codemirror_mode": {
    "name": "ipython",
    "version": 3
   },
   "file_extension": ".py",
   "mimetype": "text/x-python",
   "name": "python",
   "nbconvert_exporter": "python",
   "pygments_lexer": "ipython3",
   "version": "3.9.19"
  }
 },
 "nbformat": 4,
 "nbformat_minor": 5
}
