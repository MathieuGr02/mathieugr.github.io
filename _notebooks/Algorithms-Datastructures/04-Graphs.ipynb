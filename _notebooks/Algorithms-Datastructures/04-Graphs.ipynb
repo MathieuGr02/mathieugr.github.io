{
 "cells": [
  {
   "metadata": {},
   "cell_type": "markdown",
   "source": [
    "---\n",
    "title: Graphs\n",
    "layout: collection\n",
    "permalink: /Algorithms-Datastructures/Graphs\n",
    "collection: Algorithms-Datastructures\n",
    "entries_layout: grid\n",
    "mathjax: true\n",
    "toc: true\n",
    "categories:\n",
    "  - study\n",
    "tags:\n",
    "  - programming\n",
    "---"
   ],
   "id": "11363cc8d0fc8a53"
  },
  {
   "metadata": {},
   "cell_type": "markdown",
   "source": [
    "A graph is a pair $(V, E)$ comprising of $V$, being a finite set of vertices and $E$ being a finite set of edges. \n",
    "Every edge connects two vertices $u$ and $v$. \n",
    "In an undirected graph we have a $set\\{u, v\\}$ and in a directed graph we have a $pair(u, v)$. \n",
    "Multigraphs permit multiple parallel edges between the same nodes. \n",
    "Weighted graphs associate each edge with a weight.\n",
    "\n",
    "Undirected graph terminology\n",
    "- Neighbours of a vertex $u$: All vertices $v$ with $\\{u, v\\} \\in E$\n",
    "- Degree(v): Degree of a vertex = Amount of neighbours. In case of a self-loop the degree increases by 2\n",
    "\n",
    "Directed graphs terminology\n",
    "- Successors of vertex $u$: All vertices $v$ with $(u, v) \\in E$\n",
    "- Predecessors of vertex $u$: All vertices $v$ with $(v, u) \\in E$\n",
    "- outdegree(v): Amount of successors\n",
    "- indegree(v): Amount of predecessors\n",
    "\n",
    "Path and cycles\n",
    "- Path of length n: Sequence $(v_0, ..., v_n)$ of vertices with $\\{v_i, v_{i+1} \\} \\in E \\ for \\ i = 0, ..., n - 1$ or $(v_i, v_{i+1}) \\in E \\ for \\ i = 0, ..., n - 1$. A path is simple if all vertices are distinct\n",
    "- Cycle: Path with equal start and end vertex $(v_0 = v_n)$ for $n > 0$. The cycle is simple if all vertices $v_1, ..., v_n$ are distinct. If theres no simple cycle, then the graph is acyclic."
   ],
   "id": "a11887fa11e5449e"
  },
  {
   "metadata": {},
   "cell_type": "markdown",
   "source": [
    "### Representation\n",
    "\n",
    "The vertices are numbered with $0, ..., |V| - 1$. \n",
    "Then we can represent this with an Adjacency matrix. \n",
    "Graph $G = (\\{0,... |V| - 1\\})$ is then represented as a $|V| \\times |V|$ matrix with entries $a_{ik}$ (row i, column k):\n",
    "\n",
    "$$\n",
    "a_{ik}\n",
    "\\begin{cases}\n",
    "1 \\ \\text{if} \\ (i, k) \\in E \\ \\text{or} \\ \\{i, k\\} \\in E \\\\\n",
    "0 \\ \\text{otherwise}\n",
    "\\end{cases}\n",
    "$$\n",
    "\n",
    "An undirected graph has a symmetric adjacency matrix.\n",
    "\n",
    "As an Adjacency list, we store for every vertex in a linked list the list of successors / neighbours\n",
    "\n",
    "The complexity of these representations is\n",
    "\n",
    "|                             | Adj. Matrix | Adj. list           |\n",
    "|-----------------------------|-------------|---------------------|\n",
    "| Space                       | $\\| V \\|^2$ | $\\| E \\| + \\| V \\|$ |\n",
    "| Add edge                    | 1           | 1                   |\n",
    "| Edge between u and v?       | 1           | (out)degree(v)      |\n",
    "| Iterate over outgoing edges | $\\| V \\|$   | (out)degree(v)      |"
   ],
   "id": "8ef7933c85c42222"
  },
  {
   "metadata": {},
   "cell_type": "markdown",
   "source": [
    "### Graph exploration\n",
    "\n",
    "Given a vertex $v$, we want to visit all vertices that are reachable from $v$.\n",
    "\n",
    "#### Depth-first search (DFS)\n",
    "\n",
    "Go deep into the graph, away from $v$. \n",
    "We mark every visited vertices. \n",
    "We start at v and iterate over the successorts/neighbours $w$ of $v$. \n",
    "Then if $w$ not marked, start recursively from $w$\n",
    "We visit successor in increasing order of their number. \n",
    "If we reach an end start from second node."
   ],
   "id": "918344667824e27"
  },
  {
   "metadata": {},
   "cell_type": "code",
   "outputs": [],
   "execution_count": null,
   "source": [
    "def depth_first_exploration(graph, node, visited=None):\n",
    "    if visited is None:\n",
    "        visited = set()\n",
    "    if node in visited():\n",
    "        return \n",
    "    visited.add(node)\n",
    "    for s in graph.successors(node):\n",
    "        depth_first_exploration(graph, s, visited)"
   ],
   "id": "ffbadc70c24261c6"
  },
  {
   "metadata": {},
   "cell_type": "markdown",
   "source": [
    "- $\\texttt{Preorder}$: Vertex is included before ts children are considered\n",
    "- $\\texttt{Postorder}$: Vertex is included when the recursive depth first search of all its childern has finished\n",
    "- $\\texttt{Reverse Postorder}$ Like post order but in reverse order."
   ],
   "id": "5b9cd4c332be0366"
  },
  {
   "metadata": {},
   "cell_type": "code",
   "outputs": [],
   "execution_count": null,
   "source": [
    "def depth_first_exploration(graph, node, preorder, postorder, reverse_postorder, visited=None):\n",
    "    if visited is None:\n",
    "        visited = set()\n",
    "    if node in visited():\n",
    "        return \n",
    "    preorder.append(node) # <- Preorder add location\n",
    "    visited.add(node)\n",
    "    for s in graph.successors(node):\n",
    "        depth_first_exploration(graph, s, preorder, postorder, reverse_postorder, visited)\n",
    "        \n",
    "    postorder.append(node) # <- Postorder add location\n",
    "    reverse_postorder.appendleft(node) # <- Reverse Postorder add location"
   ],
   "id": "6c6d8bb71c1d6375"
  },
  {
   "metadata": {},
   "cell_type": "code",
   "outputs": [],
   "execution_count": null,
   "source": [
    "def depth_first_exploration(graph, node):\n",
    "    visited = set()\n",
    "    stack = deque()\n",
    "    stack.append(node)\n",
    "    \n",
    "    while stack:\n",
    "        v = stack.pop() #Last in first out\n",
    "        if v not in visited:\n",
    "            visited.add(v)\n",
    "            for s in graph.successors(v):\n",
    "                stack.append(s)"
   ],
   "id": "93f3c19a154c6833"
  },
  {
   "metadata": {},
   "cell_type": "markdown",
   "source": [
    "### Breadth-first Search (BFS)\n",
    "\n",
    "First mark all neighbours, then neighbours of neighbours and so on.\n",
    "1. Mark $v$ (Distance 0)\n",
    "2. Mark all unmarked successors/neighbours of $v$ (Distance 1)\n",
    "3. Mark all unmarked successors/neighbours of distance-1 vertices \n",
    "...\n",
    "4. Mark all unmarked successors/neighbours of distance-i vertices"
   ],
   "id": "3f036a682ea778dc"
  },
  {
   "metadata": {},
   "cell_type": "code",
   "outputs": [],
   "execution_count": null,
   "source": [
    "def breadth_first_exploration(graph, node):\n",
    "    visited = set()\n",
    "    queue = deque()\n",
    "    queue.append(node)\n",
    "    while queue:\n",
    "        v = queue.popleft() #First in first out\n",
    "        if v not in visited:\n",
    "            visited.add(v)\n",
    "            for s in graph.successors(v):\n",
    "                queue.append(s)\n",
    "                \n",
    "# Slightly more efficient\n",
    "def breadth_first_exploration(graph, node):\n",
    "    visited = set()\n",
    "    queue = deque()\n",
    "    queue.append(node)\n",
    "    while queue:\n",
    "        v = queue.popleft() #First in first out\n",
    "        for s in graph.successors(v):\n",
    "            if s not in visited:\n",
    "                queue.append(s)\n",
    "                visited.add(v)"
   ],
   "id": "6b719d318f834b52"
  },
  {
   "metadata": {},
   "cell_type": "markdown",
   "source": [
    "The running time is given by\n",
    "\n",
    "$$\n",
    "O(|V| + |E|)\n",
    "$$"
   ],
   "id": "7b9d90c2e0cbae52"
  },
  {
   "metadata": {},
   "cell_type": "markdown",
   "source": [
    "### Induced Search Tree\n",
    "\n",
    "The induces search tree of a graph exploration contains for every visited vertex an edge from its predecessor in the exploration. Every vertex has at most one predecessor in the tree. Represent induced search tree by the predecessor relation. The visited vertices are exactly those for which there is a predecessor set."
   ],
   "id": "11382a5769e8620e"
  },
  {
   "metadata": {},
   "cell_type": "code",
   "outputs": [],
   "execution_count": null,
   "source": [
    "def bfs_with_predecessors(graph, node):\n",
    "    predecessor = [None] * graph.no_nodes()\n",
    "    queue = deque()\n",
    "    \n",
    "    predecessor[node] = node\n",
    "    queue.append(node)\n",
    "    while queue:\n",
    "        v = queue.popleft() #FIFO\n",
    "        for s in graph.successors(v):\n",
    "            if predecessor[s] is None:\n",
    "                predecessor[s] = v\n",
    "                queue.append(s)"
   ],
   "id": "e1fbd276b60ba0f8"
  },
  {
   "metadata": {},
   "cell_type": "markdown",
   "source": [
    "# Single-source Shortest-paths (SSSP)\n",
    "\n",
    "In SSSP we want to find the shortest paths between a given vertex $v$ and all vertices in the graph.\n",
    "How we implement this is by doing Breadth first search visits to the vertices with increasing (minimal) distance from the start vertex.\n",
    "The first visit of a vertex happens on shortest path\n",
    "We could then use the induced search tree to get the shortest path.\n",
    "\n",
    "So given a Graph and the starting vertex $s$, query for vertex $v$ and check if there is a path from $s$ to $v$.\n",
    "If there is, then what is the shortest path"
   ],
   "id": "5ba8d8f414dcac9a"
  },
  {
   "metadata": {},
   "cell_type": "code",
   "outputs": [],
   "execution_count": null,
   "source": [
    "class SingleSourceShortestPaths:\n",
    "    def __init__(self, graph, start_node):\n",
    "        # define predecessor tree\n",
    "        self.predecessor = dict()\n",
    "        \n",
    "        # Initialize first node as first in tree\n",
    "        self.predecessor[start_node] = start_node\n",
    "        \n",
    "        # Breadth first search with predecessor used for detection of nodes\n",
    "        queue = deque()\n",
    "        queue.append(start_node)\n",
    "        while queue:\n",
    "            v = queue.popleft()\n",
    "            # iterate over all nodes which the current node v points to\n",
    "            for s in graph.successors(v):\n",
    "                # If node not yet in predecessor search tree\n",
    "                if self.predecessor[s] is None:\n",
    "                    # Add node to search tree\n",
    "                    self.predecessor[s] = v\n",
    "                    # Add node deque to check it's connections\n",
    "                    queue.append(s)\n",
    "    \n",
    "    # If node isn't in the predecessor then there is no route \n",
    "    # starting from the starting node that connects to the given node\n",
    "    def has_path_to(self, node):\n",
    "        return self.predecessor[node] is not None\n",
    "\n",
    "    \n",
    "    def get_path_to(self, node):\n",
    "        # Check if starting node has a path to the given node\n",
    "        if not self.has_path_to(node):\n",
    "            return None\n",
    "        # Check if starting node is the given node (If node has no predecessor, it is its own predecessor)\n",
    "        if self.predecessor[node] == node:\n",
    "            return node\n",
    "        \n",
    "        # Get the previous node which connects to the given node\n",
    "        pre = self.predecessor[node]\n",
    "        path = self.get_path_to(pre)\n",
    "        path.append(node)"
   ],
   "id": "446ed91a3eaebc88"
  },
  {
   "metadata": {},
   "cell_type": "markdown",
   "source": [
    "# Acyclic Graphs\n",
    "\n",
    "A directed acyclic graph (DAG) is a directed graph that contains no directed cycles.\n",
    "We would then given a graph like to know if it contains a acyclic directed cycle or not.\n",
    "When looking at induced search trees of a depth-first search, if the induces search tree has no back edges (no edges which go back to a previous node already in the induced tree) then the graph is acyclic."
   ],
   "id": "69003a8a592775cb"
  },
  {
   "metadata": {
    "ExecuteTime": {
     "end_time": "2024-05-29T19:28:21.042170Z",
     "start_time": "2024-05-29T19:28:21.019171Z"
    }
   },
   "cell_type": "code",
   "source": [
    "class DirectedCycle:\n",
    "    def __init__(self, graph):\n",
    "        # define predecessor tree\n",
    "        self.predecessor = dict()\n",
    "        \n",
    "        # \n",
    "        self.on_current_path = set()\n",
    "        \n",
    "        #\n",
    "        self.cycle = None\n",
    "        \n",
    "        # Iterate over all nodes in graph view and perform DFS\n",
    "        for node in graph.nodes:\n",
    "            # Check if for current node we have a cycle in our graph\n",
    "            if self.has_cycle():\n",
    "                break\n",
    "            # Add node to predecessor and perform DFS on node\n",
    "            if node not in self.predecessor:\n",
    "                self.predecessor[node] = node\n",
    "                self.dfs(graph, node)\n",
    "\n",
    "    # Checks if cycle has occured\n",
    "    def has_cycle(self):\n",
    "        return self.cycle is not None\n",
    "    \n",
    "    # Depth first search\n",
    "    def dfs(self, graph, node):\n",
    "        # Add current node to set\n",
    "        self.on_current_path.add(node)\n",
    "        # Iterate over all successors of node\n",
    "        for s in graph.successors(node):\n",
    "            if self.has_cycle():\n",
    "                return\n",
    "            # Check if s (successor) has already occurred during DFS, that is we visited it twice starting from a node\n",
    "            # which means we traversed a cycle\n",
    "            if s in self.on_current_path:\n",
    "                self.predecessor[s] = node\n",
    "                self.extract_cycle(s)\n",
    "            # If successor not yet been visited we know we can continue our search\n",
    "            # If it were already in self.predecessor, then it has already been visited and no cycle was present\n",
    "            if s not in self.predecessor:\n",
    "                self.predecessor[s] = node\n",
    "                self.dfs(graph, s)\n",
    "        # Remove node if it is a dead end\n",
    "        self.on_current_path.remove(node)\n",
    "        \n",
    "    # Get cycle in graph\n",
    "    def extract_cycle(self, node):\n",
    "        self.cycle = deque()\n",
    "        current = node\n",
    "        self.cycle.appendleft(current)\n",
    "        # Traverse induced search tree to get cycle\n",
    "        while True:\n",
    "            current = self.predecessor[current]\n",
    "            self.cycle.appendleft(current)\n",
    "            if current == node:\n",
    "                return    "
   ],
   "id": "18fd801ff157370",
   "outputs": [],
   "execution_count": 1
  },
  {
   "metadata": {},
   "cell_type": "markdown",
   "source": [
    "# Topological sort\n",
    "\n",
    "A topological sort of directed acyclic graph $G = (V, E)$ is a linear ordering of all its vertices such that if $G$ contains an edge $(u, v)$, then $u$ appears before $v$ in the ordering"
   ],
   "id": "dff3caf90b88244a"
  },
  {
   "metadata": {},
   "cell_type": "markdown",
   "source": "![topological_sort](../images/topological_sort.png)",
   "id": "7ec8727bec0bf6f0"
  },
  {
   "metadata": {},
   "cell_type": "markdown",
   "source": [
    "For the reachable part of an acyclic graph, the reverse DFS postorder is a topological sort.\n",
    "We use DFS to visit all edges in reverse postorder"
   ],
   "id": "90acf96e005cc2c7"
  },
  {
   "metadata": {},
   "cell_type": "code",
   "outputs": [],
   "execution_count": null,
   "source": [
    "def topological_sort(acyclic_digraph):\n",
    "    visited = set()\n",
    "    reverse_postorder = deque()\n",
    "    for node in acyclic_digraph.nodes:\n",
    "        depth_first_exploration(acyclic_digraph, node, visited, \n",
    "                                reverse_postorder)\n",
    "    return reverse_postorder"
   ],
   "id": "7a853747f4b8d20a"
  },
  {
   "metadata": {},
   "cell_type": "markdown",
   "source": [
    "# Connected Components\n",
    "\n",
    "In an undirected graph, two vertices $u$ and $v$ are in the same connected component if there is a path between $u$ and $v$."
   ],
   "id": "e56972d02f636745"
  },
  {
   "metadata": {},
   "cell_type": "markdown",
   "source": "![conncted_components](conncted_components.png)",
   "id": "2f119dee8bf7539d"
  },
  {
   "metadata": {},
   "cell_type": "code",
   "outputs": [],
   "execution_count": null,
   "source": [
    "class ConnectedComponents:\n",
    "    # Initialization with precomputation\n",
    "    def __init__(self, graph):\n",
    "        # Gives each node an id -> id of which component it belongs to\n",
    "        self.id = [None] * graph.number_of_nodes()\n",
    "        # Initialize an id for connected components\n",
    "        self.curr_id = 0\n",
    "        for node in graph.nodes:\n",
    "            # Check if node already visited in previous DFS (Node already in connected component)\n",
    "            if self.id[node] is None:\n",
    "                self.dfs(graph, node)\n",
    "                # After exploring full connected component, move to next connected component\n",
    "                self.curr_id += 1\n",
    "\n",
    "    # Depth-first search\n",
    "    # Gives all connected nodes, which corresponds to one connected component\n",
    "    def dfs(self, graph, node):\n",
    "        if self.id[node] is not None:\n",
    "            return\n",
    "        # Give node id of current connected component\n",
    "        self.id[node] = self.curr_id\n",
    "        # Iterate over all of node successors\n",
    "        for n in graph.neighbors(node):\n",
    "            self.dfs(graph, n)\n",
    "    \n",
    "    # Check if two vertices are connected\n",
    "    def connected(self, node1: int, node2: int) -> bool:\n",
    "        return self.id[node1] == self.id[node2]\n",
    "        \n",
    "    # Count the number of connected components\n",
    "    def count(self) -> int:\n",
    "        ids = set()\n",
    "        for id in self.id:\n",
    "            if id not in ids:\n",
    "                ids.add(id)\n",
    "        return len(ids)"
   ],
   "id": "c5bc0e67762bf87d"
  },
  {
   "metadata": {},
   "cell_type": "markdown",
   "source": [
    "For a directed graph, if one ignores the directions then every connected component of the resulting undirected graph is a weakly connected component of the directed graph.\n",
    "A directed graph is then strongly connected if there is a directed path from each vertex to each other vertex."
   ],
   "id": "15cd304f24fcb9ef"
  },
  {
   "metadata": {},
   "cell_type": "markdown",
   "source": "![strongly_connected_graph](strongly_connected_graph.png)",
   "id": "4a8867a8d4ecaab"
  },
  {
   "metadata": {},
   "cell_type": "markdown",
   "source": [
    "Strongly connected components can be found via the ***Kosaraju' algorithm***.\n",
    "Given the directed Graph $G = (V, E)$, we compute the reverse postorder $P$ for all vertices of the graph.\n",
    "That is, we invert all directions in our graph and then compute the post order on this inversed graph.\n",
    "\n",
    "$$\n",
    "G^R = (V, \\{(v, u) | (u, v) \\in E\\})\n",
    "$$\n",
    "\n",
    "We then conduct a sequence of explorations in $G$, always selecting the first still unvisited vertex in $P$ as the next start vertex.\n",
    "All vertices that are reached by the same exploration are in the same strongly connected component."
   ],
   "id": "3610ae1fefa376c3"
  },
  {
   "metadata": {},
   "cell_type": "code",
   "outputs": [],
   "execution_count": null,
   "source": [
    "def compute_strongly_connected_components(directed_graph):\n",
    "    reversed_graph = directed_graph.reverse(False)\n",
    "    \n",
    "    # compute complete reverse postorder for reversed graph\n",
    "    visited = set()\n",
    "    reverse_postorder = deque()\n",
    "    for node in reversed_graph.nodes:\n",
    "        depth_first_exploration(reversed_graph, node, visited,\n",
    "                                reverse_postorder)\n",
    "        \n",
    "    print(reverse_postorder)\n",
    "    sccs = [] # should contain one entry for each strongly connected component\n",
    "\n",
    "    # TODO determine the strongly connected components\n",
    "    # Hint: you can collect the vertices that are newly\n",
    "    # visited in an exploration from the corresponding reverse\n",
    "    # postorder.\n",
    "    reverse_visited = set()\n",
    "    while reverse_postorder:\n",
    "        reverse_node = reverse_postorder.pop()\n",
    "        if not reverse_node in reverse_visited:\n",
    "            l = deque()\n",
    "            print('reverse node:',  reverse_node)\n",
    "            depth_first_exploration(directed_graph, reverse_node, reverse_visited,\n",
    "                                    l)\n",
    "            sccs.append(l)\n",
    "        \n",
    "        \n",
    "    \n",
    "    return sccs"
   ],
   "id": "47fa480e98b19167"
  },
  {
   "metadata": {},
   "cell_type": "markdown",
   "source": [
    "# Union find\n",
    "\n",
    "Image that we have a set of connected components as a collection of disjoint sets of object.\n",
    "One set then contains all vertices of one connected component.\n",
    "We then would like to have the following operations on these different sets\n",
    "\n",
    "1. $\\texttt{Union}$: Given two objects, merge the sets that contain them into one. For this we introduce a new edge between two already existing vertices, joining their disjoint connected components.\n",
    "2. $\\texttt{Find}$: Given an object, return a representative of the set that it contains. That is given a vertex, we want to return a representative vertex of the connected component it belongs to.\n",
    "    - We must return the same representative vertex for all vertexes in the set.\n",
    "    - The representative may only change if the set is merged\n",
    "    - Two objects are in the same set if $\\texttt{Find}$ returns the same representative.\n",
    "        \n",
    "3. $\\texttt{Count}$: Return the number of sets, i.e. the number of connected components."
   ],
   "id": "693e89d98540c54b"
  },
  {
   "metadata": {},
   "cell_type": "markdown",
   "source": [
    "## Quick-Find\n",
    "\n",
    "For $n$ objects, use an array representative of length $n$. \n",
    "At each index $i$, we hold the representative of the set containing $i$.\n",
    "At initialisation, every object is alone in its own set and thus its own representative.\n",
    "We then update the array after every call of union."
   ],
   "id": "b8dd8b81c29f378f"
  },
  {
   "metadata": {},
   "cell_type": "code",
   "outputs": [],
   "execution_count": null,
   "source": [
    "class QuickFind:\n",
    "    def __init__(self, no_nodes):\n",
    "        self.components = no_nodes\n",
    "        self.representative = list(range(no_nodes))\n",
    "        \n",
    "    def count(self):\n",
    "        return self.components\n",
    "    \n",
    "    def find(self, v):\n",
    "        return self.representative[v]\n",
    "    \n",
    "    def union(self, v, w):\n",
    "        # Get representative node of v and w\n",
    "        repr_v = self.find(v)\n",
    "        repr_w = self.find(w)\n",
    "        \n",
    "        # Check if both have same representative node\n",
    "        if repr_v == repr_w:\n",
    "            return \n",
    "        \n",
    "        # Switch all nodes which have repr_v as representative to repr_w\n",
    "        for i in range(len(self.representative)):\n",
    "            if self.representative[i] == repr_v:\n",
    "                self.representative[i] = repr_w\n",
    "        self.components -= 1"
   ],
   "id": "39d37ddd7bfda2f2"
  },
  {
   "metadata": {},
   "cell_type": "markdown",
   "source": "For the running time we have between $n + 3$ and $2n+1$ accesses for every call of union that merges two components",
   "id": "46c364641bd9c8b6"
  },
  {
   "metadata": {},
   "cell_type": "markdown",
   "source": [
    "# Quick-Union (Disjoint-set Forest)\n",
    "\n",
    "We have a tree for representing each set.\n",
    "Where each node used as a index indicates its parent. \n",
    "For example having the array $[0, 2, 0, 1, 4]$, then the node $0$ is a root, node $1$ connects to node $2$, node $2$ connects to $0$ etc.\n",
    "The root node than serves as the representative.\n"
   ],
   "id": "c3c2fb02a2b9ff6d"
  },
  {
   "metadata": {},
   "cell_type": "code",
   "outputs": [],
   "execution_count": null,
   "source": [
    "class QuickUnion:\n",
    "    def __init__(self, no_nodes):\n",
    "        self.parent = list(range(no_nodes))\n",
    "        self.components = no_nodes\n",
    "    \n",
    "    def find(self, v):\n",
    "        # Iterate over parent of node until node points to itself.\n",
    "        # This then is the parent node of the component, thus the representative\n",
    "        while self.parent[v] != v:\n",
    "            v = self.parent\n",
    "        return v\n",
    "    \n",
    "    def union(self, v, w):\n",
    "        # Find representatives of nodes\n",
    "        repr_v = self.find(v)\n",
    "        repr_w = self.find(w)\n",
    "        \n",
    "        # Return if nodes are already in the same component\n",
    "        if repr_v == repr_w:\n",
    "            return \n",
    "        \n",
    "        # Set parent of the representative to the other representative node \n",
    "        self.parent[repr_v] = repr_w\n",
    "        self.components -= 1"
   ],
   "id": "7aaee387b27ab24d"
  },
  {
   "metadata": {},
   "cell_type": "markdown",
   "source": [
    "A first problem with quick union is that the created trees during union can degenrate into chains.\n",
    "To fix this during union the root of the tree with lower height becomes child of the root of the higher tree"
   ],
   "id": "b1ddd8864207285b"
  },
  {
   "metadata": {},
   "cell_type": "code",
   "outputs": [],
   "execution_count": null,
   "source": [
    "class RankedQuickUnion:\n",
    "    def __init__(self, no_nodes):\n",
    "        self.parent = list(range(no_nodes))\n",
    "        self.components = no_nodes\n",
    "        self.rank = [0] * no_nodes\n",
    "       \n",
    "    def find(self, v):\n",
    "        # Iterate over parent of node until node points to itself.\n",
    "        # This then is the parent node of the component, thus the representative\n",
    "        while self.parent[v] != v:\n",
    "            v = self.parent\n",
    "        return v    \n",
    "        \n",
    "    def union(self, v, w):\n",
    "        # Find representatives of nodes\n",
    "        repr_v = self.find(v)\n",
    "        repr_w = self.find(w)\n",
    "        \n",
    "        # Return if nodes are already in the same component\n",
    "        if repr_v == repr_w:\n",
    "            return \n",
    "    \n",
    "        # Assign representative node with lower rank as child of the higher rank representative\n",
    "        if self.rank[repr_w] < self.rank[repr_v]:\n",
    "            self.parent[repr_w] = repr_v\n",
    "        # Inverse\n",
    "        else:\n",
    "            self.parent[repr_v] = repr_w\n",
    "            if self.parent[repr_v] == self.parent[repr_w]:\n",
    "                self.rank[repr_w] += 1"
   ],
   "id": "b82012754d60d40"
  },
  {
   "metadata": {},
   "cell_type": "markdown",
   "source": [
    "A second improvement to quick union can be done in find by reconnecting all traversed nodes to the root.\n",
    "Here we do not update the height of the tree during path compression                                                                     "
   ],
   "id": "f013229928d92ffd"
  },
  {
   "metadata": {},
   "cell_type": "code",
   "outputs": [],
   "execution_count": null,
   "source": [
    "class RankedQuickUnionWithPathCompression:\n",
    "    def __init__(self, no_nodes):\n",
    "        self.parent = list(range(no_nodes))\n",
    "        self.components = no_nodes\n",
    "        self.rank = [0] * no_nodes # [0, ..., 0]\n",
    "\n",
    "    def find(self, v):\n",
    "        if self.parent[v] == v:\n",
    "            return v\n",
    "        \n",
    "        # Find root of given node\n",
    "        root = self.find(self.parent[v])\n",
    "        # Set parent of given node to root\n",
    "        self.parent[v] = root\n",
    "        return root"
   ],
   "id": "f8013242095f6c2d"
  },
  {
   "metadata": {},
   "cell_type": "markdown",
   "source": [
    "With these improvements to the tree structure we are able to achieve constant armotized cost for all operations.\n",
    "Given $m$ calls of find for $n$ objects and at most $n  -1$ calls for union, merging two components.\n",
    "We have $O(m\\alpha(m, n))$ array accesses where $\\alpha$ is the inverse of a variant of the Ackermann function.\n",
    "It hold for the ackermann function that $\\alpha(m, n) \\leq 3$.\n",
    "But there cannot be a union-find structure that guarantees linear running time."
   ],
   "id": "ad9daffc50b8338"
  },
  {
   "metadata": {},
   "cell_type": "markdown",
   "source": [
    "After precomputation, queries require only linear time.\n",
    "Disjoint-set forests are often faster."
   ],
   "id": "b4fda2fe5cba9edb"
  },
  {
   "metadata": {},
   "cell_type": "markdown",
   "source": [
    "# Connected Components and Equivalence Classes\n",
    "\n",
    "Certain properties of connected components are \n",
    "\n",
    "1. Every vertex is in a connected component\n",
    "2. No vertex is in more than one connected component\n",
    "3. Reflexive: Every vertex is connected with itself\n",
    "4. Symmetric: If $u$ is connected with $v$, then $v$ is connected with $u$\n",
    "5. Transitive: If $u$ is connected with $v$ and $v$ with $w$, then $u$ is connected with $w$."
   ],
   "id": "3581fc5f5a496f7a"
  },
  {
   "metadata": {},
   "cell_type": "markdown",
   "source": [
    "## Partition\n",
    "\n",
    "A partition of a finite set $M$ is a set $P$ of non-empty subsets $M$, such that\n",
    "\n",
    "* Every element of $M$ is in some set in $P$\n",
    "\n",
    "$$\n",
    "\\cup_{S\\in P} S = M\n",
    "$$\n",
    "\n",
    "* Sets in $P$ are pairwise disjoint\n",
    "\n",
    "$$\n",
    "S \\cap S' = \\O \\ \\text{for} \\ S,S' \\in P \\ \\text{with} \\ S \\neq S'\n",
    "$$\n",
    "\n",
    "If this holds then the sets in $P$ are called ***blocks***."
   ],
   "id": "bace7b8509e430b1"
  },
  {
   "metadata": {},
   "cell_type": "markdown",
   "source": [
    "## Equivalence Relation\n",
    "\n",
    "An equivalence relation over set $M$ is a symmetric, transitive and reflexive relation $R \\subseteq  M \\times M$.\n",
    "We write $a \\sim b$ for $(a, b) \\in R$ and say that $a$ is equivalent to $b$.\n",
    "\n",
    "1. ***Symmetric***: $a \\sim b$ implies $b \\sim a$\n",
    "2. ***Transitive***: $a \\sim b$ and $b \\sim c$ implies $a \\sim c$\n",
    "3. ***Reflexive***: for all $e \\in M$: $e \\sim e$\n",
    "\n"
   ],
   "id": "af5c7b72f4219d75"
  },
  {
   "metadata": {},
   "cell_type": "markdown",
   "source": [
    "## Equivalence Classes\n",
    "\n",
    "Let $R$ be an equivalence relation over $M$.\n",
    "The equivalence class $a \\in M$ is the set\n",
    "\n",
    "$$\n",
    "[a] = \\{ b \\in M | a \\sim b \\}\n",
    "$$\n",
    "\n",
    "The set of all equivalence classes is a partition of $M$\n",
    "\n",
    "For a partition $P$ define $R=\\{(x, y) | \\exists B \\in P: x, y \\in B\\}$ (i.e. $x \\sim y$ if and only if $x$ and $y$ are in the same block).\n",
    "Then $R$ is an equivalence relation."
   ],
   "id": "a82e88362917fff3"
  },
  {
   "metadata": {},
   "cell_type": "markdown",
   "source": [
    "# Union-Find and Equivalences\n",
    "\n",
    "Given a finite set $M$ with sequences $s$ of equivalences $a \\sim b$ over $M$.\n",
    "Here we consider equivalences as edges in a graph where $M$ then is the set of all vertices.\n",
    "Connected components of the graph then correspond to the equivalence classes of the finest equivalence relation that considers all equivalences from $s$.\n",
    "We can then use union-find data structures to determine equivalence classes."
   ],
   "id": "1b8a1dbfe6b337ae"
  },
  {
   "metadata": {},
   "cell_type": "markdown",
   "source": [
    "# Minimum Spanning Trees\n",
    "\n",
    "A ***tree*** is an acyclic connected graph, it has the following properties\n",
    "1. Every pair of distinct vertices is connected by exactly one simple path (no vertex occurs more than once).\n",
    "2. If we remove an edge, the graph becomes disconnected with two connected components\n",
    "3. If we add an edge, we create a cycle.\n",
    "\n",
    "* A ***forest*** is an acyclic graph\n",
    "\n",
    "A graph $G' = (V', E')$ is a ***subgraph*** of graph $G=(V, E)$ if $V' \\subseteq V$ and $E' \\subseteq E$."
   ],
   "id": "564b2ace341db39d"
  },
  {
   "metadata": {},
   "cell_type": "markdown",
   "source": "![subgraph](subgraph.png)",
   "id": "9a0649d145386ad2"
  },
  {
   "metadata": {},
   "cell_type": "markdown",
   "source": [
    "## Spanning Tree\n",
    "\n",
    "A ***spanning tree*** of a connected graph is a subgraph that contains all vertices of the graph and is a tree.\n",
    "It is then a tree such that all the vertices are connected using minimal possible number of edges."
   ],
   "id": "35f7e6e350dad29b"
  },
  {
   "metadata": {},
   "cell_type": "markdown",
   "source": [
    "## Weighted Graphs\n",
    "\n",
    "An edge-weighted graph associates every edge $e$ with a weight (or cost) $\\text{weight}(e) \\in \\mathbb{R} $.\n",
    "The weight of graph $G = (V, E)$ is the sum of all its edge weights\n",
    "\n",
    "$$\n",
    "\\text{weight}(G) = \\sum_{e \\in E} \\text{weight}(e)\n",
    "$$"
   ],
   "id": "75aeb88fae820856"
  },
  {
   "metadata": {},
   "cell_type": "markdown",
   "source": [
    "# Minimum Spanning Trees\n",
    "\n",
    "In the Minimum Spanning Trees Problem (MST Problem) we are given an connected weighted undirected graph and would like to span a tree with minimum weight."
   ],
   "id": "1d8f7368a11b73d5"
  },
  {
   "metadata": {},
   "cell_type": "markdown",
   "source": [
    "## Generic Algorithm\n",
    "\n",
    "For a subset $A$ of the edges of a MST, we call edge $e$ safe for $A$ if $A \\cup \\{e\\}$ is also a subset of the edges of a MST.\n",
    "\n",
    "1. $A := \\O$\n",
    "2. While $(V, A)$ does not form a spanning tree of $G$:\n",
    "   - Find an edge $e$ that is safe for $A$\n",
    "   - $A = A \\cup \\{e\\}$\n",
    "3. Return $(V, A)$"
   ],
   "id": "5d428f7146ad7f73"
  },
  {
   "metadata": {},
   "cell_type": "markdown",
   "source": [
    "# Cut in Graphs\n",
    "\n",
    "Let $G = (V, E)$ be an undirected graph.\n",
    "A cut $(V', V \\setminus V')$ partitionsthe vertices.\n",
    "An edge crosses the cut if one of its endpoints is in $V'$ and the other endpoint in $V \\setminus V'$.\n",
    "The cut respects a set of edges $A \\subset E$ if no $e \\in A$ crosses the cut."
   ],
   "id": "b7779a91179ce05a"
  },
  {
   "metadata": {},
   "cell_type": "markdown",
   "source": [
    "# Sufficient Criterion for Safe Edges\n",
    "\n",
    "* ***Theorem***\n",
    "\n",
    "*Let $G = (V, E)$ be a connected, undirected weighted graph. Let $A \\subseteq E$ be a subset of the edges of some mimimum spanning tree for $G$. Let $(S, V \\setminus S)$ be any cut of $G$ that respects $A$ and let $e$ be an edge crossing the cut that has minimum weight among all such edges. Then $e$ is safe for $A$.*\n",
    "\n",
    "* ***Proof***\n",
    "\n",
    "Let $T$ be a MST that includes $A$. If it includes $e$, we are done.\n",
    "If not, then we construct from $T$ a MST $T'$ that includes $A \\cup \\{e\\}$.\n",
    "Let $u$ and $v$ be the end poitns of $e$. The edge $e$ forms a cycle with the edges o the simple path $p$ from $u$ to $v$ in $T$.\n",
    "This follows from the fact that for a tree, if we add an edge in between two vertices, we create a cycle.\n",
    "Since $e$ crosses the cut, path $p$ must contain at least one edge that also crosses the cut\n",
    "Let $e'=\\{x, z\\}$ be such an edge.\n",
    "Edge $e'$ is not in $A$ because the cut respects $A$.\n",
    "Removing $e'$ from $T$ breaks it into two connected components.\n",
    "Adding $e$ reconnects them into a new spanning tree $T'$.\n",
    "\n",
    "Since $e$ is an edge of minimum weight among all edges that cross the cut and $e′$ also crosses the cut, it holds that\n",
    "$ \\text{weight}(e) \\leq \\text{weight}(e') \\Rightarrow \\text{weight}(T') \\leq \\text{weight}(T)  $.\n",
    "Since $T$ is a minimum spanning tree this implies that also $T′$ is a minimum spanning tree.\n",
    "The edges of $T′$ include $e$ and all edges from $A$ (because $e′ \\in A$),so overall we have shown that $e$ is safe for $A$.\n",
    "\n",
    "\n",
    "The algorithm terminates after $|V| - 1$ iterations."
   ],
   "id": "2b51cf19026b7418"
  },
  {
   "metadata": {},
   "cell_type": "markdown",
   "source": [
    "# Graph Representation\n",
    "\n",
    "We could represent weighted graph with the use of Adjacency matrices, where we replace the binary entries with the weight of the edges.\n",
    "Or we could have an adjacency list where we store pairs of successors and their respective weights in a list.\n",
    "Here we actually represent the edges themselves as class objects"
   ],
   "id": "9aa8b1f9230ae2fd"
  },
  {
   "metadata": {},
   "cell_type": "code",
   "outputs": [],
   "execution_count": null,
   "source": [
    "class Edge:\n",
    "    # edge between node 1 and node 2 and the respective weight of that edge\n",
    "    def __init__(self, n1: int, n2: int, weight: float) -> None:\n",
    "        self.n1 = n1\n",
    "        self.n2 = n2\n",
    "        self.edge_weight = weight\n",
    "    \n",
    "    # returns weight of the edge\n",
    "    def weight(self) -> float:\n",
    "        return self.edge_weight\n",
    "    \n",
    "    # returns one of the two nodes\n",
    "    def either_node(self) -> int:\n",
    "        return self.n1\n",
    "    \n",
    "    # Returns other node, not n\n",
    "    def other_node(self, n: int) -> int:\n",
    "        if self.n1 == n:\n",
    "            return self.n2\n",
    "        return self.n1"
   ],
   "id": "a9de2c6ff0c3c6d3"
  },
  {
   "metadata": {},
   "cell_type": "markdown",
   "source": [
    "For the graph we store for every node, a reference to the connecting edges.\n",
    "For every edge we have then one object and 2 references to it."
   ],
   "id": "96e2bca6ef5558c5"
  },
  {
   "metadata": {},
   "cell_type": "code",
   "outputs": [],
   "execution_count": null,
   "source": [
    "class EdgeWeightedGraph:\n",
    "    def __init__(self, no_nodes: int) -> None:\n",
    "        self.nodes = no_nodes\n",
    "        self.edges = 0\n",
    "        # Save all edges for a node\n",
    "        self.incident = [[] for l in range(no_nodes)]\n",
    "\n",
    "    def add_edge(self, edge: Edge) -> None:\n",
    "        either = edge.either_node()\n",
    "        other = edge.other_node(either)\n",
    "        self.incident[either].append(edge)\n",
    "        self.incident[other].append(edge)\n",
    "        self.edges += 1\n",
    "        \n",
    "    def no_nodes(self) -> int:\n",
    "        return self.nodes\n",
    "        \n",
    "    def no_edges(self) -> int:\n",
    "        return self.edges\n",
    "        \n",
    "    # Give all edges connecting to a specific node\n",
    "    def incident_edges(self, node: int):\n",
    "        for edge in self.incident[node]:\n",
    "            yield edge\n",
    "        \n",
    "    def all_edges(self):\n",
    "        for node in range(self.nodes):\n",
    "            for edge in self.incident[node]:\n",
    "                if edge.other_node(node) > node:\n",
    "                    yield edge"
   ],
   "id": "80b127285b5b63db"
  },
  {
   "metadata": {},
   "cell_type": "markdown",
   "source": "The MST would then have the following class structure",
   "id": "2c75aefecc53067d"
  },
  {
   "metadata": {},
   "cell_type": "code",
   "outputs": [],
   "execution_count": null,
   "source": [
    "class MST:\n",
    "    def __init__(graph: EdgeWeightedGraph) -> None:\n",
    "        pass\n",
    "    def edges() -> Generator[Edge]:\n",
    "        pass\n",
    "    def weight() -> float:\n",
    "        pass"
   ],
   "id": "87af0b2c21e64253"
  },
  {
   "metadata": {},
   "cell_type": "markdown",
   "source": [
    "# Kruskal's Algorithm\n",
    "\n",
    "In kruskal's algorithm we process the edgfes in increasing order of their weights. \n",
    "We include an edge if it does not form a cycle with the already included edges, otherwise we just discard it.\n",
    "We then terminate after $|V| - 1$ edges.\n",
    "\n",
    "\n",
    "We start with a forest of $|V|$ trees, where each tree only consists of a single node. \n",
    "Every included edge connects two trees into a single one.\n",
    "After $|V| - 1$ steps, the forest consists of a single tree.\n",
    "\n",
    "Because we are only interested in the connected components in the forest we can use Disjoint sets."
   ],
   "id": "f6522ab5f3460cc4"
  },
  {
   "metadata": {},
   "cell_type": "code",
   "outputs": [],
   "execution_count": null,
   "source": [
    "class MSTKruskal:\n",
    "    def __init__(self, graph):\n",
    "        # Collect all included edges\n",
    "        self.included_edges = []\n",
    "        # Calculate total weight of MST\n",
    "        self.total_weight = 0\n",
    "        # Min priority queue (min-heap)\n",
    "        candidates = minPQ()\n",
    "        # Add all edges of graph to candidates\n",
    "        for edge in graph.all_edges():\n",
    "            candidates.insert(edge)\n",
    "        # Create UnionFind class object (Ranked Quick union with path compression)\n",
    "        # Initialisation creates list where every node is its own tree\n",
    "        uf = UnionFind(graph.no_nodes())\n",
    "        #\n",
    "        while (not candidates.empty() and len(self.included_edges) < graph.no_nodes() - 1)\n",
    "            # Find edge with lowest current weight\n",
    "            edge = candidates.del_min()\n",
    "            # Get nodes of that edge\n",
    "            v = edge.either_node()\n",
    "            w = edge.other_node(v)\n",
    "            # Check if both edged are already connected in union -> Skip iteration\n",
    "            # If they are already connected, that is they have the same parent, then adding this edge would create a cycle\n",
    "            if uf.connected(v, w):\n",
    "                continue\n",
    "            # Connect edge\n",
    "            uf.union(v, w)\n",
    "            self.included_edges.append(edge)\n",
    "            self.total_weight += edge.weight()\n",
    "            "
   ],
   "id": "a75142135ae648a1"
  },
  {
   "metadata": {},
   "cell_type": "markdown",
   "source": [
    "## Running time\n",
    "\n",
    "If our priority queue is implemented as a heap.\n",
    "At the beginning our priority queue has $|E|$ entries.\n",
    "In a priority queue, any operation has a running time of $O(\\log n)$ where $n$ is the amount of entries in the heap.\n",
    "Then in total extracting $|E|$ elements from our priority queue takes $O(|E|\\log|E|)$ time.\n",
    "The priority queue operations domenate the costs over all other operations.\n",
    "The algorithm also has a Memory complexity of $O(|E|)$."
   ],
   "id": "a05990b1b2052a28"
  },
  {
   "metadata": {},
   "cell_type": "markdown",
   "source": [
    "# Prims Algorithm\n",
    "\n",
    "In prim's algorithm, we choose a random node as our starting tree.\n",
    "We then let that tree grow by one additional edge at each step.\n",
    "At each step we add the edge with minimal weight which has exactly one end point in the tree (a safe edge).\n",
    "We stop after adding $|V| - 1$ edges.\n",
    "\n",
    "We can use a priority queue for the candidate edges which prioritizes edges by their weight."
   ],
   "id": "c5a465ae72bbd975"
  },
  {
   "metadata": {},
   "cell_type": "markdown",
   "source": "## Eager Variant",
   "id": "9981489dc31d88ad"
  },
  {
   "metadata": {},
   "cell_type": "markdown",
   "source": [
    "## Lazy Variant\n",
    "\n",
    "In the lazy variant we look at edges that have at least one end point in the tree.\n",
    "\n",
    "The priority queue candidate contains all edges with exactly one endpoint in the tree and possible edges with both endpoints in the tree.\n",
    "Then while there are fewer than $|V| - 1$ edges \n",
    "1. Remove edge $e$ with minimal weight from the priority queue.\n",
    "2. Discard $e$ if both endpoints in the tree\n",
    "3. \n",
    "4. Otherwise, let $v$ be the end point that is not yet in the tree. Add all edges that are connected to $v$ and whose other end points are not in the tree of candidates\n",
    "5. Add $e$ and $v$ to the tree"
   ],
   "id": "587aeb8f95499a3"
  },
  {
   "metadata": {},
   "cell_type": "code",
   "outputs": [],
   "execution_count": null,
   "source": [
    "class LazyPrim:\n",
    "    def __init__(self, graph):\n",
    "        self.included_weights = []\n",
    "        self.total_weight = 0\n",
    "        \n",
    "        "
   ],
   "id": "df07fc1fadc7735a"
  }
 ],
 "metadata": {
  "kernelspec": {
   "display_name": "Python 3",
   "language": "python",
   "name": "python3"
  },
  "language_info": {
   "codemirror_mode": {
    "name": "ipython",
    "version": 2
   },
   "file_extension": ".py",
   "mimetype": "text/x-python",
   "name": "python",
   "nbconvert_exporter": "python",
   "pygments_lexer": "ipython2",
   "version": "2.7.6"
  }
 },
 "nbformat": 4,
 "nbformat_minor": 5
}
