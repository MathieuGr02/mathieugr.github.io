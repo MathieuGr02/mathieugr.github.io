{
 "cells": [
  {
   "metadata": {},
   "cell_type": "markdown",
   "source": [
    "---\n",
    "title: Graphs\n",
    "layout: collection\n",
    "permalink: /Algorithms-Datastructures/Graphs\n",
    "collection: Algorithms-Datastructures\n",
    "entries_layout: grid\n",
    "mathjax: true\n",
    "toc: true\n",
    "categories:\n",
    "  - study\n",
    "tags:\n",
    "  - programming\n",
    "---"
   ],
   "id": "11363cc8d0fc8a53"
  },
  {
   "metadata": {},
   "cell_type": "markdown",
   "source": [
    "A graph is a pair $(V, E)$ comprising of $V$, being a finite set of vertices and $E$ being a finite set of edges. \n",
    "Every edge connects two vertices $u$ and $v$. \n",
    "In an undirected graph we have a $set\\{u, v\\}$ and in a directed graph we have a $pair(u, v)$. \n",
    "Multigraphs permit multiple parallel edges between the same nodes. \n",
    "Weighted graphs associate each edge with a weight.\n",
    "\n",
    "Undirected graph terminology\n",
    "- Neighbours of a vertex $u$: All vertices $v$ with $\\{u, v\\} \\in E$\n",
    "- Degree(v): Degree of a vertex = Amount of neighbours. In case of a self-loop the degree increases by 2\n",
    "\n",
    "Directed graphs terminology\n",
    "- Successors of vertex $u$: All vertices $v$ with $(u, v) \\in E$\n",
    "- Predecessors of vertex $u$: All vertices $v$ with $(v, u) \\in E$\n",
    "- outdegree(v): Amount of successors\n",
    "- indegree(v): Amount of predecessors\n",
    "\n",
    "Path and cycles\n",
    "- Path of length n: Sequence $(v_0, ..., v_n)$ of vertices with $\\{v_i, v_{i+1} \\} \\in E \\ for \\ i = 0, ..., n - 1$ or $(v_i, v_{i+1}) \\in E \\ for \\ i = 0, ..., n - 1$. A path is simple if all vertices are distinct\n",
    "- Cycle: Path with equal start and end vertex $(v_0 = v_n)$ for $n > 0$. The cycle is simple if all vertices $v_1, ..., v_n$ are distinct. If theres no simple cycle, then the graph is acyclic."
   ],
   "id": "a11887fa11e5449e"
  },
  {
   "metadata": {},
   "cell_type": "markdown",
   "source": [
    "### Representation\n",
    "\n",
    "The vertices are numbered with $0, ..., |V| - 1$. \n",
    "Then we can represent this with an Adjacency matrix. \n",
    "Graph $G = (\\{0,... |V| - 1\\})$ is then represented as a $|V| \\times |V|$ matrix with entries $a_{ik}$ (row i, column k):\n",
    "\n",
    "$$\n",
    "a_{ik}\n",
    "\\begin{cases}\n",
    "1 \\ \\text{if} \\ (i, k) \\in E \\ \\text{or} \\ \\{i, k\\} \\in E \\\\\n",
    "0 \\ \\text{otherwise}\n",
    "\\end{cases}\n",
    "$$\n",
    "\n",
    "An undirected graph has a symmetric adjacency matrix.\n",
    "\n",
    "As an Adjacency list, we store for every vertex in a linked list the list of successors / neighbours\n",
    "\n",
    "The complexity of these representations is\n",
    "\n",
    "|                             | Adj. Matrix | Adj. list           |\n",
    "|-----------------------------|-------------|---------------------|\n",
    "| Space                       | $\\| V \\|^2$ | $\\| E \\| + \\| V \\|$ |\n",
    "| Add edge                    | 1           | 1                   |\n",
    "| Edge between u and v?       | 1           | (out)degree(v)      |\n",
    "| Iterate over outgoing edges | $\\| V \\|$   | (out)degree(v)      |"
   ],
   "id": "8ef7933c85c42222"
  },
  {
   "metadata": {},
   "cell_type": "markdown",
   "source": [
    "### Graph exploration\n",
    "\n",
    "Given a vertex $v$, we want to visit all vertices that are reachable from $v$.\n",
    "\n",
    "#### Depth-first search (DFS)\n",
    "\n",
    "Go deep into the graph, away from $v$. \n",
    "We mark every visited vertices. \n",
    "We start at v and iterate over the successorts/neighbours $w$ of $v$. \n",
    "Then if $w$ not marked, start recursively from $w$\n",
    "We visit successor in increasing order of their number. \n",
    "If we reach an end start from second node."
   ],
   "id": "918344667824e27"
  },
  {
   "metadata": {},
   "cell_type": "code",
   "outputs": [],
   "execution_count": null,
   "source": [
    "def depth_first_exploration(graph, node, visited=None):\n",
    "    if visited is None:\n",
    "        visited = set()\n",
    "    if node in visited():\n",
    "        return \n",
    "    visited.add(node)\n",
    "    for s in graph.successors(node):\n",
    "        depth_first_exploration(graph, s, visited)"
   ],
   "id": "ffbadc70c24261c6"
  },
  {
   "metadata": {},
   "cell_type": "markdown",
   "source": [
    "- $\\texttt{Preorder}$: Vertex is included before ts children are considered\n",
    "- $\\texttt{Postorder}$: Vertex is included when the recursive depth first search of all its childern has finished\n",
    "- $\\texttt{Reverse Postorder}$ Like post order but in reverse order."
   ],
   "id": "5b9cd4c332be0366"
  },
  {
   "metadata": {},
   "cell_type": "code",
   "outputs": [],
   "execution_count": null,
   "source": [
    "def depth_first_exploration(graph, node, preorder, postorder, reverse_postorder, visited=None):\n",
    "    if visited is None:\n",
    "        visited = set()\n",
    "    if node in visited():\n",
    "        return \n",
    "    preorder.append(node) # <- Preorder add location\n",
    "    visited.add(node)\n",
    "    for s in graph.successors(node):\n",
    "        depth_first_exploration(graph, s, preorder, postorder, reverse_postorder, visited)\n",
    "        \n",
    "    postorder.append(node) # <- Postorder add location\n",
    "    reverse_postorder.appendleft(node) # <- Reverse Postorder add location"
   ],
   "id": "6c6d8bb71c1d6375"
  },
  {
   "metadata": {},
   "cell_type": "code",
   "outputs": [],
   "execution_count": null,
   "source": [
    "def depth_first_exploration(graph, node):\n",
    "    visited = set()\n",
    "    stack = deque()\n",
    "    stack.append(node)\n",
    "    \n",
    "    while stack:\n",
    "        v = stack.pop() #Last in first out\n",
    "        if v not in visited:\n",
    "            visited.add(v)\n",
    "            for s in graph.successors(v):\n",
    "                stack.append(s)"
   ],
   "id": "93f3c19a154c6833"
  },
  {
   "metadata": {},
   "cell_type": "markdown",
   "source": [
    "### Breadth-first Search (BFS)\n",
    "\n",
    "First mark all neighbours, then neighbours of neighbours and so on.\n",
    "1. Mark $v$ (Distance 0)\n",
    "2. Mark all unmarked successors/neighbours of $v$ (Distance 1)\n",
    "3. Mark all unmarked successors/neighbours of distance-1 vertices \n",
    "...\n",
    "4. Mark all unmarked successors/neighbours of distance-i vertices"
   ],
   "id": "3f036a682ea778dc"
  },
  {
   "metadata": {},
   "cell_type": "code",
   "outputs": [],
   "execution_count": null,
   "source": [
    "def breadth_first_exploration(graph, node):\n",
    "    visited = set()\n",
    "    queue = deque()\n",
    "    queue.append(node)\n",
    "    while queue:\n",
    "        v = queue.popleft() #First in first out\n",
    "        if v not in visited:\n",
    "            visited.add(v)\n",
    "            for s in graph.successors(v):\n",
    "                queue.append(s)\n",
    "                \n",
    "# Slightly more efficient\n",
    "def breadth_first_exploration(graph, node):\n",
    "    visited = set()\n",
    "    queue = deque()\n",
    "    queue.append(node)\n",
    "    while queue:\n",
    "        v = queue.popleft() #First in first out\n",
    "        for s in graph.successors(v):\n",
    "            if s not in visited:\n",
    "                queue.append(s)\n",
    "                visited.add(v)"
   ],
   "id": "6b719d318f834b52"
  },
  {
   "metadata": {},
   "cell_type": "markdown",
   "source": [
    "The running time is given by\n",
    "\n",
    "$$\n",
    "O(|V| + |E|)\n",
    "$$"
   ],
   "id": "7b9d90c2e0cbae52"
  },
  {
   "metadata": {},
   "cell_type": "markdown",
   "source": [
    "### Induced Search Tree\n",
    "\n",
    "The induces search tree of a graph exploration contains for every visited vertex an edge from its predecessor in the exploration. Every vertex has at most one predecessor in the tree. Represent induced search tree by the predecessor relation. The visited vertices are exactly those for which there is a predecessor set."
   ],
   "id": "11382a5769e8620e"
  },
  {
   "metadata": {},
   "cell_type": "code",
   "outputs": [],
   "execution_count": null,
   "source": [
    "def bfs_with_predecessors(graph, node):\n",
    "    predecessor = [None] * graph.no_nodes()\n",
    "    queue = deque()\n",
    "    \n",
    "    predecessor[node] = node\n",
    "    queue.append(node)\n",
    "    while queue:\n",
    "        v = queue.popleft() #FIFO\n",
    "        for s in graph.successors(v):\n",
    "            if predecessor[s] is None:\n",
    "                predecessor[s] = v\n",
    "                queue.append(s)"
   ],
   "id": "e1fbd276b60ba0f8"
  }
 ],
 "metadata": {
  "kernelspec": {
   "display_name": "Python 3",
   "language": "python",
   "name": "python3"
  },
  "language_info": {
   "codemirror_mode": {
    "name": "ipython",
    "version": 2
   },
   "file_extension": ".py",
   "mimetype": "text/x-python",
   "name": "python",
   "nbconvert_exporter": "python",
   "pygments_lexer": "ipython2",
   "version": "2.7.6"
  }
 },
 "nbformat": 4,
 "nbformat_minor": 5
}
