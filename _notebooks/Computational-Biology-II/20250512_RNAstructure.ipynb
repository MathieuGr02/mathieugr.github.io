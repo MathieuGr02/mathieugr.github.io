{
 "cells": [
  {
   "cell_type": "markdown",
   "id": "5914210b-7320-43ad-a74a-4ae9d89db6e9",
   "metadata": {},
   "source": [
    "## RNA secondary structure\n",
    "\n",
    "As we will discuss in the lecture, the 3D structure of biopolymers, whether proteins or RNAs, is crucial for their functions. For instance, tRNAs fold into characteristic clover leaf structures, while miRNAs - which are small RNAs (~22 nucleotides in their final functional form) - are generated from precursors that fold into hairpins. These structures are maintained though evolution, despite changes in the sequence. Consequently, one approach to finding regions in the genome that encode particular types of RNAs is to look for regions that fold into the structure characteristic for the RNA of interest.\n",
    "\n",
    "The hairpin structure of miRNA precursors can be found quite frequently in genomes, so on its own, is not sufficient for a reliable prediction of miRNA-encoding genes. However, one study (https://academic.oup.com/bioinformatics/article/20/17/2911/186725) went a step further in evaluating the significance of hairpin-forming sequences. Specifically, the authors reasoned that miRNA sequences have undergone evolutionary optimization to form the hairpins that they form, while other sequences with the same nucleotide composition would not. They went to show this via randomization, which you can try to replicate.\n",
    "\n",
    "Specifically,\n",
    "1. you can download miRNA precursor sequences from the standard repository of the field, miRBase, https://www.mirbase.org/download/.\n",
    "There are sequences from many organisms, you can recognize the human sequences by the prefix of their name - hsa.\n",
    "2. using either the webserver or the distributable version of RNAfold (http://rna.tbi.univie.ac.at/cgi-bin/RNAWebSuite/RNAfold.cgi), predict the secondary structure of human miRNA precursors and record their minimum free energy of folding.\n",
    "3. for each human miRNA precursor generate 1000 shuffled variant sequences, with the same nucleotide composition.\n",
    "4. predict the MFE for all of the shuffled variants and calculate the z-score of the original sequence with respect to its shuffled variants.\n",
    "\n",
    "You could try the same procedure for tRNAs (from https://gtrnadb.ucsc.edu/genomes/eukaryota/Hsapi38/hg38-mature-tRNAs.fa).\n",
    "\n",
    "What do you conclude?\n",
    "\n",
    "**Note**: if you cannot install the standalone version of RNAfold, limit the number of miRNAs/tRNAs that you submit to the server."
   ]
  },
  {
   "cell_type": "code",
   "execution_count": null,
   "id": "041ca4e5-0e23-42be-8db7-c64eb1478f52",
   "metadata": {},
   "outputs": [],
   "source": ""
  },
  {
   "metadata": {
    "jupyter": {
     "is_executing": true
    },
    "ExecuteTime": {
     "start_time": "2025-05-13T08:13:27.480039Z"
    }
   },
   "cell_type": "code",
   "source": [
    "import random\n",
    "import numpy as np\n",
    "import matplotlib.pyplot as plt\n",
    "\n",
    "from Bio import SeqIO\n",
    "from RNA import RNA\n",
    "\n",
    "sequences = []\n",
    "\n",
    "def shuffle(sequence: str, amount: int = 1000) -> list[str]:\n",
    "    shuffle_sequences = []\n",
    "    for i in range(amount):\n",
    "        l = list(sequence)\n",
    "        random.shuffle(l)\n",
    "        shuffle_sequences.append(''.join(l))\n",
    "\n",
    "    return shuffle_sequences\n",
    "\n",
    "def all_mfe(sequences: list[str]) -> list[float]:\n",
    "    mfe = []\n",
    "    for i, sequence in enumerate(sequences):\n",
    "        if i % 100 == 0:\n",
    "            print(f\"I : {i}\")\n",
    "        fold, fold_mfe = RNA.fold(sequence)\n",
    "        mfe.append(fold_mfe)\n",
    "\n",
    "    return mfe\n",
    "\n",
    "fasta_sequences = SeqIO.parse(open('hairpin.fa'),'fasta')\n",
    "for fasta in fasta_sequences:\n",
    "    name, sequence = fasta.id, str(fasta.seq)\n",
    "    sequences.append(sequence)\n",
    "\n",
    "mfes = all_mfe(sequences)\n",
    "plt.hist(mfes)\n",
    "plt.show()\n",
    "\n",
    "z_scores = []\n",
    "for i, sequence in enumerate(sequences):\n",
    "    if i % 100 == 0:\n",
    "        print(f\"I : {i}\")\n",
    "    fold, mfe_fold = RNA.fold(sequence)\n",
    "\n",
    "    shuffle_sequences = shuffle(sequence)\n",
    "    mfe = []\n",
    "    for shuffle_seq in shuffle_sequences:\n",
    "        shuffle_result = RNA.fold(shuffle_seq)\n",
    "        mfe.append(shuffle_result[1])\n",
    "\n",
    "    z = (mfe_fold - np.mean(mfe)) / np.var(mfe)\n",
    "    z_scores.append(z)\n",
    "\n",
    "plt.hist(z)\n",
    "plt.show()"
   ],
   "id": "fb9bffe8d360e106",
   "outputs": [
    {
     "name": "stdout",
     "output_type": "stream",
     "text": [
      "I : 0\n",
      "I : 100\n",
      "I : 200\n",
      "I : 300\n",
      "I : 400\n",
      "I : 500\n",
      "I : 600\n",
      "I : 700\n",
      "I : 800\n",
      "I : 900\n"
     ]
    }
   ],
   "execution_count": null
  }
 ],
 "metadata": {
  "kernelspec": {
   "display_name": "Python 3 (ipykernel)",
   "language": "python",
   "name": "python3"
  },
  "language_info": {
   "codemirror_mode": {
    "name": "ipython",
    "version": 3
   },
   "file_extension": ".py",
   "mimetype": "text/x-python",
   "name": "python",
   "nbconvert_exporter": "python",
   "pygments_lexer": "ipython3",
   "version": "3.12.7"
  }
 },
 "nbformat": 4,
 "nbformat_minor": 5
}
