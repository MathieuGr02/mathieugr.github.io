{
 "cells": [
  {
   "cell_type": "markdown",
   "id": "5914210b-7320-43ad-a74a-4ae9d89db6e9",
   "metadata": {},
   "source": [
    "## RNA secondary structure\n",
    "\n",
    "As we will discuss in the lecture, the 3D structure of biopolymers, whether proteins or RNAs, is crucial for their functions. For instance, tRNAs fold into characteristic clover leaf structures, while miRNAs - which are small RNAs (~22 nucleotides in their final functional form) - are generated from precursors that fold into hairpins. These structures are maintained though evolution, despite changes in the sequence. Consequently, one approach to finding regions in the genome that encode particular types of RNAs is to look for regions that fold into the structure characteristic for the RNA of interest.\n",
    "\n",
    "The hairpin structure of miRNA precursors can be found quite frequently in genomes, so on its own, is not sufficient for a reliable prediction of miRNA-encoding genes. However, one study (https://academic.oup.com/bioinformatics/article/20/17/2911/186725) went a step further in evaluating the significance of hairpin-forming sequences. Specifically, the authors reasoned that miRNA sequences have undergone evolutionary optimization to form the hairpins that they form, while other sequences with the same nucleotide composition would not. They went to show this via randomization, which you can try to replicate.\n",
    "\n",
    "Specifically,\n",
    "1. you can download miRNA precursor sequences from the standard repository of the field, miRBase, https://www.mirbase.org/download/.\n",
    "There are sequences from many organisms, you can recognize the human sequences by the prefix of their name - hsa.\n",
    "2. using either the webserver or the distributable version of RNAfold (http://rna.tbi.univie.ac.at/cgi-bin/RNAWebSuite/RNAfold.cgi), predict the secondary structure of human miRNA precursors and record their minimum free energy of folding.\n",
    "3. for each human miRNA precursor generate 1000 shuffled variant sequences, with the same nucleotide composition.\n",
    "4. predict the MFE for all of the shuffled variants and calculate the z-score of the original sequence with respect to its shuffled variants.\n",
    "\n",
    "You could try the same procedure for tRNAs (from https://gtrnadb.ucsc.edu/genomes/eukaryota/Hsapi38/hg38-mature-tRNAs.fa).\n",
    "\n",
    "What do you conclude?\n",
    "\n",
    "**Note**: if you cannot install the standalone version of RNAfold, limit the number of miRNAs/tRNAs that you submit to the server."
   ]
  },
  {
   "cell_type": "code",
   "id": "041ca4e5-0e23-42be-8db7-c64eb1478f52",
   "metadata": {
    "ExecuteTime": {
     "end_time": "2025-05-19T09:14:11.063744Z",
     "start_time": "2025-05-19T09:14:11.061677Z"
    }
   },
   "source": [
    "import random\n",
    "import numpy as np\n",
    "import matplotlib.pyplot as plt\n",
    "import time\n",
    "\n",
    "from Bio import SeqIO\n",
    "from RNA import RNA\n",
    "from multiprocessing import Pool, cpu_count"
   ],
   "outputs": [],
   "execution_count": 37
  },
  {
   "metadata": {
    "ExecuteTime": {
     "end_time": "2025-05-19T09:14:11.301111Z",
     "start_time": "2025-05-19T09:14:11.229719Z"
    }
   },
   "cell_type": "code",
   "source": [
    "sequences = []\n",
    "fasta_sequences = SeqIO.parse(open('hairpin.fa'),'fasta')\n",
    "for fasta in fasta_sequences:\n",
    "    name, sequence = fasta.id, str(fasta.seq)\n",
    "    sequences.append(sequence)\n",
    "\n",
    "sequences = sequences[:100]"
   ],
   "id": "84a27b9b732c20f5",
   "outputs": [],
   "execution_count": 38
  },
  {
   "metadata": {
    "ExecuteTime": {
     "end_time": "2025-05-19T09:14:11.462139Z",
     "start_time": "2025-05-19T09:14:11.460133Z"
    }
   },
   "cell_type": "code",
   "source": [
    "def fold_sequence(sequence: str) -> float:\n",
    "    fold, fold_mfe = RNA.fold(sequence)\n",
    "    return fold_mfe"
   ],
   "id": "1ae2488b690d1042",
   "outputs": [],
   "execution_count": 39
  },
  {
   "metadata": {
    "ExecuteTime": {
     "end_time": "2025-05-19T09:14:11.802751Z",
     "start_time": "2025-05-19T09:14:11.800482Z"
    }
   },
   "cell_type": "code",
   "source": [
    "def z_score(true_mfe: float, shuffle_mfe: list[float]) -> float:\n",
    "    z = (true_mfe - np.mean(shuffle_mfe)) / np.var(shuffle_mfe)\n",
    "    return z"
   ],
   "id": "d3d3959e7370af07",
   "outputs": [],
   "execution_count": 40
  },
  {
   "metadata": {
    "ExecuteTime": {
     "end_time": "2025-05-19T09:14:12.235731Z",
     "start_time": "2025-05-19T09:14:12.233497Z"
    }
   },
   "cell_type": "code",
   "source": [
    "def shuffle(sequence: str, amount: int = 100) -> list[str]:\n",
    "    shuffle_sequences = []\n",
    "    for i in range(amount):\n",
    "        l = list(sequence)\n",
    "        random.shuffle(l)\n",
    "        shuffle_sequences.append(''.join(l))\n",
    "\n",
    "    return shuffle_sequences"
   ],
   "id": "32e5600d46c3f20",
   "outputs": [],
   "execution_count": 41
  },
  {
   "metadata": {
    "ExecuteTime": {
     "end_time": "2025-05-19T09:14:12.799758Z",
     "start_time": "2025-05-19T09:14:12.797207Z"
    }
   },
   "cell_type": "code",
   "source": [
    "def shuffle_score(sequence: str) -> float:\n",
    "    shuffle_sequences = shuffle(sequence)\n",
    "    true_mfe = fold_sequence(sequence)\n",
    "    shuffle_mfe = []\n",
    "    for seq in shuffle_sequences:\n",
    "        shuffle_mfe.append(fold_sequence(seq))\n",
    "    z = z_score(true_mfe, shuffle_mfe)\n",
    "    return z"
   ],
   "id": "fa9c4d2bc9787037",
   "outputs": [],
   "execution_count": 42
  },
  {
   "metadata": {
    "ExecuteTime": {
     "end_time": "2025-05-19T09:14:20.281752Z",
     "start_time": "2025-05-19T09:14:13.479649Z"
    }
   },
   "cell_type": "code",
   "source": [
    "mfes = []\n",
    "with Pool(cpu_count()) as pool:\n",
    "    mfes = pool.map(fold_sequence, sequences)\n",
    "print(len(mfes))\n",
    "\n",
    "plt.hist(mfes)\n",
    "plt.show()\n",
    "\n",
    "with Pool(cpu_count()) as pool:\n",
    "    z = pool.map(shuffle_score, sequences)\n",
    "\n",
    "plt.hist(z)\n",
    "plt.show()"
   ],
   "id": "634159b2be306616",
   "outputs": [
    {
     "name": "stdout",
     "output_type": "stream",
     "text": [
      "100\n"
     ]
    },
    {
     "data": {
      "text/plain": [
       "<Figure size 640x480 with 1 Axes>"
      ],
      "image/png": "[encoded data removed]"
     },
     "metadata": {},
     "output_type": "display_data"
    },
    {
     "data": {
      "text/plain": [
       "<Figure size 640x480 with 1 Axes>"
      ],
      "image/png": "[encoded data removed]"
     },
     "metadata": {},
     "output_type": "display_data"
    }
   ],
   "execution_count": 43
  },
  {
   "metadata": {},
   "cell_type": "code",
   "outputs": [],
   "execution_count": null,
   "source": "",
   "id": "226e987714a0404f"
  }
 ],
 "metadata": {
  "kernelspec": {
   "display_name": "Python 3 (ipykernel)",
   "language": "python",
   "name": "python3"
  },
  "language_info": {
   "codemirror_mode": {
    "name": "ipython",
    "version": 3
   },
   "file_extension": ".py",
   "mimetype": "text/x-python",
   "name": "python",
   "nbconvert_exporter": "python",
   "pygments_lexer": "ipython3",
   "version": "3.12.7"
  }
 },
 "nbformat": 4,
 "nbformat_minor": 5
}
