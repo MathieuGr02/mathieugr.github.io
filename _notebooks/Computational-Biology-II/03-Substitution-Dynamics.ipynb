{
 "cells": [
  {
   "metadata": {},
   "cell_type": "markdown",
   "source": [
    "## Selection, mutation and drift\n",
    "\n",
    "The probability of changing by 1 individual during time $dt$ under selection, mutation and drift is given by\n",
    "\n",
    "$$\n",
    "\\begin{align*}\n",
    "    & T(f, \\delta f = - \\frac{1}{N}, dt) = N(\\sigma f (1 - f) + \\frac{\\mu}{3}f) dt \\\\\n",
    "    & T(f, \\delta f = + \\frac{1}{N}, dt) = N(f(1 - f) + \\mu (1 - f)) dt\n",
    "\\end{align*}\n",
    "$$\n",
    "\n",
    "Through this then\n",
    "\n",
    "$$\n",
    "\\begin{align*}\n",
    "    &  \\langle \\delta f \\rangle_f = (f(1 - f) + \\mu (1 - f) - \\sigma f (1 - f) - \\frac{\\mu}{3}f) dt = ((1 - \\sigma) f (1 - f) + \\mu (1 - \\frac{4f}{3}))dt \\\\\n",
    "    & \\langle \\delta f \\rangle_f = \\frac{1}{N} (f(1 - f) + \\mu (1 - f) + \\sigma f (1 - f) + \\frac{\\mu}{3}f) dt = ((1 + \\sigma) f (1 - f) + \\mu (1 - \\frac{2f}{3}))dt \\\\\n",
    "\\end{align*}\n",
    "$$"
   ],
   "id": "da5881198b68ce7f"
  },
  {
   "metadata": {},
   "cell_type": "markdown",
   "source": [
    "# Substitution models - Jukes-Cantor model\n",
    "\n",
    "Under neutral evolution, the change of a base, i.e. the substitution of a base with another one equals the mutation rate $\\mu$. We denote this as $P(\\alpha | \\beta, t)$, which is the probability that the letter $\\beta$ evolves to $\\alpha$ in time $t$.\n",
    "\n",
    "It follow then that\n",
    "\n",
    "$$\n",
    "\\begin{align*}\n",
    "    P(\\alpha | \\beta, t + dt) \n",
    "    &= \n",
    "    \\underbrace{(1 - \\mu dt) P(\\alpha| \\beta, t)}_{\\text{Prob. of being } \\alpha \\text{ at time } t \\text{ and not changing in time } dt} + \\underbrace{\\sum_{\\gamma \\neq \\alpha} \\frac{\\mu}{3} dt P(\\gamma | \\beta, t)}_{\\text{Prob. of being base } \\gamma \\text{ at time } t \\text{ and mutating into } \\alpha} \\\\\n",
    "    P(\\alpha | \\beta, t + dt) - P(\\alpha | \\beta, t)\n",
    "    &=\n",
    "    - \\mu dt P(\\alpha | \\beta, t) + \\sum_{\\gamma \\neq \\alpha} \\frac{\\mu}{3} dt P(\\gamma | \\beta, t) \\\\\n",
    "    \\Rightarrow\n",
    "    \\frac{\\partial P(\\alpha | \\beta, t)}{\\partial t} &= - \\mu P(\\alpha | \\beta, t) + \\sum_{\\gamma \\neq \\alpha} \\frac{\\mu}{3} P(\\gamma | \\beta, t) \\\\\n",
    "     &= - \\mu P(\\alpha | \\beta, t) + \\frac{\\mu}{3} (1 - P(\\alpha | \\beta, t)) \\\\\n",
    "     &= \\frac{\\mu}{3} - \\frac{4\\mu}{3}P(\\alpha | \\beta, t)\n",
    "\\end{align*}\n",
    "$$\n",
    "\n",
    "From the ODE $y' = a y + b \\Rightarrow y(t) = c e^{\\int a dt} - \\frac{b}{a}$ we get\n",
    "\n",
    "$$\n",
    "\\begin{align*}\n",
    "     \\frac{\\partial P(\\alpha | \\beta, t)}{\\partial t} \n",
    "     &= \n",
    "     \\frac{\\mu}{3} - \\frac{4\\mu}{3}P(\\alpha | \\beta, t)\n",
    "     \\Rightarrow\n",
    "     P(\\alpha | \\beta, t) = C \\exp\\left( -\\frac{4\\mu}{3}t \\right) + \\frac{1}{4}\n",
    "\\end{align*}\n",
    "$$\n",
    "\n",
    "Given the boundary condition $P(\\alpha | \\beta, 0) = \\delta_{\\alpha \\beta}$ we get\n",
    "\n",
    "$$\n",
    "     P(\\alpha | \\beta, t) = (\\delta_{\\alpha \\beta} - \\frac{1}{4}) \\exp\\left( -\\frac{4\\mu}{3}t \\right) + \\frac{1}{4}\n",
    "$$\n",
    "\n",
    "Then the general probability that $\\beta$ transforms into another base $\\bar{\\beta}$ is then with $\\delta_{\\bar{\\beta} \\beta} = $\n",
    "\n",
    "$$\n",
    "     P(\\bar{\\beta} | \\beta, t) = 3 * ((\\delta_{\\alpha \\beta} - \\frac{1}{4}) \\exp\\left( -\\frac{4\\mu}{3}t \\right) + \\frac{1}{4})\n",
    "     =\n",
    "     \\frac{3}{4} (1 - \\exp\\left( -\\frac{4\\mu}{3}t \\right))\n",
    "$$\n",
    "\n"
   ],
   "id": "398eeb159b13d704"
  },
  {
   "metadata": {},
   "cell_type": "code",
   "outputs": [],
   "execution_count": null,
   "source": "",
   "id": "8826bc763e4a7bc4"
  }
 ],
 "metadata": {
  "kernelspec": {
   "display_name": "Python 3",
   "language": "python",
   "name": "python3"
  },
  "language_info": {
   "codemirror_mode": {
    "name": "ipython",
    "version": 2
   },
   "file_extension": ".py",
   "mimetype": "text/x-python",
   "name": "python",
   "nbconvert_exporter": "python",
   "pygments_lexer": "ipython2",
   "version": "2.7.6"
  }
 },
 "nbformat": 4,
 "nbformat_minor": 5
}
