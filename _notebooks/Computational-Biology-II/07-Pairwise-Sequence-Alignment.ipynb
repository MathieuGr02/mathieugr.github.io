{
 "cells": [
  {
   "cell_type": "code",
   "execution_count": null,
   "id": "initial_id",
   "metadata": {
    "collapsed": true
   },
   "outputs": [],
   "source": ""
  },
  {
   "metadata": {},
   "cell_type": "markdown",
   "source": [
    "# Sequence Alignment\n",
    "\n",
    "In sequence alignment we look at the ways to arrange DNA, RNA or protein sequences to reflect how they are related to each other. From this we can infer evolutionary relationships between sequences, uncover sequences that are under selective constraint."
   ],
   "id": "e8588f6afbb8bd41"
  },
  {
   "metadata": {},
   "cell_type": "markdown",
   "source": [
    "# Substitution process\n",
    "\n",
    "Our substitution model gives the matrix of rates of substitution of base $\\beta$ by base $\\alpha$. For a finite amount of time $t$, the substitution probabilities are given by\n",
    "\n",
    "$$\n",
    "\\frac{\\partial P(\\alpha | \\beta, t)}{\\partial t} = \\sum_{\\gamma} R_{\\alpha \\gamma} P(\\gamma | \\beta, t)  \\Rightarrow P(\\alpha | \\beta, t) = (e^{Rt})_{\\alpha \\beta}\n",
    "$$\n",
    "\n",
    "In the limit of a long time we reach a limit distribution $\\lim_{t \\rightarrow \\infty} P(\\alpha | \\beta, t) = \\pi_{\\alpha}$\n",
    "\n",
    "Most substitution rate matrices are reversible, meaning that\n",
    "\n",
    "$$\n",
    "    P(\\alpha | \\beta, t) \\pi_{\\beta} = P(\\beta | \\alpha, t) \\pi_{\\alpha}\n",
    "$$\n",
    "\n",
    "For the reversible model, we get\n",
    "\n",
    "$$\n",
    "\\sum_{\\beta} P(\\alpha | \\beta, t) P(\\gamma | \\beta, t_2) \\pi_{\\beta} = P(\\gamma | \\alpha, t_1 + t_2) \\pi_{\\alpha}\n",
    "$$"
   ],
   "id": "7ab7a00513a12b47"
  },
  {
   "metadata": {},
   "cell_type": "markdown",
   "source": [
    "# Insertion and deletion\n",
    "\n",
    "Assume that in a very short time interval $dt$ three types of events can happen\n",
    "1. A base is mutated (With probability $mdt$ pre base)\n",
    "2. A new base is inserted (With probability $\\lambda dt$ after each base)\n",
    "3. A base is deleted (With probability $\\mu dt$ pre base)\n",
    "\n",
    "Given $p_{n}(t)$, being the probability that through the process of insertion and deletion over a time $t$ a single nodes survives and leaves $n$ descendants (including itself). It obeys the differential equation\n",
    "\n",
    "$$\n",
    "\\frac{ d p_{n}}{dt} = \\underbrace{\\lambda (n - 1) p_{n - 1}}_{\\text{Prob. to gain a descendant (going from n - 1 to n)}} + \\underbrace{\\mu n p_{n+1}}_{\\text{Prob. to lose descendant (going from n + 1 to n)}} - \\underbrace{(\\lambda + \\mu) n p_n}_{\\text{Prob. of going from n to n + 1 or n - 1}}\n",
    "$$\n",
    "\n",
    "Which can be solved to give\n",
    "\n",
    "$$\n",
    "p_n = \\alpha \\beta^{n-1}(1 - \\beta)\n",
    "$$\n",
    "\n",
    "with $\\alpha = e^{- \\mu t}$ and $\\beta = \\frac{\\lambda - \\lambda e^{(\\lambda - \\mu)t}}{\\mu - \\lambda e^{(\\lambda - \\mu)t}}$."
   ],
   "id": "c9514b7a167125c3"
  },
  {
   "metadata": {},
   "cell_type": "markdown",
   "source": "![](pnprob.png)",
   "id": "9fdd2db9fa661644"
  },
  {
   "metadata": {},
   "cell_type": "markdown",
   "source": [
    "Given $q_n(t)$, being the probability that through the process of insertion and deletion over a time $t$ a single node disappears and leaves $n$ extra nodes after it.\n",
    "\n",
    "For $n > 0$ the probability $q_n(t)$ obeys the differential equation\n",
    "\n",
    "$$\n",
    "\\frac{dq_n}{dt} = \\underbrace{\\lambda(n-1)q_{n-1}}_{\\text{Prob. of gaining a child (going from n - 1 to n)}} + \\underbrace{\\mu(n+1)q_{n+1}}_{\\text{Prob. of a child dying (going from n + 1 to n)}} - \\underbrace{(\\lambda + \\mu)nq_n}_{\\text{Prob. of going from n to n + 1 or n - 1}} + \\underbrace{\\mu q_{n+1}}_{\\text{Prob. of node dying}}\n",
    "$$\n",
    "\n",
    "For $n = 0$ we have $\\frac{dq_o}{dt} = \\mu(q_1 + p_1)$\n",
    "\n",
    "With $\\gamma = 1 - \\frac{\\mu (1 - e^{(\\lambda - \\mu)t})}{(1 - e^{- \\mu t})(\\mu - \\lambda e^{(\\lambda - \\mu)t})}$ the solution is given as\n",
    "\n",
    "$$\n",
    "q_n =\n",
    "\\begin{cases}\n",
    "(1 - \\alpha)(1 - \\gamma) \\quad \\text{for } n = 0 \\\\\n",
    "(1 - \\alpha)\\gamma\\beta^{n-1}(1-\\beta) \\quad \\text{for } n > 0\n",
    "\\end{cases}\n",
    "$$"
   ],
   "id": "1696a1d559ea194d"
  },
  {
   "metadata": {},
   "cell_type": "markdown",
   "source": "![](qnprob.png)",
   "id": "12a66045fea40370"
  },
  {
   "metadata": {},
   "cell_type": "markdown",
   "source": [
    "Given $r_n(t)$, the probability that through the process of insertion and deletion over a time $t$ the immortal link at the start of the sequence leaves $n$ nodes. For $n > 0$ the probability $r_n(t)$ obeys the differential equation\n",
    "\n",
    "$$\n",
    "\\frac{dr_n}{dt} = \\underbrace{\\lambda n r_{n-1}}_{\\text{Prob. of gaining a child node (going from n - 1 to n)}} + \\underbrace{\\mu (n+1)r_{n+1}}_{\\text{Prob. of losing a child node (going from n + 1 to n)}} - \\underbrace{\\lambda (n+1)r_n - \\mu n r_n}_{\\text{Prob. of losing a child}}\n",
    "$$\n",
    "\n",
    "And for $n = 0$ we have $\\frac{dr_0}{dt} = \\mu r_1 - \\lambda r_0$.\n",
    "\n",
    "The solution is given by $r_n = \\beta^n(1 - \\beta)$"
   ],
   "id": "2fb04b64efdbc1ef"
  },
  {
   "metadata": {},
   "cell_type": "markdown",
   "source": "![](rnprob.png)",
   "id": "b0a9cfd419ed0db8"
  },
  {
   "metadata": {},
   "cell_type": "markdown",
   "source": [
    "- $\\alpha$ can be seen as the probability that the ancestral residue survives\n",
    "- $\\beta$ can be seen as the probability of insertion given that the ancestral node survives\n",
    "- $\\gamma$  can be seen as the probability of insertions given that the ancestran node disappears"
   ],
   "id": "b1713a930806156"
  },
  {
   "metadata": {},
   "cell_type": "markdown",
   "source": "These formulas can be represented using the following HMM",
   "id": "5453ff1653431305"
  },
  {
   "metadata": {},
   "cell_type": "markdown",
   "source": "![](pair_alignment_hmm.png)",
   "id": "5b27c5382ae83222"
  },
  {
   "metadata": {},
   "cell_type": "markdown",
   "source": "The alignment model and the HMM differ in their result, this is due to the fact that in the HMM, we model explicitely the length of the alignment. The HMM can be further collapsed to give the collapsed pair-HMM",
   "id": "7623920183715253"
  },
  {
   "metadata": {},
   "cell_type": "markdown",
   "source": "![](collapsed_pair_hmm.png)",
   "id": "32d9f7b2063f04bb"
  },
  {
   "metadata": {},
   "cell_type": "markdown",
   "source": [
    "All transition probabilities depend only on the two parameters $\\lambda$ and $\\mu$, and the time $t$. The ratio $\\frac{\\lambda}{\\mu}$ controls the expected length of the sequence and the absolute value $\\mu t$ the amount of insertion / deletion.\n",
    "In a more general model we can introduce more parameters to independently control\n",
    "- The number of insertions / deletions\n",
    "- The average length of insertions/deletions\n",
    "- The total sequence length"
   ],
   "id": "8fb80240d8ad578"
  },
  {
   "metadata": {},
   "cell_type": "markdown",
   "source": [
    "# Viterbi Algorithm\n",
    "\n",
    "With this pair-HMM, we can use it to represent sequence alignments.\n",
    "\n",
    "Given\n",
    "- $\\delta$: Open insertion/deletion block\n",
    "- $\\epsilon$: Extend insertion / deletion block\n",
    "- $\\tau$ terminate alignment\n",
    "\n",
    "**Initialization**\n",
    "- $\\nu^M(0,0) = 1$ assuming starting from match state\n",
    "- $\\nu^*(i,0) = \\nu^*(0,j) = 0$ for all other $\\nu^*(i,j)$\n",
    "\n",
    "**Recursion**\n",
    "- $\\nu^M(i,j) = p_{x_i,y_j} max \\begin{cases} (1-2\\delta - \\tau) \\nu^M (i-1,j-1) \\\\ (1 - \\epsilon - \\tau) \\nu^X (i-1,j-1) \\\\ (1 - \\epsilon - \\tau)\\nu^Y (i-1,j-1) \\end{cases}$\n",
    "- $\\nu^X(i,j) = q_{x_i} max \\begin{cases} \\delta \\nu^M (i-1,j) \\\\ \\epsilon \\nu^X(i-1,j) \\end{cases}$\n",
    "- $\\nu^Y(i,j) = q_{y_j} max \\begin{cases} \\delta \\nu^M(i, j - 1) \\\\ \\epsilon \\nu^Y(i,j-1) \\end{cases}$\n",
    "\n",
    "**Termination**\n",
    "- $\\nu^E= \\tau max$"
   ],
   "id": "885140a4f8279546"
  },
  {
   "metadata": {},
   "cell_type": "markdown",
   "source": "The background model is the model where the sequences are emitted independently of each other.",
   "id": "e05302001c10feee"
  },
  {
   "metadata": {},
   "cell_type": "markdown",
   "source": "![](background_log_odds.png)",
   "id": "76720136fc0e1515"
  },
  {
   "metadata": {},
   "cell_type": "markdown",
   "source": [
    "The probability of a path is then given as\n",
    "\n",
    "$$\n",
    "P(x,y | R) = (1 - \\mu)^n \\mu \\prod_{i=1}^n q_{x_i} (1-\\mu)^m \\nu \\prod_{j=1}^m q_{y_j} = \\mu^2 (1-\\mu)^{m+n} \\prod_{i=1}^n q_{x_i} \\prod_{j=1}^m q_{y_j}\n",
    "$$"
   ],
   "id": "e68867dba6bb8f36"
  },
  {
   "metadata": {},
   "cell_type": "markdown",
   "source": [
    "The most probable path with the odds score is then again a recursion formula\n",
    "\n",
    "**Recursion**\n",
    "- $\\nu^X(i,j) = \\frac{q_{x_i}}{q_{x_i}} max \\begin{cases} \\frac{\\delta}{1 - \\mu} \\nu^M (i-1, j) \\\\ \\frac{\\epsilon}{1 - \\mu} \\nu^X (i-1, j) \\end{cases}$\n",
    "- $\\nu^M(i,j) = \\frac{p_{x_i, y_j}}{q_{x_i} q_{y_j}} max \\begin{cases} \\frac{1 - 2 \\delta - \\tau}{(1 - \\mu)^2} \\nu^M(i-1,j-1) \\\\ \\frac{1 -\\epsilon - \\tau}{(1-\\mu)^2} \\nu^X(i-1,j-1) \\\\ \\frac{1-\\epsilon - \\tau}{(1-\\mu)^2 \\nu^Y(i-1,j-1)} \\end{cases}$\n",
    "- $\\nu^Y(i,j) = \\frac{q_{y_i}}{q_{y_i}} max \\begin{cases} \\frac{\\delta}{1 - \\mu} \\nu^M (i-1, j) \\\\ \\frac{\\epsilon}{1 - \\mu} \\nu^Y (i-1, j) \\end{cases}$"
   ],
   "id": "ea9c9a5c79309739"
  },
  {
   "metadata": {},
   "cell_type": "markdown",
   "source": [
    "A more common formulation of this recursion is\n",
    "\n",
    "- $V^M(i,j) = s(x_i, y_j) + max \\begin{cases} V^M(i-1,j-1) \\\\ V^X(i-1,j-1) \\\\ V^Y(i-1,j-1) \\end{cases}$\n",
    "- $V^X(i,j) = max \\begin{cases} V^M(i-1,j) - d \\\\ V^X(i-1,j) - e \\end{cases}$\n",
    "- $V^Y(i,j) = max \\begin{cases} V^M(i,j-1) - d \\\\ V^Y(i,j-1) - e \\end{cases}$\n",
    "\n",
    "Where $s$ is the scores for characted to characted alignments, the gap opening penalty $d$ and the gap extension penalty $e$."
   ],
   "id": "ec58ba8093e7c024"
  },
  {
   "metadata": {},
   "cell_type": "markdown",
   "source": [
    "- Likelihood ratio for match after deletion / insertion $$ \\frac{p_{x_i, y_j} (1 - \\epsilon - \\tau)}{ q_{x_i} q_{y_j} (1 - \\mu)^2} $$\n",
    "- Likelihood ratio for match after match $$ \\frac{p_{x_i, y_i} (1 - 2 \\delta - \\tau)}{q_{x_i} q_{y_j} (1 - \\mu)^2} $$\n",
    "- Likelihood ratio for deletion / insertion after match $$ \\frac{q_{x_i / y_j} \\delta}{ q_{x_i / y_j} (1 - \\mu)} = \\frac{\\delta}{1 - \\mu} $$\n",
    "- Likelihood ratio for deletion / insertion after deletion / insertion $$ \\frac{q_{x_i / y_j} \\epsilon}{ q_{x_i / y_j} (1 - \\mu)} = \\frac{\\epsilon}{1 - \\mu} $$\n",
    "\n",
    "**Initialization**\n",
    "- $V^M(0,0) = - 2 \\log(\\mu)$ $V^*(i,0) = V^*(0,j) = - \\infty, \\forall i,j$\n",
    "\n",
    "**Recursion**\n",
    "- $V^M(i,j) = s(x_i, y_j) + max \\begin{cases} V^M(i-1,j-1) \\\\ V^X(i-1,j-1) \\\\ V^Y(i-1,j-1) \\end{cases}$\n",
    "- $V^X(i,j) = max \\begin{cases} V^M(i-1,j) - d \\\\ V^X(i-1,j) - e \\end{cases}$\n",
    "- $V^Y(i,j) = max \\begin{cases} V^M(i,j-1) - d \\\\ V^Y(i,j-1) - e \\end{cases}$\n",
    "\n",
    "**Termination**\n",
    "- $V = max(V^M(n,m), V^X(n,m) - c, V^Y(n,m) - c)$, with $c = \\log(\\frac{1 - \\epsilon - \\tau}{1 - 2 \\delta - \\tau})$"
   ],
   "id": "b225a462f847e086"
  },
  {
   "metadata": {},
   "cell_type": "markdown",
   "source": [
    "# Deriving score parameters\n",
    "\n",
    "The intuative approach would be to compute character-character alignment, gap initiation and gap extension parameters from confirmed alignments. The difficulties with this approach are\n",
    "\n",
    "1. Confirmed alignments are hard to come by $\\rightarrow$ Use alignments of very closely related sequences, for which we can assume that a very small number of evolutionary changes occurred\n",
    "2. The overall frequency of various events depends on the evolutionary distance $\\rightarrow$ Use alignments generated from sequences that are seperated by roughly the same evolutionary distance as the sequences that we will later want to align"
   ],
   "id": "46a1fe08a00b9dc9"
  },
  {
   "metadata": {},
   "cell_type": "markdown",
   "source": [
    "# Dayhoff matrices\n",
    "\n",
    "Proteins that in pairwise comparison did not differ by more than 15% were used to construct the maximum parsimony phylogenetic trees and to infer the mutations that occurred along the tree. The number of substitutions from one amino acid $a$ to another $b$, $A_{ab}$, and the number of occurences of each amino acid that could have undergone mutations (depending on the amino acid frequency and the number of mutations in each branch) were counted. Assuming reversibility, changed were counted symmetrically. The entries in the matrix were scaled so as to obtain 1 substitution in 100 amino acids. This 1 PAM matrix was defined as the substitution matrix that corresponds to an evolutionary time that yields an expected 1% of amino acids to undergo substitution.\n",
    "\n",
    "For the matrix to correspond to 1 substitution in 100 amino acids, we have to have $\\sum_{i=1}^20 p_i \\lambda m_i = \\frac{1}{100}$ where $p_i$ is the frequency of amino acid $i$ and $m_i$ is its mutability.\n",
    "\n",
    "From this we infer $\\lambda$, and then the mutability matrix in which $M_{ii} = 1 - \\lambda m_i$ is proportional to the probability of amino acid $i$ to stay unchanged, and $M_{ij} = \\frac{\\lambda m_i A_{ij}}{\\sum_j A_{ij}}$ is proportional to the probability of amino acid $i$ being substituted by $j$.\n",
    "\n",
    "From the PAM 1 matrix (= $B$) we can obtain the PAM matrix corresponding to an arbitrary number of evolutionary units by computing $B^n$. Finally, scores for the PAM$_n$ are derived as log likelihoods, $q_b$ being the limit frequency of amino acid $b$."
   ],
   "id": "74d594c2b77dae3f"
  },
  {
   "metadata": {},
   "cell_type": "markdown",
   "source": [
    "# BLOSUM matrices\n",
    "\n",
    "The BLOSUM matrices are derived from ungapped alignment regions of proteins that have a higher degree of divergence. Proteins are initially clustered whenever their percentage of identical residues exceeds some level L% and then only a representative is used per cluster. Frequencies $A_{ab}$ representing the number of times residue $a$^is paired with residue $b$ are calculated, taking into account cluster size. Then the probabilities of individual residues and pairs  of residues are calculates as:\n",
    "\n",
    "$$\n",
    "q_a = \\frac{\\sum_b A_{ab}}{\\sum_{c,d} A_{cd}} \\quad p_{ab} = \\frac{A_{ab}}{\\sum_{c,d} A_{cd}}\n",
    "$$\n",
    "\n",
    "and the score $s(a,b) = \\log\\left( \\frac{p_{ab}}{q_a q_b} \\right)$"
   ],
   "id": "9f2b0dfaa5fbc2f6"
  },
  {
   "metadata": {},
   "cell_type": "markdown",
   "source": [
    "We can calculate the best alignment through a dynamic programming table, where we choose the value at a given index in the table as\n",
    "\n",
    "$$\n",
    "V(i,j) = max \\begin{cases} V(i - 1, j) + d \\\\ V(i - 1, j - 1) + s(x_i, y_j) \\\\ V(i, j - 1) + d \\end{cases}\n",
    "$$\n",
    "\n",
    "A gap is introduced in the upper sequence through the path $\\leftarrow$, one in the lower with $\\uparrow$ and a match with $\\nwarrow$."
   ],
   "id": "c2fad2be31c2fa70"
  },
  {
   "metadata": {},
   "cell_type": "markdown",
   "source": "![](blosum_match.png)",
   "id": "8877319c8c1d365"
  },
  {
   "metadata": {},
   "cell_type": "markdown",
   "source": [
    "# Summing over paths\n",
    "\n",
    "**Initialization**\n",
    "- $f^M(0,0) = 1, f^X(0,0) = 0, f^Y(0,0) = 0$\n",
    "- $f^*(i,0) = f^*(0,j) = 0$ for all other $\\nu^*(i,j)$\n",
    "\n",
    "**Recursion**: $i = 0, ..., n$ and $j=0,...,m$ except $(0,0)$\n",
    "- $f^M(i,j) = p_{x_i, y_j} [(1 - 2\\delta - \\tau)f^M(i-1,j-1) + (1 - \\epsilon - \\tau)(f^X(i-1,j-1) + f^Y(i-1,j-1))]$\n",
    "- $f^X(i,j) = q_{x_i} = [\\delta f^M(i-1,j) + \\epsilon f^X(i-1,j)]$\n",
    "- $f^Y(i,j) = q_{y_j} = [\\delta f^M(i,j-1) + \\epsilon f^Y(i,j-1)]$\n",
    "\n",
    "**Termination**\n",
    "- $f^E = \\tau [f^M(n,m) + f^X(n,m) + f^Y(n,m)]$\n",
    "\n",
    "\n",
    "## Application\n",
    "\n",
    "With this we could sample alignments. We Traceback through the matrix $f^k(i,j)$ but instead of following the highest scoring move, choose probabilistically. E.g. for a match state we have\n",
    "\n",
    "$$\n",
    "f^M(i,j) = p_{x_i, y_j} [(1 - 2\\delta - \\tau)f^M(i-1,j-1) + (1 - \\epsilon - \\tau)(f^X(i-1,j-1) + f^Y(i-1,j-1))]\n",
    "$$\n",
    "\n",
    "Then we have\n",
    "\n",
    "- $M(i-1,j-1)$ with probability $\\frac{p_{x_i, y_j} (1 - 2 \\delta - \\tau)f^M(i-1,j-1)}{f^M(i,j)}$\n",
    "- $X(i-1,j-1)$ with probability $\\frac{p_{x_i, y_j} (1 - \\epsilon - \\tau)f^X(i-1,j-1)}{f^M(i,j)}$\n",
    "- $Y(i-1,j-1)$ with probability $\\frac{p_{x_i, y_j} (1 - \\epsilon - \\tau)f^Y(i-1,j-1)}{f^M(i,j)}$\n",
    "\n",
    "\n",
    "Defining the posterior distribution over alignments given sequences $x$ and $y$\n",
    "\n",
    "$$\n",
    "P(\\pi | x,y) = \\frac{P(x,y,\\pi)}{P(x,y)}\n",
    "$$\n",
    "\n",
    "We can compute the posterior probability of specific characters being aligned with each other by summing over alignments that share this character-to-character alignment vs. all alignments, without any contstraint."
   ],
   "id": "5367fdf4c4fe5490"
  },
  {
   "metadata": {},
   "cell_type": "markdown",
   "source": [
    "#  Local alignment (Smith-Waterman alignment)\n",
    "\n",
    "**Initialization**\n",
    "$$\n",
    "V(i, 0) = V(0,j) = 0 \\forall i,j\n",
    "$$\n",
    "\n",
    "**Iterations**\n",
    "$$\n",
    "V(i,j) = \\max \\begin{cases} 0 \\\\ V(i-1,j) + \\sigma(x_i, -) \\\\ V(i,j-1) + \\sigma(-,y_j) \\\\ V(i-1,j-1) + \\sigma(x_i, y_j) \\end{cases}\n",
    "$$\n",
    "\n",
    "Starting then from the maximum value in the table and tracing back until $V(i,j) < 0$ gives us the best local alignment."
   ],
   "id": "5d14b1760b6a44e5"
  },
  {
   "metadata": {},
   "cell_type": "markdown",
   "source": "![](local_alignment.png)",
   "id": "945658f591b2201c"
  }
 ],
 "metadata": {
  "kernelspec": {
   "display_name": "Python 3",
   "language": "python",
   "name": "python3"
  },
  "language_info": {
   "codemirror_mode": {
    "name": "ipython",
    "version": 2
   },
   "file_extension": ".py",
   "mimetype": "text/x-python",
   "name": "python",
   "nbconvert_exporter": "python",
   "pygments_lexer": "ipython2",
   "version": "2.7.6"
  }
 },
 "nbformat": 4,
 "nbformat_minor": 5
}
