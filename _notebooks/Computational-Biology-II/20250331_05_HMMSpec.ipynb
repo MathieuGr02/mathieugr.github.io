{
 "cells": [
  {
   "cell_type": "markdown",
   "metadata": {},
   "source": [
    "## Discovering transcription factor binding motifs and binding sites in promoter sequences\n",
    "\n",
    "As we discussed in the introduction session, transcription of DNA into RNA is carried out by the RNA polymerase, which is recruited to the DNA by transcription factors (TFs), proteins that bind specific sequence elements in the DNA. We typically describe the sequence specificity of transcription factors by position-specific weight matrices (PWMs), giving the probabilities of finding each of the four nucleotides at each position of binding sites. Let's see how we can use the HMM framework to describe promoter sequences, find binding sites and infer the PWM of a transcription factor from sequences that contain such binding sites.\n",
    "\n",
    "### Block 1. Generating synthetic sequence data\n",
    "\n",
    "Testing with ground truth data is crucial when we develop code. Ground truth biological data is often difficult to obtain, as even the measurement processes are complex, with hard to identify and characterize biases. That is why synthetic data is important: it allows us to determine whether our code works correctly within the assumptions of the model underlying the code. Of course, this does not mean that real data obeys these assumptions, which is why showing that the code works on synthetic data doesn't mean that we have a good tool to analyze real data. Nevertheless, the correctness of the implementation is the first step that we always need to check. So let's generate ourselves a ground truth dataset of \"promoter sequences\" containing binding sites for a transcription factor.\n",
    "\n",
    "1. Generate a PWM of your liking\n",
    "- typical length for eukaryotic TF binding sites is 6-8 nucleotides\n",
    "- play around with the **bias** of your PWM, i.e. the sequence that has the highest probability under the PWM model\n",
    "- make sure to write functions that:\n",
    "    - calculate the information content of the PWM (we'll look into this in a future session)\n",
    "    - *sample* a binding site from this PWM in proportion to its probability\n",
    "2. Generate random promoter sequences your chosen A,C,G,T composition.\n",
    "3. Introduce binding sites sampled from the PWM in the promoter sequences. Keep track of this information to be able to check it later.\n",
    "4. Check if motif finding software (e.g. MEME, we'll talk about it later as well) recovers the motif you places in your sequence.\n",
    "\n",
    "### Block 2. Predicting binding sites for TFs with known sequence specificity\n",
    "\n",
    "1. Implement the forward/backward algorithms. Can you run them on your sequences?\n",
    "2. Adapt your code to calculate instead ratios of sequence likelihoods (as described in https://cdn.aaai.org/ISMB/2000/ISMB00-007.pdf).\n",
    "2. Use the functions you implemented to evaluate the posterior probability of binding sites along the promoter sequences you created.\n",
    "3. Compare your results with your ground truth data.\n",
    "\n",
    "### Block 3. Training the HMM\n",
    "\n",
    "Now let's see if we can use the tools we got to actually infer the specificity of the TF from the synthetic data that you generated.\n",
    "\n",
    "1. Implement the Baum-Welch algorithm to infer the PWM and the transition probability between random sequence and binding sites in promoter sequences (assuming an HMM with 4 states: Start, Random, BindingSite, End).\n",
    "2. Does it inferred PWM match the one you picked the beginning?\n"
   ]
  },
  {
   "metadata": {
    "ExecuteTime": {
     "end_time": "2025-04-07T14:36:58.817009Z",
     "start_time": "2025-04-07T14:36:56.441858Z"
    }
   },
   "cell_type": "code",
   "source": [
    "from itertools import product\n",
    "from typing import Any, Union\n",
    "\n",
    "import numpy as np\n",
    "from enum import StrEnum, IntEnum\n",
    "import matplotlib.pyplot as plt\n",
    "import seaborn as sns\n",
    "from soupsieve.pretty import RE_PARAM\n",
    "\n",
    "sns.set_theme()"
   ],
   "outputs": [],
   "execution_count": 3
  },
  {
   "metadata": {
    "ExecuteTime": {
     "end_time": "2025-04-07T14:36:58.827127Z",
     "start_time": "2025-04-07T14:36:58.823655Z"
    }
   },
   "cell_type": "code",
   "source": [
    "class Base(StrEnum):\n",
    "    A = \"A\",\n",
    "    T = \"T\",\n",
    "    C = \"C\",\n",
    "    G = \"G\""
   ],
   "outputs": [],
   "execution_count": 4
  },
  {
   "metadata": {
    "ExecuteTime": {
     "end_time": "2025-04-07T14:36:58.847405Z",
     "start_time": "2025-04-07T14:36:58.842300Z"
    }
   },
   "cell_type": "code",
   "source": [
    "params = {\n",
    "    \"bases\": [Base.A, Base.T, Base.C, Base.G],\n",
    "    \"bias\": [0.1, 0.1, 0.4, 0.4],\n",
    "    \"tf_length\": 8,\n",
    "    \"promoter_length\": 200\n",
    "}"
   ],
   "outputs": [],
   "execution_count": 5
  },
  {
   "metadata": {
    "ExecuteTime": {
     "end_time": "2025-04-07T14:36:58.862063Z",
     "start_time": "2025-04-07T14:36:58.855502Z"
    }
   },
   "cell_type": "code",
   "source": [
    "def ppm_score(ppm: np.array) -> float:\n",
    "    n, m = ppm.shape\n",
    "    ic = 0\n",
    "    for i in range(n):\n",
    "        for j in range(m):\n",
    "            ic -= ppm[i, j] * np.log2(ppm[i, j])\n",
    "\n",
    "    return ic\n",
    "\n",
    "def get_ppm_pwm() -> (np.array, np.array):\n",
    "    \"\"\"\n",
    "    Get position probability and weight matrix\n",
    "    :return: ppm and pwm\n",
    "    \"\"\"\n",
    "    ppm = np.array([\n",
    "        [0.1, 0.05, 0.125, 0.15, 0.05, 0.1, 0.15, 0.2],\n",
    "        [0.1, 0.05, 0.125, 0.15, 0.05, 0.1, 0.15, 0.2],\n",
    "        [0.05, 0.8, 0.6, 0.05, 0.2, 0.5, 0.65, 0.5],\n",
    "        [0.75, 0.1, 0.15, 0.65, 0.7, 0.3, 0.05, 0.1]\n",
    "    ])\n",
    "\n",
    "    assert (np.sum(ppm, axis=0) == 1).all()\n",
    "    # M = log2(M / b) where b = 0.25 and M is the PPM\n",
    "    pwm = np.log2(ppm * 4)\n",
    "\n",
    "    return ppm, pwm\n",
    "\n",
    "def get_tf_sequence(ppm: np.array) -> np.array:\n",
    "    \"\"\"\n",
    "    Generate TF sequence based on ppm\n",
    "    :param ppm: position-specific probability matrix\n",
    "    :return: TF sequence\n",
    "    \"\"\"\n",
    "    n, m = ppm.shape\n",
    "    tf = np.zeros(m)\n",
    "    for i in range(m):\n",
    "        tf[i] = np.random.choice(params[\"bases\"], ppm[:, i])\n",
    "\n",
    "    return tf\n",
    "\n",
    "def int_to_base(sequence: Union[np.array, int]) -> list[str] | str:\n",
    "    if type(sequence) == int:\n",
    "        match sequence:\n",
    "            case Base.A: return \"A\"\n",
    "            case Base.T: return \"T\"\n",
    "            case Base.C: return \"C\"\n",
    "            case Base.G: return \"G\"\n",
    "    bases = \"\"\n",
    "    for i in range(len(sequence)):\n",
    "        match sequence[i]:\n",
    "            case Base.A: bases += \"A\"\n",
    "            case Base.T: bases += \"T\"\n",
    "            case Base.C: bases += \"C\"\n",
    "            case Base.G: bases += \"G\"\n",
    "    return bases\n"
   ],
   "outputs": [],
   "execution_count": 6
  },
  {
   "metadata": {
    "ExecuteTime": {
     "end_time": "2025-04-07T14:36:58.875268Z",
     "start_time": "2025-04-07T14:36:58.870545Z"
    }
   },
   "cell_type": "code",
   "source": [
    "# Randomly generate promoter sequence\n",
    "promoter_sequence = \"\".join(np.random.choice(params[\"bases\"], params[\"promoter_length\"]))\n",
    "\n",
    "ppm, pwm = get_ppm_pwm()\n",
    "\n",
    "# Insert tf into promoter sequence\n",
    "positions = []\n",
    "amount = 3\n",
    "for i in range(amount):\n",
    "    start = np.random.choice(range(params[\"promoter_length\"]))\n",
    "    positions.append([start, start + params[\"tf_length\"]])\n",
    "\n",
    "print(f\"PPM : {ppm}\\n\"\n",
    "      f\">Promoter\\n{promoter_sequence}\\n\"\n",
    "      f\"TF positions : {positions}\")"
   ],
   "outputs": [
    {
     "name": "stdout",
     "output_type": "stream",
     "text": [
      "PPM : [[0.1   0.05  0.125 0.15  0.05  0.1   0.15  0.2  ]\n",
      " [0.1   0.05  0.125 0.15  0.05  0.1   0.15  0.2  ]\n",
      " [0.05  0.8   0.6   0.05  0.2   0.5   0.65  0.5  ]\n",
      " [0.75  0.1   0.15  0.65  0.7   0.3   0.05  0.1  ]]\n",
      ">Promoter\n",
      "GACTAGATGCCGTTTTTTGTGGGACTTGCCAGCTGAGCAGTTACCTTGCGAGTATTGGCTCCCCACTTGTTGCCAGTTACTAAATCCGACCTTGTGTCTCAAGGGTACGTTCCGGATATAGGTGCTAATTGTAGAGAACAGTTTGTAGTCCAGCAGAAACTAGCTCAACAAGACGAGCGCGCACGTTTCTGAGCCACCCC\n",
      "TF positions : [[np.int64(134), np.int64(142)], [np.int64(18), np.int64(26)], [np.int64(111), np.int64(119)]]\n"
     ]
    }
   ],
   "execution_count": 7
  },
  {
   "metadata": {
    "ExecuteTime": {
     "end_time": "2025-04-07T14:36:59.150455Z",
     "start_time": "2025-04-07T14:36:58.919503Z"
    }
   },
   "cell_type": "code",
   "source": [
    "class State(IntEnum):\n",
    "    Start = 0\n",
    "    TranscriptionFactor = 1,\n",
    "    NonTranscriptionFactor = 2,\n",
    "    End = 3\n",
    "\n",
    "def calculate_emission_prob(sequence: list[Base]):\n",
    "    \"\"\"\n",
    "    Calculate alpha -> beta base probability\n",
    "    :param sequence: Genome\n",
    "    :return: Probabilities\n",
    "    \"\"\"\n",
    "    count_matrix = np.zeros((4, 4))\n",
    "    count_bases = np.zeros(4)\n",
    "    for i in range(len(sequence)):\n",
    "        count_matrix[sequence[i], sequence[i+1]] += 1\n",
    "        count_bases[sequence[i]] += 1\n",
    "\n",
    "    for i in range(4):\n",
    "        count_matrix[i, :] /= count_bases[i]\n",
    "\n",
    "    return count_matrix\n",
    "\n",
    "\n",
    "def transition_prob(cur: State, dest: State) -> float:\n",
    "    return 0.5\n",
    "\n",
    "def emission_prob(state: State, base: Base) -> float:\n",
    "    return 0.25\n",
    "\n",
    "def forwards(sequence: list[Base]) -> np.array:\n",
    "    length = len(sequence)\n",
    "    paths = np.zeros((4, length))\n",
    "\n",
    "    # Initialize starting state\n",
    "    paths[0, State.Start] = 1\n",
    "\n",
    "    # Iterative calculation instead of recursion\n",
    "    # i is the current base position\n",
    "    for i in range(length):\n",
    "        # $f_k(i) = e_k(x_i) \\sum_l (f_l(i-1) a_{lk})$\n",
    "        paths[State.TranscriptionFactor, i] = (\n",
    "                emission_prob(State.TranscriptionFactor, sequence[i])\n",
    "                *\n",
    "                sum([prob * transition_prob(j, State.TranscriptionFactor) for (j, prob) in enumerate(paths[:, i - 1])])\n",
    "        )\n",
    "        paths[State.NonTranscriptionFactor, i] = (\n",
    "                emission_prob(State.NonTranscriptionFactor, sequence[i])\n",
    "                *\n",
    "                sum([prob * transition_prob(j, State.NonTranscriptionFactor) for (j, prob) in enumerate(paths[:, i - 1])])\n",
    "        )\n",
    "\n",
    "    return paths\n",
    "\n",
    "\n",
    "def backwards(sequence: list[Base]) -> np.array:\n",
    "    length = len(sequence)\n",
    "    paths = np.zeros((4, length))\n",
    "\n",
    "    # Initialize ending state\n",
    "    paths[-1, State.End] = 1\n",
    "\n",
    "    # Iterative calculation instead of recursion\n",
    "    # i is the current base position\n",
    "    for i in range(length - 2, 0, -1):\n",
    "        # $b_k(i) = \\sum_{l} b_l(i+1)e_l(x_{i+1})a_{kl}$\n",
    "        paths[State.TranscriptionFactor, i] = sum(\n",
    "            [prob * emission_prob(j, sequence[i + 1]) * transition_prob(j, State.TranscriptionFactor) for (j, prob) in enumerate(paths[:, i + 1])]\n",
    "        )\n",
    "\n",
    "        paths[State.NonTranscriptionFactor, i] = sum(\n",
    "            [prob * emission_prob(j, sequence[i + 1]) * transition_prob(j, State.NonTranscriptionFactor) for (j, prob) in enumerate(paths[:, i + 1])]\n",
    "        )\n",
    "\n",
    "    return paths\n",
    "\n",
    "forward = forwards(promoter_sequence)\n",
    "backward = backwards(promoter_sequence)\n",
    "\n",
    "fig1, ax1 = plt.subplots(1, 1, figsize=(10, 5))\n",
    "ax1.imshow(forward)\n",
    "ax1.grid(False)\n",
    "fig1.gca().set_aspect(10)\n",
    "plt.show()\n",
    "\n",
    "fig2, ax2 = plt.subplots(1, 1, figsize=(10, 5))\n",
    "ax2.imshow(backward)\n",
    "ax2.grid(False)\n",
    "fig2.gca().set_aspect(10)\n",
    "plt.show()\n"
   ],
   "outputs": [
    {
     "data": {
      "text/plain": [
       "<Figure size 1000x500 with 1 Axes>"
      ],
      "image/png": "[encoded data removed]"
     },
     "metadata": {},
     "output_type": "display_data"
    },
    {
     "data": {
      "text/plain": [
       "<Figure size 1000x500 with 1 Axes>"
      ],
      "image/png": "[encoded data removed]"
     },
     "metadata": {},
     "output_type": "display_data"
    }
   ],
   "execution_count": 8
  },
  {
   "metadata": {
    "ExecuteTime": {
     "end_time": "2025-04-07T14:58:00.045453Z",
     "start_time": "2025-04-07T14:58:00.032607Z"
    }
   },
   "cell_type": "code",
   "source": [
    "class SegmentationModel:\n",
    "    R: list[float]\n",
    "    R_prime = list[float]\n",
    "    G: list[float]\n",
    "    sequence: str\n",
    "    probabilities = dict[list[Base], float]\n",
    "\n",
    "    def __init__(self, sequence: str):\n",
    "        self.sequence = sequence\n",
    "        self.R = []\n",
    "        self.R_prime = []\n",
    "        self.G = []\n",
    "        self.probabilities = {}\n",
    "\n",
    "        # Get initial base probability\n",
    "        length = len(sequence)\n",
    "        for base in sequence:\n",
    "            if base in self.probabilities.keys():\n",
    "                self.probabilities[base] += 1\n",
    "            else:\n",
    "                self.probabilities[base] = 1\n",
    "        for key in self.probabilities.keys():\n",
    "            self.probabilities[key] /= length\n",
    "\n",
    "    def delta(self, one: str, other: str) -> int:\n",
    "        return int(one == other)\n",
    "\n",
    "    def calc_forward(self, i: int) -> float:\n",
    "        keys = self.probabilities.keys()\n",
    "        p_alpha = 0\n",
    "        if self.sequence[i] in keys:\n",
    "            p_alpha = self.probabilities[self.sequence[i]]\n",
    "\n",
    "        p_alpha_sum = 0\n",
    "        l_max = max(map(lambda x: len(x), keys))\n",
    "        for l in range(2, l_max + 1):\n",
    "            sub_seq = self.sequence[i - l : i]\n",
    "            if sub_seq in keys:\n",
    "                r_prod = 1\n",
    "                for k in range(i - l + 1, i):\n",
    "                    r_prod *= self.R[k]\n",
    "                p_alpha_sum += self.probabilities[sub_seq] * (1 / r_prod)\n",
    "        return p_alpha + p_alpha_sum\n",
    "\n",
    "    def calc_backward(self, i: int) -> float:\n",
    "        keys = self.probabilities.keys()\n",
    "        p_alpha = 0\n",
    "        if self.sequence[i] in keys:\n",
    "            p_alpha = self.probabilities[self.sequence[i]]\n",
    "\n",
    "        p_alpha_sum = 0\n",
    "        l_max = max(map(lambda x: len(x), keys))\n",
    "\n",
    "        for l in range(2, l_max + 1):\n",
    "            sub_seq = self.sequence[i + l - 1 : l]\n",
    "            if sub_seq in keys:\n",
    "                r_prod = 1\n",
    "                for k in range(i + 1, i + l):\n",
    "                    r_prod *= self.R_prime[k]\n",
    "                p_alpha_sum += self.probabilities[sub_seq] * (1 / r_prod)\n",
    "        return p_alpha + p_alpha_sum\n",
    "\n",
    "    def calc_G(self, i: int, l: int) -> float:\n",
    "        ratio = 1\n",
    "        for k in range(1, i - l + 1):\n",
    "            ratio *= self.R[k] / self.R_prime[k]\n",
    "\n",
    "        denom = 1\n",
    "        for k in range(i - l + 1, i + 1):\n",
    "            denom *= 1 / self.R_prime[k]\n",
    "\n",
    "        return ratio * denom\n",
    "\n",
    "    def calc_z_score(self) -> list[float]:\n",
    "        for i in range(len(self.sequence)):\n",
    "            self.R.append(self.calc_forward(i))\n",
    "            self.R_prime.append(self.calc_backward(i))\n",
    "\n",
    "        keys = self.probabilities.keys()\n",
    "        Z = []\n",
    "        for alpha in keys:\n",
    "            for beta in keys:\n",
    "                # N_ab calculation\n",
    "                G_sum = 0\n",
    "                for i in range(len(self.sequence)):\n",
    "                    a_length = len(alpha)\n",
    "                    b_length = len(beta)\n",
    "                    G_sum += (\n",
    "                            self.calc_G(i, a_length + b_length)\n",
    "                            * self.delta(alpha, self.sequence[i - b_length : i - b_length + a_length])\n",
    "                            * self.delta(beta, self.sequence[i: i + b_length])\n",
    "                              )\n",
    "                # <l> calculation\n",
    "                l = 0\n",
    "                for key in keys:\n",
    "                    l += len(key) * self.probabilities[key]\n",
    "\n",
    "                N_av = len(self.sequence) / l\n",
    "\n",
    "                N_ab = self.probabilities[alpha] * self.probabilities[beta] * G_sum\n",
    "\n",
    "                Z_ab = N_ab - N_av * self.probabilities[alpha] * self.probabilities[beta] / np.sqrt(N_av * self.probabilities[alpha] * self.probabilities[beta])\n",
    "                Z.append((alpha, beta, Z_ab))\n",
    "        return Z"
   ],
   "outputs": [],
   "execution_count": 73
  },
  {
   "metadata": {
    "ExecuteTime": {
     "end_time": "2025-04-07T14:58:00.384409Z",
     "start_time": "2025-04-07T14:58:00.377587Z"
    }
   },
   "cell_type": "code",
   "source": [
    "\n",
    "\n",
    "def alg(sequence: str):\n",
    "    SM = SegmentationModel(sequence)\n",
    "    for i in range(len(sequence)):\n",
    "        print(f\"{SM.R == SM.R_prime}\")\n",
    "        Z = SM.calc_z_score()\n",
    "        print(sorted(Z, key=lambda x: x[2], reverse=True))\n",
    "        break\n",
    "        # R and R' should be equal (forwards and backwards) =>  CHECK\n",
    "\n",
    "print(promoter_sequence)"
   ],
   "outputs": [
    {
     "name": "stdout",
     "output_type": "stream",
     "text": [
      "GACTAGATGCCGTTTTTTGTGGGACTTGCCAGCTGAGCAGTTACCTTGCGAGTATTGGCTCCCCACTTGTTGCCAGTTACTAAATCCGACCTTGTGTCTCAAGGGTACGTTCCGGATATAGGTGCTAATTGTAGAGAACAGTTTGTAGTCCAGCAGAAACTAGCTCAACAAGACGAGCGCGCACGTTTCTGAGCCACCCC\n"
     ]
    }
   ],
   "execution_count": 74
  },
  {
   "metadata": {
    "ExecuteTime": {
     "end_time": "2025-04-07T14:58:01.061394Z",
     "start_time": "2025-04-07T14:58:01.025772Z"
    }
   },
   "cell_type": "code",
   "source": "alg(promoter_sequence)",
   "outputs": [
    {
     "name": "stdout",
     "output_type": "stream",
     "text": [
      "True\n",
      "[('T', 'T', np.float64(15.181623381592637)), ('A', 'G', np.float64(14.608835008437365)), ('G', 'T', np.float64(12.32576538582523)), ('C', 'C', np.float64(11.464466094067262)), ('T', 'G', np.float64(11.325765385825232)), ('G', 'C', np.float64(10.464466094067262)), ('G', 'A', np.float64(9.608835008437369)), ('A', 'C', np.float64(9.608835008437369)), ('C', 'T', np.float64(9.325765385825232)), ('C', 'A', np.float64(8.608835008437369)), ('T', 'A', np.float64(8.475797962658781)), ('A', 'A', np.float64(5.747308806541881)), ('C', 'G', np.float64(5.464466094067262)), ('T', 'C', np.float64(4.325765385825232)), ('G', 'G', np.float64(3.4644660940672627)), ('A', 'T', np.float64(2.4757979626587803))]\n"
     ]
    }
   ],
   "execution_count": 75
  },
  {
   "metadata": {
    "ExecuteTime": {
     "end_time": "2025-04-07T14:36:59.384150Z",
     "start_time": "2025-04-07T14:36:59.381538Z"
    }
   },
   "cell_type": "code",
   "source": "",
   "outputs": [],
   "execution_count": null
  },
  {
   "metadata": {
    "ExecuteTime": {
     "end_time": "2025-04-07T14:36:59.431787Z",
     "start_time": "2025-04-07T14:36:59.428555Z"
    }
   },
   "cell_type": "code",
   "source": "",
   "outputs": [],
   "execution_count": null
  },
  {
   "metadata": {
    "ExecuteTime": {
     "end_time": "2025-04-07T14:36:59.483588Z",
     "start_time": "2025-04-07T14:36:59.481299Z"
    }
   },
   "cell_type": "code",
   "source": "",
   "outputs": [],
   "execution_count": null
  }
 ],
 "metadata": {
  "kernelspec": {
   "display_name": "Python 3",
   "language": "python",
   "name": "python3"
  },
  "language_info": {
   "codemirror_mode": {
    "name": "ipython",
    "version": 3
   },
   "file_extension": ".py",
   "mimetype": "text/x-python",
   "name": "python",
   "nbconvert_exporter": "python",
   "pygments_lexer": "ipython3",
   "version": "3.8.5"
  }
 },
 "nbformat": 4,
 "nbformat_minor": 4
}
