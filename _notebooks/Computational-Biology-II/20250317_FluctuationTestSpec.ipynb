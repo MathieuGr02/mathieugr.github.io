{
 "cells": [
  {
   "cell_type": "markdown",
   "metadata": {},
   "source": [
    "## Fluctuation test\n",
    "\n",
    "A question that has emerged a number of times in evolutionary analysis is whether mutation rates vary, and specifically whether they vary in response to a selection pressure. In particular, do mutations emerge as a result of a stressor or do they occur during the growth of the culture? Even more controversially: does the likelihood of an advantageous mutation increase when bacteria are subjected to some stressor (e.g. antibiotic, bacteriophage, etc.)? For a bit of a history of this problem you can consult https://en.wikipedia.org/wiki/Luria%E2%80%93Delbr%C3%BCck_experiment\n",
    "\n",
    "In the 1940's Salvatore Luria (experimental biologist) and Max Delbrück (physicist) designed an experiment to distinguish whether mutations arose pre or post-stressor. The experiment was the following: bacterial cultures were grown independently from small inocula. After some period of growth, equal volumes of these cultures were plated at low density onto agar containing the T1 phage, so that only resistant bacteria will end up forming small, visible colonies that could be counted. \n",
    "\n",
    "What is the expected distribution of the number of resistant bacteria on a plate if the virus **induced** resistance?\n",
    "\n",
    "What is the expected distribution if the virus **selected** the resistant bacteria from the population that was plated?\n",
    "\n",
    "Implement a simulation of this experiment: \n",
    "- grow populations of bacteria from a single cell to a specified final number\n",
    "- consider implementing an event-driven simulation, where cell divisions occur and the time to division can be chosen from a variety of distributions when a cell is born\n",
    "- implement mutations (mutation rate a parameter) at cell division\n",
    "- implement the phenotype check (resistant/sensitive)\n",
    "- derive the distribution of the number of mutants per culture\n",
    "- explore the form of the distribution when mutations are induced or selected\n",
    "- explore the form of the distribution for different lifespan distributions (what distribution of lifespans did Luria and Delbrück assume in their model?)"
   ]
  },
  {
   "metadata": {
    "ExecuteTime": {
     "end_time": "2025-03-24T12:55:00.760005Z",
     "start_time": "2025-03-24T12:55:00.756331Z"
    }
   },
   "cell_type": "code",
   "source": [
    "import warnings\n",
    "warnings.simplefilter(action='ignore', category=FutureWarning)\n",
    "\n",
    "from abc import abstractmethod\n",
    "\n",
    "from attr import dataclass\n",
    "from enum import Enum\n",
    "import numpy as np\n",
    "import scipy as sp\n",
    "import seaborn as sns\n",
    "import matplotlib.pyplot as plt\n",
    "\n",
    "from heapq import heapify, heappush, heappop"
   ],
   "outputs": [],
   "execution_count": 32
  },
  {
   "metadata": {
    "ExecuteTime": {
     "end_time": "2025-03-24T12:55:00.771295Z",
     "start_time": "2025-03-24T12:55:00.767401Z"
    }
   },
   "cell_type": "code",
   "source": [
    "class Phenotype(Enum):\n",
    "    Resistant = 0,\n",
    "    Sensitive = 1,\n",
    "\n",
    "class Cell:\n",
    "    Phenotype: Phenotype = Phenotype.Sensitive\n",
    "\n",
    "    def __init__(self, phenotype: Phenotype):\n",
    "        self.Phenotype = phenotype\n",
    "\n",
    "    def __lt__(self, other):\n",
    "        return True\n",
    "\n",
    "class Param:\n",
    "    mutation_rate_res: float = 0.1\n",
    "    mutation_rate_ses: float = 0.01"
   ],
   "outputs": [],
   "execution_count": 33
  },
  {
   "metadata": {
    "ExecuteTime": {
     "end_time": "2025-03-24T12:55:00.785457Z",
     "start_time": "2025-03-24T12:55:00.781141Z"
    }
   },
   "cell_type": "code",
   "source": [
    "\n",
    "# Abstract class to allow for undefined distribution passing to grow function\n",
    "class Distribution:\n",
    "    @abstractmethod\n",
    "    def sample(self) -> int:\n",
    "        pass\n",
    "\n",
    "# Specific distribution implementations\n",
    "class Poisson(Distribution):\n",
    "    mean: float\n",
    "\n",
    "    def __init__(self, mean: float):\n",
    "        self.mean = mean\n",
    "\n",
    "    def sample(self) -> float:\n",
    "        return sp.stats.poisson.rvs(self.mean)"
   ],
   "outputs": [],
   "execution_count": 34
  },
  {
   "metadata": {
    "ExecuteTime": {
     "end_time": "2025-03-24T12:55:00.800808Z",
     "start_time": "2025-03-24T12:55:00.795201Z"
    }
   },
   "cell_type": "code",
   "source": [
    "def divide(cell: Cell, mutationrate: float, spontaneous: bool) -> (Cell, Cell):\n",
    "    new_phenotype: Phenotype = cell.Phenotype\n",
    "    if spontaneous and mutationrate > np.random.rand():\n",
    "        if cell.Phenotype == Phenotype.Sensitive:\n",
    "            new_phenotype = Phenotype.Resistant\n",
    "    return Cell(new_phenotype), Cell(new_phenotype)\n",
    "\n",
    "# Simulate growth of cell culture\n",
    "def grow(population_size: int, dist: Distribution, mutationrate: float, spontaneous: bool, MAXTIME = 10000) -> list[Cell]:\n",
    "    population: list[Cell] = [Cell(Phenotype.Sensitive)]\n",
    "\n",
    "    # Stack for cells which can be divided\n",
    "    ready_population_stack: list[Cell] = []\n",
    "\n",
    "    # Min Heap for next cell to be divided by time\n",
    "    heap: list[(int, Cell)] = []\n",
    "    heapify(heap)\n",
    "    t: int = 0\n",
    "\n",
    "    # Initialize first Cell in heap\n",
    "    heappush(heap, (dist.sample(), population[0]))\n",
    "\n",
    "    # Simulation\n",
    "    while len(population) < population_size:\n",
    "        # Divide parent cell\n",
    "        dt, p = heappop(heap)\n",
    "        t = dt\n",
    "        population.remove(p)\n",
    "        c1, c2 = divide(p, mutationrate, spontaneous)\n",
    "\n",
    "        # Add children to population\n",
    "        population.append(c1)\n",
    "        population.append(c2)\n",
    "\n",
    "        # Allow cells to divide again\n",
    "        heappush(heap, (t + dist.sample(), c1))\n",
    "        heappush(heap, (t + dist.sample(), c2))\n",
    "\n",
    "    while len(population) != population_size:\n",
    "        population.remove(np.random.choice(population))\n",
    "\n",
    "    return population"
   ],
   "outputs": [],
   "execution_count": 35
  },
  {
   "metadata": {
    "ExecuteTime": {
     "end_time": "2025-03-24T12:55:00.814699Z",
     "start_time": "2025-03-24T12:55:00.811347Z"
    }
   },
   "cell_type": "code",
   "source": [
    "def count_population(population: list[Cell]) -> [int, int]:\n",
    "    counts: [int, int] = [0, 0]\n",
    "    for p in population:\n",
    "        if p.Phenotype == Phenotype.Sensitive:\n",
    "            counts[0] += 1\n",
    "        else:\n",
    "            counts[1] += 1\n",
    "    return counts"
   ],
   "outputs": [],
   "execution_count": 36
  },
  {
   "metadata": {
    "ExecuteTime": {
     "end_time": "2025-03-24T12:55:24.625040Z",
     "start_time": "2025-03-24T12:55:00.824933Z"
    }
   },
   "cell_type": "code",
   "source": [
    "total_counts_sensitive_induced = []\n",
    "total_counts_resistant_induced = []\n",
    "\n",
    "total_counts_sensitive_spontaneous = []\n",
    "total_counts_resistant_spontaneous = []\n",
    "\n",
    "mutation_rate = 0.1\n",
    "\n",
    "for i in range(100):\n",
    "    counts = count_population(grow(1000, Poisson(5), mutation_rate, True))\n",
    "    total_counts_sensitive_spontaneous.append(counts[0])\n",
    "    total_counts_resistant_spontaneous.append(counts[1])\n",
    "\n",
    "for i in range(100):\n",
    "    population = grow(1000, Poisson(5), mutation_rate, False)\n",
    "    counts = [0, 0]\n",
    "    for p in population:\n",
    "        if np.random.rand() < mutation_rate:\n",
    "            counts[1] += 1\n",
    "        else:\n",
    "            counts[0] += 1\n",
    "\n",
    "    total_counts_sensitive_induced.append(counts[0])\n",
    "    total_counts_resistant_induced.append(counts[1])"
   ],
   "outputs": [],
   "execution_count": 37
  },
  {
   "metadata": {
    "ExecuteTime": {
     "end_time": "2025-03-24T12:55:28.576659Z",
     "start_time": "2025-03-24T12:55:28.180482Z"
    }
   },
   "cell_type": "code",
   "source": [
    "fig, (ax1, ax2) = plt.subplots(1, 2, figsize=(15, 5))\n",
    "sns.histplot(total_counts_sensitive_induced, ax=ax1, label=\"Sensitive\")\n",
    "sns.histplot(total_counts_resistant_induced, ax=ax1, label=\"Resistant\")\n",
    "ax1.set_title(\"Induced resistance\")\n",
    "sns.histplot(total_counts_sensitive_spontaneous, ax=ax2, label=\"Sensitive\")\n",
    "sns.histplot(total_counts_resistant_spontaneous, ax=ax2, label=\"Resistant\")\n",
    "ax2.set_title(\"Spontaneous resistance\")\n",
    "ax1.legend()\n",
    "ax2.legend()\n",
    "plt.show()"
   ],
   "outputs": [
    {
     "data": {
      "text/plain": [
       "<Figure size 1500x500 with 2 Axes>"
      ],
      "image/png": "[encoded data removed]"
     },
     "metadata": {},
     "output_type": "display_data"
    }
   ],
   "execution_count": 39
  },
  {
   "metadata": {
    "ExecuteTime": {
     "end_time": "2025-03-24T12:55:25.022567Z",
     "start_time": "2025-03-24T12:55:25.018621Z"
    }
   },
   "cell_type": "code",
   "source": "",
   "outputs": [],
   "execution_count": null
  }
 ],
 "metadata": {
  "kernelspec": {
   "display_name": "Python 3",
   "language": "python",
   "name": "python3"
  },
  "language_info": {
   "codemirror_mode": {
    "name": "ipython",
    "version": 3
   },
   "file_extension": ".py",
   "mimetype": "text/x-python",
   "name": "python",
   "nbconvert_exporter": "python",
   "pygments_lexer": "ipython3",
   "version": "3.8.5"
  }
 },
 "nbformat": 4,
 "nbformat_minor": 4
}
