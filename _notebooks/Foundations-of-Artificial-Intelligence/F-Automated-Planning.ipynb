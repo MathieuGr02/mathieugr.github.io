{
 "cells": [
  {
   "metadata": {},
   "cell_type": "markdown",
   "source": [
    "classification\n",
    "\n",
    "- static\n",
    "- determenistic\n",
    "- fully observable\n",
    "- discrete\n",
    "- single agent\n",
    "- general"
   ],
   "id": "c0f30dcfe2b5ef1b"
  },
  {
   "metadata": {},
   "cell_type": "markdown",
   "source": [
    "# Automated planning\n",
    "\n",
    "Is a way of finding plans (sequences of actions) that lead from an initial state to a goal state.\n",
    "Here we look at classic planning\n",
    "- General approach to finding solutions for state space search problems\n",
    "- Classic = static, deterministic, fully observable\n",
    "- Variants: Probalistic planning, planning under partial observability, online planning, etc.\n",
    "\n",
    "Given\n",
    "- A state space description in terms of suitable problem description language (planning formalism)\n",
    "\n",
    "Required\n",
    "- A plan, i.e. a solution for the described state space (sequence of actions from initial state to goal state)\n",
    "- Or proof that no plan exists\n",
    "\n",
    "Distinguish between\n",
    "- Optimal planning: Guarantee that the returned plans are optimal, i.e., have minimal overall cost\n",
    "- Suboptimal planning (satisficing): Suboptimal plans are allowed"
   ],
   "id": "80da667fedd5de24"
  },
  {
   "metadata": {},
   "cell_type": "markdown",
   "source": [
    "# Four planning\n",
    "\n",
    "A description language for state spaces (planning tasks) is called a planning formalism."
   ],
   "id": "4796a22bb2cd11ba"
  },
  {
   "metadata": {},
   "cell_type": "markdown",
   "source": [
    "# STRIPS\n",
    "\n",
    "- It is the most simple common planning formalism.\n",
    "- State variables are binary (true or false)\n",
    "- States $s$ (based on a given set of state variables $V$) can be represented in two equivalent ways\n",
    "    - As assignments $s: V \\rightarrow \\{\\mathbf{T}, \\mathbf{F}\\}$\n",
    "    - As sets $s \\subseteq V$ where $s$ encodes the set of state variables that are true in $s$.\n",
    "- Goals and preconditions of actions are given as sets of variables that must be true (values of other variables do not matter)\n",
    "- Effects of actions are given as sets of variables that are set to true and set to false, respectively\n",
    "\n",
    "## Definition\n",
    "\n",
    "A STRIPS planning task is a 4 tuple $\\prod = \\langle V, I, G, A \\rangle$ with\n",
    "- $V$: Finite set of state variables\n",
    "- $I \\subseteq V$: The initial state\n",
    "- $G \\subseteq V$: The set of goals\n",
    "- $A$: Finite set of actions where for all actions $a \\in A$, the following is defined:\n",
    "    - $pre(a) \\subseteq V$: The preconditions of $a$\n",
    "    - $add(a) \\subseteq V$: The add effects of $a$\n",
    "    - $del(a) \\subseteq V$: The delete effects of $a$\n",
    "    - $cost(a) \\in \\mathbb{N}_0$: The cost of $a$\n",
    "\n",
    "Given thr STRIPS planning task. Then $\\prod$ induces the state space $\\mathcal{S}(\\prod) = \\langle S, A, cost, T, s_I, S_G \\rangle$:\n",
    "- Set of states $S = 2^V$\n",
    "- Actions: actions $A$ as defined in $\\prod$\n",
    "- Action costs: $cost$ as defined in $\\prod$\n",
    "- Transitions: $s \\xrightarrow[]{a} s'$ for states $s,s' \\in S$ and action $a \\in A$ iff\n",
    "    - $pre(a) \\subseteq s$ (precondition satisfied)\n",
    "    - $s' = (s \\textbackslash del(a)) \\cup add(a)$ (effects are applied)\n",
    "- Initial state: $s_I = I$\n",
    "- Goal state: $s \\in S_G$ for state $s$ iff $G \\subseteq s$ (goals reached)"
   ],
   "id": "53b9ee51015cb73d"
  },
  {
   "metadata": {},
   "cell_type": "markdown",
   "source": [
    "# ADL\n",
    "\n",
    "Like STRIPS, ADL uses propositional variables (true / false) as state variables. Preconditions of actions and goal are arbitrary logic formulas (action applicable / goal reached in states that satisfy the formula). In Addition to STRIPS effects, there are conditional effects: variable $v$ is only set to true / false if a given logical formula is true in the current state.\n",
    "\n",
    "# SAS+\n",
    "\n",
    "Very similair to STRIPS: state variables not necessarily binary, but with given finite domain. States are assignments to these variables. Preconditions and goals given as partial assignments. Effects are assignments to subset of variables.\n",
    "\n",
    "# PDDL\n",
    "\n",
    "Is standard language used in practice to describe planning tasks. Descriptions in predicate logic instead of propositional logic. Other features lke numeric variables and derived variables (axioms) for defining complex logical conditions (formulas that are automatically evaluated in every state and can, e.g. be used in preconditions). There exist defined PDDL fragments for STRIPS and ADL: many planners only support the STRIPS fragment."
   ],
   "id": "e06ec6e4d3d33d66"
  }
 ],
 "metadata": {
  "kernelspec": {
   "display_name": "Python 3",
   "language": "python",
   "name": "python3"
  },
  "language_info": {
   "codemirror_mode": {
    "name": "ipython",
    "version": 2
   },
   "file_extension": ".py",
   "mimetype": "text/x-python",
   "name": "python",
   "nbconvert_exporter": "python",
   "pygments_lexer": "ipython2",
   "version": "2.7.6"
  }
 },
 "nbformat": 4,
 "nbformat_minor": 5
}
