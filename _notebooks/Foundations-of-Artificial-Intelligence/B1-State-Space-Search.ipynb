{
 "cells": [
  {
   "metadata": {},
   "cell_type": "markdown",
   "source": [
    "---\n",
    "title: State-Space Search\n",
    "layout: collection\n",
    "permalink: /Foundations-of-Artificial-Intelligence/State-Space-Search\n",
    "collection: Foundations-of-Artificial-Intelligence\n",
    "entries_layout: grid\n",
    "mathjax: true\n",
    "toc: true\n",
    "categories:\n",
    "  - study\n",
    "tags:\n",
    "  - programming\n",
    "---"
   ],
   "id": "80ffb006c2a5b94b"
  },
  {
   "metadata": {},
   "cell_type": "markdown",
   "source": [
    "# State Spaces\n",
    "\n",
    "Here consider our state space to \n",
    "\n",
    "- Static\n",
    "- Determenistic\n",
    "- Fully observable\n",
    "- Discrete\n",
    "- Single-agent\n",
    "- Problem-specific"
   ],
   "id": "33377e03da080d08"
  },
  {
   "metadata": {},
   "cell_type": "markdown",
   "source": [
    "## Formalization\n",
    "\n",
    "A state space or transition system is a 6-tuple $\\mathcal{S} = \\langle S, A, cost, T, s_I, S_G \\rangle$ with \n",
    "- Finite set of states $S$\n",
    "- Finite set of actions $A$\n",
    "- Action costs: $cost: A \\rightarrow \\mathbb{R}_0^+$\n",
    "- Transition relation $T \\subseteq S \\times A \\times S$\n",
    "- Initial state $s_I \\in S$\n",
    "- Goal states $S_G \\subseteq S$\n",
    "\n",
    "Consider a state space as defined above.\n",
    "The triples $\\langle s, a, s' \\rangle \\in T$ are called (state) transitions.\n",
    "$S$ has a transition $\\langle s, a, s'\\rangle$ if $\\langle s, a, s'\\rangle \\in T$. We also write this as $s \\xrightarrow[]{a} s'$.  \n",
    "Transitions are determenistic in $\\langle s, a\\rangle$: it is forbidden to have both $s \\xrightarrow[]{a} s_1$ and $s \\xrightarrow[]{a} s_2$. with $s_1 \\neq s_2$.\n",
    "\n",
    "Let $s,s' \\in S$ be states with $s \\rightarrow s'$:\n",
    "- $s$ is a predecessor of $s'$\n",
    "- $s'$ is a successor of $s$\n",
    "If $s \\xrightarrow[]{a} s'$, then action $a$ is applicable in $s$.\n",
    "\n",
    "Let $s_0,...,s_n\\in S$ be states and $a_1,...,a_n \\in A$ be actions such that $s_0 \\xrightarrow[]{a_1} s_1,...,s_{n-1} \\xrightarrow[]{a_n} s_n$\n",
    "- $\\pi = \\langle a_1,...,a_n \\rangle$ is a path from $s_0$ to $s_1$.\n",
    "- length of $\\pi$: $|\\pi| = n$\n",
    "- cost of $\\pi$: $cost(\\pi) = \\sum_{i=1}^{n} cost(a_i)$\n",
    "\n",
    "- State $s$ is reachable if a path from $s_I$ to $s$ exists\n",
    "- Paths from $s \\in S$ to some state $s_G \\in S_G$ are solutions for/from $s$\n",
    "- Solutions for $s_I$ are called solutions for $S$\n",
    "- Optimal solutions (for $s$) have minimal costs among all solutions (for $s$)"
   ],
   "id": "8948a73de38366fe"
  },
  {
   "metadata": {},
   "cell_type": "markdown",
   "source": [
    "## Explicit Graphs\n",
    "\n",
    "In explicit graphs we represent the state space as a directed graph. The vertices are states and the directed arcs are transitions. This form can be represented using an adjacency list / matrix.\n",
    "\n",
    "This method is often impossable for large state spaces, as it requires to much memory. If the space is small enough, solutions are easy to compute using for example the Dijkstra's algorithm."
   ],
   "id": "28c30aae961e7f67"
  },
  {
   "metadata": {},
   "cell_type": "markdown",
   "source": [
    "## Declerative Representation\n",
    "\n",
    "Here the state space is represented declaratively. It provides a compact description of state space as input to algorithms, where then the algorithm directly operates on the compact description."
   ],
   "id": "c8ba8d5adb15217"
  },
  {
   "metadata": {},
   "cell_type": "markdown",
   "source": [
    "## Black Box\n",
    "\n",
    "Here the state space can be seen as an abstract interface with methods.\n",
    "\n",
    "- init() : Generate initial state\n",
    "- is_goal(s) : Check if state is goal\n",
    "- succ(s) : Generate applicable actions and successors of $s$\n",
    "- cost(a) : Gives cost of action $a$"
   ],
   "id": "5611c91b3e2eb342"
  },
  {
   "metadata": {},
   "cell_type": "markdown",
   "source": [
    "## Search Algorithms\n",
    "\n",
    "In a search algorithm we iteratively create a search tree.\n",
    "We start with the initial state and from there expand a state by generating its successors. This process is repeated when the goal state is expanded / generated, or all reachable states have been considered.\n",
    "\n",
    "For the search algorithm we consider three data structures\n",
    "- Search Node: Stores a state that has been reached, how it was reached, and at which cost.\n",
    "- Open List: Efficiently organizes leaves of search tree\n",
    "- Closed List: Remembers expanded states to avoid duplicated expansion of the same state\n",
    "\n",
    "### Search Node\n",
    "\n",
    "A search node stores a state that has been reached, how it was reached and at which cost. They form the search tree.\n",
    "\n",
    "- state: State associated with node\n",
    "- parent: Search node that generated node\n",
    "- action: action leading from parent to node\n",
    "- path_cost: cost of path from $s_I$ to node ($g(n)$)\n",
    "\n",
    "### Open List\n",
    "\n",
    "The open list organizes the leaves of a search tree. It must support two operations efficiently\n",
    "- Determine and remove the next node to expand\n",
    "- Insert a new node that is a candidate node for expansion\n",
    "\n",
    "- is_empty() : Check if open list is empty\n",
    "- pop() : Remove and return the next node to expand\n",
    "- insert(n) : Insert node $n$ into the open list\n",
    "\n",
    "The open list determines the strategy for which node to expand next.\n",
    "\n",
    "A efficient implementation is a heap.\n",
    "\n",
    "### Closed List\n",
    "\n",
    "The closed list remembers expanded states to avoid duplicated expansion of the same state.\n",
    "\n",
    "It must support two operations efficiently\n",
    "- Insert a node whose state is not yet in the closed list\n",
    "- Test if a node with a given state is in the closed list; if yes, return it\n",
    "\n",
    "- insert(n) : Inser node $n$ into closed\n",
    "- lookup(s) : Test if a node with state s exists in the closed list. If yes return it; otherwise return none\n",
    "\n",
    "A efficient implementation is a hash table."
   ],
   "id": "e350c6c1a89822a3"
  },
  {
   "metadata": {},
   "cell_type": "code",
   "outputs": [],
   "execution_count": null,
   "source": "",
   "id": "f843988c6b32fd"
  }
 ],
 "metadata": {
  "kernelspec": {
   "display_name": "Python 3",
   "language": "python",
   "name": "python3"
  },
  "language_info": {
   "codemirror_mode": {
    "name": "ipython",
    "version": 2
   },
   "file_extension": ".py",
   "mimetype": "text/x-python",
   "name": "python",
   "nbconvert_exporter": "python",
   "pygments_lexer": "ipython2",
   "version": "2.7.6"
  }
 },
 "nbformat": 4,
 "nbformat_minor": 5
}
