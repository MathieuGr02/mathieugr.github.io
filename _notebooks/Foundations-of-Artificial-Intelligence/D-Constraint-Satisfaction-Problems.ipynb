{
 "cells": [
  {
   "metadata": {},
   "cell_type": "markdown",
   "source": [
    "In a constraint satisfaction problem we're looking at a\n",
    "\n",
    "- Static\n",
    "- Determenistic\n",
    "- Fully observable\n",
    "- Discrete\n",
    "- Single agent\n",
    "\n",
    "problem.\n",
    "\n",
    "Given a set of variables with corresponding domains, we have a set of constraints that the variables must satisfy. The solution is then an assigmnement of the variables such that all constraints are fullfilled."
   ],
   "id": "811f58f1a90c7628"
  },
  {
   "metadata": {},
   "cell_type": "markdown",
   "source": [
    "# Constraint Networks\n",
    "\n",
    "A constraint network is defined by \n",
    "\n",
    "- A finite set of variables\n",
    "- A finite set of domains for each variable\n",
    "- A set of constraints\n",
    "\n",
    "The objective is to find a solution for the constraint network that complies with all the constraints.\n",
    "\n",
    "### Definition\n",
    "\n",
    "A (binary) constraint network is a 3-tuple $\\mathcal{C} = \\langle V, dom, (R_{uv}) \\rangle$ such that\n",
    "\n",
    "- $V$ is a non-empty and finite set of variables\n",
    "- $dom$ is a function that assigns a non-empty and finite domain to each variable $v \\in V$ and \n",
    "- $(R_{uv})_{u,v \\in V, u \\neq v}$ is a family of binary relations (constraints) over $V$ where for all $u \\neq v$: $R_{uv} \\subseteq dom(u) \\times dom(v)$\n",
    "\n",
    "if $R_{uv} = dom(u) \\times dom(v)$ then the constraint is trivial, there are no restrictions.\n",
    "\n",
    "Constraints networks allow for compact encodings of large sets of assignements. Consider a network with $n$ variables with domains of size $k$, which gives $k^n$ assignments. \n",
    "For the description as a constraint network, at most $ \\begin{pmatrix} n \\\\ 2 \\end{pmatrix} $, i.e., $O(n^2)$ constraints have to be provided. Each constraint in turn consists of at most $O(k^2)$ pairs, which gives an encoding size of $O(n^2 k^2)$. The number of assignements is exponentially larger than the description of the constraint network. As a consequence, such descriptions can be used as inputs of general constraint solvers.\n",
    "\n",
    "Let $\\mathcal{C} = \\langle V, dom, (R_{uv}) \\rangle$ be a constraint network. A partial assignment of $\\mathcal{C}$ (or of $V$) is a function\n",
    "\n",
    "$$\n",
    "\\alpha: V' \\rightarrow \\bigcup_{v \\in V} dom(v)\n",
    "$$\n",
    "\n",
    "with $V' \\subseteq V$ and $\\alpha(v) \\in dom(v)$ for all $v \\in V'$.\n",
    "If $V' = V$, then $\\alpha$ is called total assignment.\n",
    "\n",
    "A partial assignment of $\\alpha$ of a constraint network $\\mathcal{C}$ is called inconsistent if there are variables $u, v$ such that $\\alpha$ is defined for both $u$ and $v$ and $\\langle \\alpha(u), \\alpha(v) \\rangle \\notin R_{uv}$\n",
    "\n",
    "In this case, we say $\\alpha$ violates the constraint $R_{uv}$. A partial assignment is called consistent if it is not inconsistent.\n",
    "\n",
    "Let $\\mathcal{C}$ be a constraint network. A consistent and total assignment of $\\mathcal{C}$ is called a solution of $\\mathcal{C}$. If a solution of $\\mathcal{C}$ exists, $\\mathcal{C}$ is called solvable. If no solution exists, $\\mathcal{C}$ is called inconsistent.\n",
    "\n",
    "Consistent partial assignments $\\alpha$ cannot necessarily be extended to a solution. It only means that so far (only the variables where $\\alpha$ is defined) no constraint is violated.\n",
    "\n",
    "It is a NP-complete problem to decide whether a given constraint network is solvable.\n",
    "\n",
    "Let $\\mathcal{C} = \\langle V, dom, R_{uv} \\rangle$ and $\\mathcal{C}' = \\langle V, dom', R'_{uv} \\rangle$ be constraint networks with equal variable sets $V$. $\\mathcal{C}$ is called tighter than $\\mathcal{C}'$, in symbols $\\mathcal{C} \\sqsubseteq \\mathcal{C}'$, if \n",
    "\n",
    "- $dom(v) \\subseteq dom'(v)$ for all $v \\in V$ \n",
    "- $R_{uv} \\subseteq R'_{uv}$ for all $u, v \\in V$\n",
    "\n",
    "If at least one of these subset equations is strict, then $\\mathcal{C}$ is called strictly tighter than $\\mathcal{C}'$, in symbols $\\mathcal{C} \\sqsubset \\mathcal{C}'$.\n",
    "\n",
    "Let $\\mathcal{C}$ and $\\mathcal{C}$ be constraint networks with equal variable sets. $\\mathcal{C}$ and $\\mathcal{C}'$ are called equivalent, in symbols $\\mathcal{C} \\equiv \\mathcal{C}$, if they have the same solution."
   ],
   "id": "be6266354073f162"
  },
  {
   "metadata": {},
   "cell_type": "markdown",
   "source": [
    "## Naive Backtracking\n",
    "\n",
    "Without inference, the naive backtracking algorithm is given as "
   ],
   "id": "97430193ce9fd15e"
  },
  {
   "metadata": {},
   "cell_type": "code",
   "outputs": [],
   "execution_count": null,
   "source": [
    "def NaiveBacktracking(C, alpha):\n",
    "    V, dom, R_uv := C\n",
    "    if alpha is inconsistent with C:\n",
    "        return inconsistent\n",
    "    if alpha is total assignment:\n",
    "        return alpha\n",
    "    \n",
    "    select some variable v for which alpha is not defined\n",
    "    for each d in dom(v) in some order:\n",
    "        alpha' = alpha U {v -> d}\n",
    "        alpha'' = NaiveBacktracking(C, alpha')\n",
    "        if alpha'' not inconsistent:\n",
    "            return alpha''\n",
    "    return inconsistent"
   ],
   "id": "3bd486c2028416e5"
  },
  {
   "metadata": {},
   "cell_type": "markdown",
   "source": [
    "Backtracking corresponds to DFS with the following state space\n",
    "\n",
    "- States: Partial assignments\n",
    "- Initial state: Empty assignment\n",
    "- Goal states: Consistent total assignment\n",
    "- Actions: assign$_{v,d}$ assigns value $d \\in dom(v)$ to variable $v$\n",
    "- Action costs: All 0\n",
    "- Transitions: For each non-total consistent assignment $\\alpha$, choose variable $v = select(\\alpha)$ that is unassigned in $\\alpha$. Transition $\\alpha \\rightarrow \\alpha \\cup \\{v \\mapsto d\\}$ for each $d \\in dom(v)$\n",
    "\n",
    "Through the DFS, the state space is a directed tree without duplicates.\n",
    "Naive Backtracking often has to exhaustively explore similar paths. More Critical variables are not recognized and hence considered for the assignment too late. Decisions that lead to constraint violates are only recognized when all variables involved in the constraint have been assigned.\n",
    "\n",
    "Backtracking does not specify the order in which the variables are considered for the assignment. It also does not specify in which order the values of the selected variable $v$ are considered.\n",
    "\n",
    "We distinguish\n",
    "- Static orders: Fixed prior to search\n",
    "- Dynamic orders: Selected variable or value order depends on the search state\n",
    "\n",
    "Two common variable ordering criteria\n",
    "- Minimum remaining values: Prefer variables that have small domains.\n",
    "- Most constraining variable: Prefer variables contained in many nontrivial constraints.\n",
    "\n",
    "Let $\\mathcal{C} = \\langle V, dom, (R_{uv}) \\rangle$ be a constraint network. For variables $v \\neq v'$ and values $d \\in dom(v), d' \\in dom(v')$, the assignment $v \\mapsto d$ is in conflict with $v' \\mapsto d'$ if $\\langle d, d' \\rangle \\notin R_{vv'}$ \n",
    "\n",
    "The value ordering criterion for a partial assignment $\\alpha$ and selected variable $v$, is that we prefer values $d \\in dom(v)$ such that $v \\mapsto d$ causes as few conflicts as possible with variables that are unassigned in $\\alpha$."
   ],
   "id": "2085ed4b5bc5bb39"
  },
  {
   "metadata": {},
   "cell_type": "markdown",
   "source": [
    "## Inference\n",
    "\n",
    "Here we derive additional constraints that are implied by the given constraints, i.e., that are satisfied in all solutions.\n",
    "\n",
    "For a given constraint network $\\mathcal{C}$, replace $\\mathcal{C}$ with an equivalent, but tighter constraint network. The more complex the inference and the more often inference is applied, the smaller the resulting state space but the higher the complexity per seach node.\n",
    "\n",
    "We can apply inference once, as a preprocessing before search or combine it with search, where before each recursive call, due to the assignments of variables $v \\mapsto d$, more inference is possible and during backtrackng, where derived constraint have to be retracted."
   ],
   "id": "2d6bd6dfa898b0ba"
  },
  {
   "metadata": {},
   "cell_type": "code",
   "outputs": [],
   "execution_count": null,
   "source": [
    "def NaiveBacktrackingWithInference(C, alpha):\n",
    "    V, dom, R_uv := C\n",
    "    if alpha is inconsistent with C:\n",
    "        return inconsistent\n",
    "    if alpha is total assignment:\n",
    "        return alpha\n",
    "    C' := <V, dom', R'> := copy of C\n",
    "    apply inference to C'\n",
    "    if dom'(v) =/= for all variables v:\n",
    "    select some variable v for which alpha is not defined\n",
    "        for each d in dom(v) in some order:\n",
    "            alpha' = alpha U {v -> d}\n",
    "            dom'(v) = {d}\n",
    "            alpha'' = NaiveBacktrackingWithInference(C', alpha')\n",
    "            if alpha'' not inconsistent:\n",
    "                return alpha''\n",
    "    return inconsistent"
   ],
   "id": "2516b0362732ce7"
  },
  {
   "metadata": {},
   "cell_type": "markdown",
   "source": [
    "## Forward Checking\n",
    "\n",
    "Let $\\alpha$ be a partial assignment. Inference: For all unassigned variables $v$ in $\\alpha$, remove all values from the domain of $v$ that are in conflict with already assigned variable/value pairs in $\\alpha$.\n",
    "\n",
    "Properties:\n",
    "- Correct inference method (retains equivalence)\n",
    "- Affects domains but not constraints\n",
    "- Consistency check at the beginning of the backtracking procedure no longer needed\n",
    "- Cheap but useful"
   ],
   "id": "997e9b605d881ce"
  },
  {
   "metadata": {},
   "cell_type": "markdown",
   "source": [
    "## Arc Consistency\n",
    "\n",
    "Let $\\mathcal{C} = \\langle V, dom, (R_{uv}) \\rangle$ be a constraint network. \n",
    "1. The variable $v \\in V$ is arc consistent with respect to another variable $v' \\in V$, if for every value $d \\in dom(v)$ there exist a value $d'\\in dom(v')$ with $\\langle d,d' \\rangle \\in R_{vv'}$.\n",
    "2. The constraint network $\\mathcal{C}$ is arc consistent if every variable $v \\in V$ is arc consistent with respect to every other variable $v' \\in V$.\n",
    "\n",
    "This can be enforced by removing values from the $dom(v)$ that violate the arc consistency of $v$ w.r.t $v'$. This method is more powerful than forward checking."
   ],
   "id": "efd21c64fb5cccc8"
  },
  {
   "metadata": {},
   "cell_type": "code",
   "outputs": [],
   "execution_count": null,
   "source": [
    "def revise(C, v, v'):\n",
    "    <V, dom, R_uv> = C\n",
    "    for each d in dom(v): \n",
    "        if there is no d' in dom(v') with (d,d') in R_vv':\n",
    "            remove d from dom(v)\n",
    "    \n",
    "# Enforcing arc consistency\n",
    "def AC1(C):\n",
    "    <V, dom, R_uv> = C\n",
    "    repeat:\n",
    "        for each nontrivial constraint R_uv:\n",
    "            revise(C, u, v)\n",
    "            revise(C, v, u)\n",
    "    until no domain has changed in this iteration     "
   ],
   "id": "50e7decb67fa0d70"
  },
  {
   "metadata": {},
   "cell_type": "markdown",
   "source": "The problem is that AC is rather inefficient. It has a running time of $O(n \\cdot e \\cdot k^3)$, with $n$ variables, $e$ nontrivial constraints and maximal domain size $k$. Variable pairs are often checked again and again altough their domains have remained unchanged.",
   "id": "915e53a8889f9db8"
  },
  {
   "metadata": {},
   "cell_type": "code",
   "outputs": [],
   "execution_count": null,
   "source": [
    "def AC3(C):\n",
    "    <V, dom, R_uv> = C\n",
    "    queue = []\n",
    "    for each nontrivial constraint R_uv:\n",
    "        insert u, v into queue\n",
    "        insert v, u into queue\n",
    "    while queue != []:\n",
    "        remove arbitrary element (u, v) from queue\n",
    "        revise(C, u, v)\n",
    "        if dom(u) changed in the call to revise \n",
    "            for each w in V \\ {u, v} where R_wu is nontrivial:\n",
    "                insert w, u into queue"
   ],
   "id": "18766093fae0b3d8"
  },
  {
   "metadata": {},
   "cell_type": "markdown",
   "source": [
    "The time complexity of AC-3 is $O(e \\cdot k^3)$\n",
    "\n",
    "### Proof\n",
    "\n",
    "Consider a pair $\\langle u, v \\rangle$ such that there exists a nontrivial constraint $R_{uv}$ or $R_{vu}$. (There are at most 2e of such pairs.)\n",
    "Every time this pair is inserted to the queue (except for the first time) the domain of the second variable has just been reduced.\n",
    "This can happen at most $k$ times.\n",
    "Hence every pair $\\langle u, v \\rangle$ is inserted into the queue at most $k + 1$ times $\\rightarrow$ at most $O(e \\cdot k)$ insert operations in total.\n",
    "This bounds the number of while iterations by $O(e \\cdot k)$, giving an overall time complexity of $O(e\\cdot k) \\cdot O(k^2) = O(e\\cdot k^3)$."
   ],
   "id": "7d50e14d472f8568"
  }
 ],
 "metadata": {
  "kernelspec": {
   "display_name": "Python 3",
   "language": "python",
   "name": "python3"
  },
  "language_info": {
   "codemirror_mode": {
    "name": "ipython",
    "version": 2
   },
   "file_extension": ".py",
   "mimetype": "text/x-python",
   "name": "python",
   "nbconvert_exporter": "python",
   "pygments_lexer": "ipython2",
   "version": "2.7.6"
  }
 },
 "nbformat": 4,
 "nbformat_minor": 5
}
